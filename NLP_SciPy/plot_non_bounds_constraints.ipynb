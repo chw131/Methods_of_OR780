{
 "cells": [
  {
   "cell_type": "code",
   "execution_count": 1,
   "metadata": {
    "ExecuteTime": {
     "end_time": "2020-10-01T13:42:23.591424Z",
     "start_time": "2020-10-01T13:42:16.602373Z"
    }
   },
   "outputs": [
    {
     "name": "stderr",
     "output_type": "stream",
     "text": [
      "Matplotlib is building the font cache; this may take a moment.\n"
     ]
    }
   ],
   "source": [
    "%matplotlib inline"
   ]
  },
  {
   "cell_type": "markdown",
   "metadata": {},
   "source": [
    "\n",
    "Optimization with constraints\n",
    "================================\n",
    "\n",
    "An example showing how to do optimization with general constraints using\n",
    "SLSQP and cobyla.\n",
    "\n"
   ]
  },
  {
   "cell_type": "code",
   "execution_count": 2,
   "metadata": {
    "ExecuteTime": {
     "end_time": "2020-10-01T13:42:27.336587Z",
     "start_time": "2020-10-01T13:42:25.271796Z"
    }
   },
   "outputs": [
    {
     "data": {
      "image/png": "[encoded data removed]",
      "text/plain": [
       "<Figure size 216x180 with 1 Axes>"
      ]
     },
     "metadata": {
      "needs_background": "light"
     },
     "output_type": "display_data"
    }
   ],
   "source": [
    "import numpy as np\n",
    "import matplotlib.pyplot as plt\n",
    "from scipy import optimize\n",
    "\n",
    "x, y = np.mgrid[-2.03:4.2:.04, -1.6:3.2:.04]\n",
    "x = x.T\n",
    "y = y.T\n",
    "\n",
    "plt.figure(1, figsize=(3, 2.5))\n",
    "plt.clf()\n",
    "plt.axes([0, 0, 1, 1])\n",
    "\n",
    "contours = plt.contour(np.sqrt((x - 3)**2 + (y - 2)**2),\n",
    "                    extent=[-2.03, 4.2, -1.6, 3.2],\n",
    "                    cmap=plt.cm.gnuplot)\n",
    "plt.clabel(contours,\n",
    "        inline=1,\n",
    "        fmt='%1.1f',\n",
    "        fontsize=14)\n",
    "plt.plot([-1.5,    0,  1.5,    0, -1.5],\n",
    "        [   0,  1.5,    0, -1.5,    0], 'k', linewidth=2)\n",
    "plt.fill_between([ -1.5,    0,  1.5],\n",
    "                [    0, -1.5,    0],\n",
    "                [    0,  1.5,    0],\n",
    "                color='.8')\n",
    "plt.axvline(0, color='k')\n",
    "plt.axhline(0, color='k')\n",
    "\n",
    "plt.text(-.9, 2.8, '$x_2$', size=20)\n",
    "plt.text(3.6, -.6, '$x_1$', size=20)\n",
    "plt.axis('tight')\n",
    "plt.axis('off')\n",
    "\n",
    "# And now plot the optimization path\n",
    "accumulator = list()\n",
    "\n",
    "def f(x):\n",
    "    # Store the list of function calls\n",
    "    accumulator.append(x)\n",
    "    return np.sqrt((x[0] - 3)**2 + (x[1] - 2)**2)\n",
    "\n",
    "\n",
    "def constraint(x):\n",
    "    return np.atleast_1d(1.5 - np.sum(np.abs(x)))\n",
    "\n",
    "optimize.minimize(f, np.array([0, 0]), method=\"SLSQP\",\n",
    "                     constraints={\"fun\": constraint, \"type\": \"ineq\"})\n",
    "\n",
    "accumulated = np.array(accumulator)\n",
    "plt.plot(accumulated[:, 0], accumulated[:, 1])\n",
    "\n",
    "plt.show()"
   ]
  },
  {
   "cell_type": "code",
   "execution_count": null,
   "metadata": {},
   "outputs": [],
   "source": []
  }
 ],
 "metadata": {
  "kernelspec": {
   "display_name": "Python 3",
   "language": "python",
   "name": "python3"
  },
  "language_info": {
   "codemirror_mode": {
    "name": "ipython",
    "version": 3
   },
   "file_extension": ".py",
   "mimetype": "text/x-python",
   "name": "python",
   "nbconvert_exporter": "python",
   "pygments_lexer": "ipython3",
   "version": "3.7.9"
  },
  "varInspector": {
   "cols": {
    "lenName": 16,
    "lenType": 16,
    "lenVar": 40
   },
   "kernels_config": {
    "python": {
     "delete_cmd_postfix": "",
     "delete_cmd_prefix": "del ",
     "library": "var_list.py",
     "varRefreshCmd": "print(var_dic_list())"
    },
    "r": {
     "delete_cmd_postfix": ") ",
     "delete_cmd_prefix": "rm(",
     "library": "var_list.r",
     "varRefreshCmd": "cat(var_dic_list()) "
    }
   },
   "types_to_exclude": [
    "module",
    "function",
    "builtin_function_or_method",
    "instance",
    "_Feature"
   ],
   "window_display": false
  }
 },
 "nbformat": 4,
 "nbformat_minor": 1
}
