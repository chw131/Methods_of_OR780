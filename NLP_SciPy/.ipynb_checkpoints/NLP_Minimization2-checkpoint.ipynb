{
 "cells": [
  {
   "cell_type": "markdown",
   "metadata": {},
   "source": [
    "# Optimization using SciPy library"
   ]
  },
  {
   "cell_type": "markdown",
   "metadata": {},
   "source": [
    "The ```scipy.optimize``` package provides several commonly used optimization algorithms. This module contains the following aspects −\n",
    "\n",
    "* Unconstrained and constrained minimization of multivariate scalar functions (minimize()) using a variety of algorithms (e.g. BFGS, Nelder-Mead simplex, Newton Conjugate Gradient, COBYLA or SLSQP)\n",
    "\n",
    "* Global (brute-force) optimization routines (e.g., anneal(), basinhopping())\n",
    "\n",
    "* Least-squares minimization (leastsq()) and curve fitting (curve_fit()) algorithms\n",
    "\n",
    "* Scalar univariate functions minimizers (minimize_scalar()) and root finders (newton())\n",
    "\n",
    "* Multivariate equation system solvers (root()) using a variety of algorithms (e.g. hybrid Powell, Levenberg-Marquardt or large-scale methods such as Newton-Krylov)\n",
    "\n",
    "**Reference:** https://docs.scipy.org/doc/scipy/reference/optimize.html"
   ]
  },
  {
   "cell_type": "markdown",
   "metadata": {},
   "source": [
    "## Unconstrained & Constrained minimization of multivariate scalar functions\n",
    "The ```minimize()``` function provides a common interface to unconstrained and constrained minimization algorithms for multivariate scalar functions in ```scipy.optimize```. To demonstrate the minimization function, consider the problem of minimizing the **Rosenbrock function of the NN variables** −\n",
    "\n",
    "$$f(x) = \\sum_{i = 1}^{N-1} \\:100(x_i - x_{i-1}^{2})$$\n",
    "\n",
    "The minimum value of this function is $0$, which is achieved when $x_i = 1$."
   ]
  },
  {
   "cell_type": "markdown",
   "metadata": {},
   "source": [
    "## Nelder–Mead Simplex Algorithm\n",
    "\n",
    "In the following example, the ``minimize()`` routine is used with the Nelder-Mead simplex algorithm (``method = 'Nelder-Mead'``) (selected through the method parameter). Let us consider the following example.\n",
    "\n",
    "The [Rosenbrock function](https://mathworld.wolfram.com/RosenbrockFunction.html), also referred to as the **Valley or Banana function**, is a popular test problem for gradient-based optimization algorithms. It is shown in the plot above in its two-dimensional form. The function is ``unimodal``, and the ``global minimum`` lies in a narrow, parabolic valley.\n",
    "\n",
    "$$f(x_1,x_2) = 100(x_1 - x^2_2)^2 + (1- x_2)^2$$\n",
    "\n"
   ]
  },
  {
   "cell_type": "markdown",
   "metadata": {},
   "source": [
    "\n",
    "<img src=\"rosenbrock.png\" alt=\"rosenbrock\" width=\"640\"/>"
   ]
  },
  {
   "cell_type": "code",
   "execution_count": 1,
   "metadata": {
    "ExecuteTime": {
     "end_time": "2020-10-31T14:49:07.611299Z",
     "start_time": "2020-10-31T14:49:06.627271Z"
    }
   },
   "outputs": [
    {
     "name": "stdout",
     "output_type": "stream",
     "text": [
      "Optimization terminated successfully.\n",
      "         Current function value: 0.000000\n",
      "         Iterations: 339\n",
      "         Function evaluations: 571\n",
      " final_simplex: (array([[1.        , 1.        , 1.        , 1.        , 1.        ],\n",
      "       [1.        , 1.        , 1.        , 1.        , 1.        ],\n",
      "       [1.        , 1.        , 1.        , 1.00000001, 1.00000001],\n",
      "       [1.        , 1.        , 1.        , 1.        , 1.        ],\n",
      "       [1.        , 1.        , 1.        , 1.        , 1.        ],\n",
      "       [1.        , 1.        , 1.        , 1.        , 0.99999999]]), array([4.86115343e-17, 7.65182843e-17, 8.11395684e-17, 8.63263255e-17,\n",
      "       8.64080682e-17, 2.17927418e-16]))\n",
      "           fun: 4.861153433422115e-17\n",
      "       message: 'Optimization terminated successfully.'\n",
      "          nfev: 571\n",
      "           nit: 339\n",
      "        status: 0\n",
      "       success: True\n",
      "             x: array([1., 1., 1., 1., 1.])\n"
     ]
    },
    {
     "name": "stderr",
     "output_type": "stream",
     "text": [
      "C:\\Users\\chw\\Anaconda3\\envs\\mymisenv\\lib\\site-packages\\ipykernel_launcher.py:13: OptimizeWarning: Unknown solver options: full_output\n",
      "  del sys.path[0]\n"
     ]
    }
   ],
   "source": [
    "import numpy as np\n",
    "from scipy.optimize import minimize, rosen\n",
    "\n",
    "# Scipy has the Rosenbrock function built-in\n",
    "#def rosen(x):\n",
    "#    \"\"\"\"The Rosenbrock function\"\"\"\n",
    "#    return sum(100.0*(x[1:]-x[:-1]**2.0)**2.0 + (1-x[:-1])**2.0)\n",
    "    \n",
    "    \n",
    "x0 = np.array([1.3, 0.7, 0.8, 1.9, 1.2])\n",
    "#res = minimize(rosen, x0, method='nelder-mead')\n",
    "res = minimize(rosen, x0, method='nelder-mead',\n",
    "               options={'xatol': 1e-8, 'disp': True, 'full_output': True,})\n",
    "#res = minimize(rosen, x0, method='powell',\n",
    "#               options={'xtol': 1e-8, 'disp': True, 'return_all': True})\n",
    "#print(*res.allvecs, sep = \"\\n\")\n",
    "print(res)"
   ]
  },
  {
   "cell_type": "markdown",
   "metadata": {},
   "source": [
    "The simplex algorithm is probably the simplest way to minimize a fairly well-behaved function. It requires only function evaluations and is a good choice for simple minimization problems. However, because it does not use any gradient evaluations, it may take longer to find the minimum.\n",
    "\n",
    "Another optimization algorithm that needs only function calls to find the minimum is the Powell‘s method, which is available by setting ``method = 'powell'`` in the ``minimize()`` function."
   ]
  },
  {
   "cell_type": "markdown",
   "metadata": {},
   "source": [
    "# Least Squares\n",
    "\n",
    "Solve a nonlinear least-squares problem with bounds on the variables. Given the residuals f(x) (an m-dimensional real function of n real variables) and the loss function rho(s) (a scalar function), least_squares find a local minimum of the cost function F(x). Let us consider the following example.\n",
    "\n",
    "In this example, we find a minimum of the Rosenbrock function without bounds on the independent variables."
   ]
  },
  {
   "cell_type": "code",
   "execution_count": 2,
   "metadata": {
    "ExecuteTime": {
     "end_time": "2020-10-31T14:49:08.360345Z",
     "start_time": "2020-10-31T14:49:08.205289Z"
    }
   },
   "outputs": [
    {
     "name": "stdout",
     "output_type": "stream",
     "text": [
      " active_mask: array([0., 0.])\n",
      "        cost: 9.866924291084687e-30\n",
      "         fun: array([4.44089210e-15, 1.11022302e-16])\n",
      "        grad: array([-8.89288649e-14,  4.44089210e-14])\n",
      "         jac: array([[-20.00000015,  10.        ],\n",
      "       [ -1.        ,   0.        ]])\n",
      "     message: '`gtol` termination condition is satisfied.'\n",
      "        nfev: 3\n",
      "        njev: 3\n",
      "  optimality: 8.892886493421953e-14\n",
      "      status: 1\n",
      "     success: True\n",
      "           x: array([1., 1.])\n"
     ]
    }
   ],
   "source": [
    "#Rosenbrock Function\n",
    "def fun_rosenbrock(x):\n",
    "   return np.array([10 * (x[1] - x[0]**2), (1 - x[0])])\n",
    "   \n",
    "from scipy.optimize import least_squares\n",
    "\n",
    "input = np.array([2, 2])\n",
    "res = least_squares(fun_rosenbrock, input)\n",
    "\n",
    "print (res)"
   ]
  },
  {
   "cell_type": "markdown",
   "metadata": {},
   "source": [
    "Notice that, we only provide the vector of the residuals. The algorithm constructs the cost function as a sum of squares of the residuals, which gives the Rosenbrock function. The exact minimum is at ``x = [1.0,1.0]``.\n",
    "\n",
    "The above program will generate the following output."
   ]
  },
  {
   "cell_type": "markdown",
   "metadata": {},
   "source": [
    "<pre>active_mask: array([0., 0.])\n",
    "        cost: 9.866924291084687e-30\n",
    "         fun: array([4.44089210e-15, 1.11022302e-16])\n",
    "        grad: array([-8.89288649e-14,  4.44089210e-14])\n",
    "         jac: array([[-20.00000015,  10.        ],\n",
    "       [ -1.        ,   0.        ]])\n",
    "     message: '`gtol` termination condition is satisfied.'\n",
    "        nfev: 3\n",
    "        njev: 3\n",
    "  optimality: 8.892886493421953e-14\n",
    "      status: 1\n",
    "     success: True\n",
    "           x: array([1., 1.])\n",
    " </pre>"
   ]
  },
  {
   "cell_type": "markdown",
   "metadata": {},
   "source": [
    "# Root finding\n",
    "\n",
    "Let us understand how root finding helps in SciPy.\n",
    "\n",
    "## Scalar functions\n",
    "If one has a single-variable equation, there are four different root-finding algorithms, which can be tried. Each of these algorithms require the endpoints of an interval in which a root is expected (because the function changes signs). In general, **brentq** is the best choice, but the other methods may be useful in certain circumstances or for academic purposes.\n",
    "\n",
    "## Fixed-point solving\n",
    "A problem closely related to finding the zeros of a function is the problem of finding a fixed point of a function. A fixed point of a function is the point at which evaluation of the function returns the point: $g(x) = x$. Clearly the fixed point of **gg** is the root of $f(x) = g(x)−x$. Equivalently, the root of **ff** is the fixed_point of $g(x) = f(x)+x$. The routine fixed_point provides a simple iterative method using the **Aitkens sequence acceleration** to estimate the fixed point of gg, if a starting point is given.\n",
    "\n",
    "## Sets of equations\n",
    "Finding a root of a set of non-linear equations can be achieved using the **root() function**. Several methods are available, amongst which ```hybr``` (the default) and ```lm```, respectively use the **hybrid method of Powell** and **the Levenberg-Marquardt method** from the MINPACK.\n",
    "\n",
    "The following example considers the minimum of a single-variable transcendental equation $f(x) = x^2+2sin(x)$ where,\n",
    "\n",
    "$$g(x) = \\frac{\\partial f}{\\partial x} = 2x + 2cos(x) = 0  $$\n",
    "\n",
    "A root of which can be found as follows −"
   ]
  },
  {
   "cell_type": "code",
   "execution_count": 8,
   "metadata": {
    "ExecuteTime": {
     "end_time": "2020-10-31T17:19:52.430478Z",
     "start_time": "2020-10-31T17:19:52.422476Z"
    }
   },
   "outputs": [],
   "source": [
    "import matplotlib.pyplot as plt"
   ]
  },
  {
   "cell_type": "code",
   "execution_count": 9,
   "metadata": {
    "ExecuteTime": {
     "end_time": "2020-10-31T17:19:52.828683Z",
     "start_time": "2020-10-31T17:19:52.823682Z"
    }
   },
   "outputs": [],
   "source": [
    "import numpy as np\n",
    "from scipy.optimize import root, root_scalar\n",
    "\n",
    "#function g(.)\n",
    "def gfunc(x): \n",
    "    return x*2 + 2 * np.cos(x)\n",
    "\n",
    "#function g'(.)\n",
    "def gprime(x): \n",
    "    return 2.0*(1+np.cos(x))"
   ]
  },
  {
   "cell_type": "code",
   "execution_count": 10,
   "metadata": {
    "ExecuteTime": {
     "end_time": "2020-10-31T17:19:53.531952Z",
     "start_time": "2020-10-31T17:19:53.380705Z"
    }
   },
   "outputs": [
    {
     "data": {
      "text/plain": [
       "[<matplotlib.lines.Line2D at 0x219e6497e88>]"
      ]
     },
     "execution_count": 10,
     "metadata": {},
     "output_type": "execute_result"
    },
    {
     "data": {
      "image/png": "[encoded data removed]",
      "text/plain": [
       "<Figure size 432x288 with 1 Axes>"
      ]
     },
     "metadata": {
      "needs_background": "light"
     },
     "output_type": "display_data"
    }
   ],
   "source": [
    "x1=np.arange(-10,10,0.1)\n",
    "y1 = gfunc(x1)\n",
    "dy1 = gprime(x1)\n",
    "plt.plot(x1,y1)\n",
    "plt.plot(x1,dy1)"
   ]
  },
  {
   "attachments": {
    "2x_2cosx-2.jpg": {
     "image/jpeg": "[encoded data removed]"
    }
   },
   "cell_type": "markdown",
   "metadata": {},
   "source": [
    "![2x_2cosx-2.jpg](attachment:2x_2cosx-2.jpg)"
   ]
  },
  {
   "cell_type": "code",
   "execution_count": 13,
   "metadata": {
    "ExecuteTime": {
     "end_time": "2020-10-31T17:21:39.401423Z",
     "start_time": "2020-10-31T17:21:39.386428Z"
    }
   },
   "outputs": [
    {
     "name": "stdout",
     "output_type": "stream",
     "text": [
      "      converged: True\n",
      "           flag: 'converged'\n",
      " function_calls: 10\n",
      "     iterations: 9\n",
      "           root: -0.7390851332151607\n"
     ]
    }
   ],
   "source": [
    "#sol = root(gfunc, 0.3)\n",
    "sol = root_scalar(gfunc, bracket=[-3,3], method='brentq') # Brent's method\n",
    "#sol = root_scalar(gfunc, x0=0.3, fprime=gprime, method='newton') # Newton's Method\n",
    "print (sol)"
   ]
  },
  {
   "cell_type": "code",
   "execution_count": 9,
   "metadata": {
    "ExecuteTime": {
     "end_time": "2020-10-31T14:50:38.791216Z",
     "start_time": "2020-10-31T14:50:38.769216Z"
    }
   },
   "outputs": [
    {
     "data": {
      "text/plain": [
       "(1.0, 11, 11)"
      ]
     },
     "execution_count": 9,
     "metadata": {},
     "output_type": "execute_result"
    }
   ],
   "source": [
    "def f_p_pp(x):\n",
    "    return (x**3 - 1), 3*x**2, 6*x\n",
    "\n",
    "sol = root_scalar(f_p_pp, x0=0.2, fprime=True, method='newton')\n",
    "sol.root, sol.iterations, sol.function_calls"
   ]
  },
  {
   "cell_type": "code",
   "execution_count": 10,
   "metadata": {
    "ExecuteTime": {
     "end_time": "2020-10-31T14:50:39.478420Z",
     "start_time": "2020-10-31T14:50:39.465426Z"
    }
   },
   "outputs": [
    {
     "data": {
      "text/plain": [
       "(1.0, 7, 8)"
      ]
     },
     "execution_count": 10,
     "metadata": {},
     "output_type": "execute_result"
    }
   ],
   "source": [
    "sol = root_scalar(f_p_pp, x0=0.2, fprime=True, fprime2=True, method='halley')\n",
    "sol.root, sol.iterations, sol.function_calls"
   ]
  },
  {
   "cell_type": "markdown",
   "metadata": {},
   "source": [
    "# Constrainted Optimization"
   ]
  },
  {
   "cell_type": "code",
   "execution_count": 11,
   "metadata": {
    "ExecuteTime": {
     "end_time": "2020-10-31T14:50:42.875906Z",
     "start_time": "2020-10-31T14:50:41.554479Z"
    },
    "scrolled": true
   },
   "outputs": [
    {
     "data": {
      "text/html": [
       "<div>\n",
       "<style scoped>\n",
       "    .dataframe tbody tr th:only-of-type {\n",
       "        vertical-align: middle;\n",
       "    }\n",
       "\n",
       "    .dataframe tbody tr th {\n",
       "        vertical-align: top;\n",
       "    }\n",
       "\n",
       "    .dataframe thead th {\n",
       "        text-align: right;\n",
       "    }\n",
       "</style>\n",
       "<table border=\"1\" class=\"dataframe\">\n",
       "  <thead>\n",
       "    <tr style=\"text-align: right;\">\n",
       "      <th></th>\n",
       "      <th>A</th>\n",
       "      <th>B</th>\n",
       "      <th>C</th>\n",
       "      <th>D</th>\n",
       "    </tr>\n",
       "  </thead>\n",
       "  <tbody>\n",
       "    <tr>\n",
       "      <th>0</th>\n",
       "      <td>0.167022</td>\n",
       "      <td>0.470324</td>\n",
       "      <td>-0.249886</td>\n",
       "      <td>0.052333</td>\n",
       "    </tr>\n",
       "    <tr>\n",
       "      <th>1</th>\n",
       "      <td>-0.103244</td>\n",
       "      <td>-0.157661</td>\n",
       "      <td>-0.063740</td>\n",
       "      <td>0.095561</td>\n",
       "    </tr>\n",
       "    <tr>\n",
       "      <th>2</th>\n",
       "      <td>0.146767</td>\n",
       "      <td>0.288817</td>\n",
       "      <td>0.169195</td>\n",
       "      <td>0.435220</td>\n",
       "    </tr>\n",
       "    <tr>\n",
       "      <th>3</th>\n",
       "      <td>-0.045548</td>\n",
       "      <td>0.628117</td>\n",
       "      <td>-0.222612</td>\n",
       "      <td>0.420468</td>\n",
       "    </tr>\n",
       "    <tr>\n",
       "      <th>4</th>\n",
       "      <td>0.167305</td>\n",
       "      <td>0.308690</td>\n",
       "      <td>-0.109613</td>\n",
       "      <td>-0.051899</td>\n",
       "    </tr>\n",
       "  </tbody>\n",
       "</table>\n",
       "</div>"
      ],
      "text/plain": [
       "          A         B         C         D\n",
       "0  0.167022  0.470324 -0.249886  0.052333\n",
       "1 -0.103244 -0.157661 -0.063740  0.095561\n",
       "2  0.146767  0.288817  0.169195  0.435220\n",
       "3 -0.045548  0.628117 -0.222612  0.420468\n",
       "4  0.167305  0.308690 -0.109613 -0.051899"
      ]
     },
     "execution_count": 11,
     "metadata": {},
     "output_type": "execute_result"
    }
   ],
   "source": [
    "import pandas as pd\n",
    "#seed first \n",
    "np.random.seed(1)\n",
    "\n",
    "df_returns = pd.DataFrame(np.random.rand(100,4) - 0.25, columns =list('ABCD'))\n",
    "df_returns.head()"
   ]
  },
  {
   "cell_type": "code",
   "execution_count": null,
   "metadata": {},
   "outputs": [],
   "source": []
  },
  {
   "cell_type": "code",
   "execution_count": 12,
   "metadata": {
    "ExecuteTime": {
     "end_time": "2020-10-31T14:50:43.143900Z",
     "start_time": "2020-10-31T14:50:43.128907Z"
    },
    "scrolled": true
   },
   "outputs": [
    {
     "data": {
      "text/plain": [
       "A    0.15\n",
       "B    0.35\n",
       "C    0.25\n",
       "D    0.25\n",
       "dtype: float64"
      ]
     },
     "execution_count": 12,
     "metadata": {},
     "output_type": "execute_result"
    }
   ],
   "source": [
    "weights = pd.Series([0.15, 0.35, 0.25, 0.25], index=list('ABCD'))\n",
    "weights"
   ]
  },
  {
   "cell_type": "code",
   "execution_count": 13,
   "metadata": {
    "ExecuteTime": {
     "end_time": "2020-10-31T14:50:44.597591Z",
     "start_time": "2020-10-31T14:50:44.587596Z"
    }
   },
   "outputs": [],
   "source": [
    "def returns_objective_function(weights, df_returns):\n",
    "    result = -1.0 * (df_returns * weights).mean().sum()\n",
    "    return result"
   ]
  },
  {
   "cell_type": "code",
   "execution_count": 14,
   "metadata": {
    "ExecuteTime": {
     "end_time": "2020-10-31T14:50:45.506617Z",
     "start_time": "2020-10-31T14:50:45.494623Z"
    }
   },
   "outputs": [],
   "source": [
    "#cons = ({'type': 'eq', 'fun': lambda weights: np.sum(weights)-1  })\n",
    "x=[3]\n",
    "cons = ( \n",
    "        {'type': 'eq', 'fun': lambda weights: np.sum(weights) -1  }\n",
    "        ,{'type': 'ineq', 'fun': lambda weights: np.sum(weights) + x}\n",
    ")\n",
    "bnds = ((0.01, .8), (0.01, .8), (0.01, .8), (0.01, .75))"
   ]
  },
  {
   "cell_type": "code",
   "execution_count": 15,
   "metadata": {
    "ExecuteTime": {
     "end_time": "2020-10-31T14:50:46.488565Z",
     "start_time": "2020-10-31T14:50:46.404904Z"
    }
   },
   "outputs": [
    {
     "data": {
      "text/plain": [
       "     fun: -0.2885398923185326\n",
       "     jac: array([-0.24384782, -0.2789166 , -0.21977262, -0.29300384])\n",
       " message: 'Optimization terminated successfully'\n",
       "    nfev: 40\n",
       "     nit: 8\n",
       "    njev: 8\n",
       "  status: 0\n",
       " success: True\n",
       "       x: array([0.01, 0.23, 0.01, 0.75])"
      ]
     },
     "execution_count": 15,
     "metadata": {},
     "output_type": "execute_result"
    }
   ],
   "source": [
    "from scipy.optimize import minimize \n",
    "minimize(returns_objective_function, weights, (df_returns), bounds=bnds, constraints=cons, method= 'SLSQP')"
   ]
  },
  {
   "cell_type": "markdown",
   "metadata": {},
   "source": [
    "Solving the following constrainted optimization problem:\n",
    "\n",
    "\\begin{align*}\n",
    "\\text{min} &\\quad log(x^2_1 + 1) + x^4_2 + x_1x_3 \\\\\n",
    "\\text{st} &\\quad   x^3_1 -x^2_2 \\ge 1 \\\\\n",
    "\\, & \\quad x_1, x_3 \\ge 0,\\;  x_2 \\in \\mathbb{R} \n",
    "\\end{align*}"
   ]
  },
  {
   "cell_type": "code",
   "execution_count": 16,
   "metadata": {
    "ExecuteTime": {
     "end_time": "2020-10-31T14:50:48.815115Z",
     "start_time": "2020-10-31T14:50:48.783138Z"
    }
   },
   "outputs": [
    {
     "name": "stdout",
     "output_type": "stream",
     "text": [
      "     fun: 0.6931471563151241\n",
      "     jac: array([1.        , 0.        , 0.99999997])\n",
      " message: 'Optimization terminated successfully'\n",
      "    nfev: 53\n",
      "     nit: 13\n",
      "    njev: 13\n",
      "  status: 0\n",
      " success: True\n",
      "       x: array([ 9.99999976e-01, -1.98873448e-06, -1.14301234e-11])\n"
     ]
    }
   ],
   "source": [
    "from scipy.optimize import minimize\n",
    "import math\n",
    "\n",
    "def f(x):\n",
    "    return math.log(x[0]**2 + 1) + x[1]**4 + x[0]*x[2]\n",
    "\n",
    "x0 = [3.0, 1.0, 3.0]\n",
    "\n",
    "cons=({'type': 'ineq',\n",
    "       'fun': lambda x: x[0]**3 - x[1]**2 - 1},\n",
    "      {'type': 'ineq',\n",
    "       'fun': lambda x: x[0]},\n",
    "      {'type': 'ineq',\n",
    "       'fun': lambda x: x[2]})\n",
    "\n",
    "res = minimize(f, x0, constraints=cons)\n",
    "print (res)"
   ]
  },
  {
   "cell_type": "code",
   "execution_count": null,
   "metadata": {},
   "outputs": [],
   "source": []
  }
 ],
 "metadata": {
  "kernelspec": {
   "display_name": "Python 3",
   "language": "python",
   "name": "python3"
  },
  "language_info": {
   "codemirror_mode": {
    "name": "ipython",
    "version": 3
   },
   "file_extension": ".py",
   "mimetype": "text/x-python",
   "name": "python",
   "nbconvert_exporter": "python",
   "pygments_lexer": "ipython3",
   "version": "3.7.9"
  },
  "latex_envs": {
   "LaTeX_envs_menu_present": true,
   "autoclose": true,
   "autocomplete": true,
   "bibliofile": "biblio.bib",
   "cite_by": "apalike",
   "current_citInitial": 1,
   "eqLabelWithNumbers": true,
   "eqNumInitial": 1,
   "hotkeys": {
    "equation": "Ctrl-E",
    "itemize": "Ctrl-I"
   },
   "labels_anchors": false,
   "latex_user_defs": false,
   "report_style_numbering": true,
   "user_envs_cfg": false
  },
  "varInspector": {
   "cols": {
    "lenName": 16,
    "lenType": 16,
    "lenVar": 40
   },
   "kernels_config": {
    "python": {
     "delete_cmd_postfix": "",
     "delete_cmd_prefix": "del ",
     "library": "var_list.py",
     "varRefreshCmd": "print(var_dic_list())"
    },
    "r": {
     "delete_cmd_postfix": ") ",
     "delete_cmd_prefix": "rm(",
     "library": "var_list.r",
     "varRefreshCmd": "cat(var_dic_list()) "
    }
   },
   "types_to_exclude": [
    "module",
    "function",
    "builtin_function_or_method",
    "instance",
    "_Feature"
   ],
   "window_display": false
  }
 },
 "nbformat": 4,
 "nbformat_minor": 4
}
