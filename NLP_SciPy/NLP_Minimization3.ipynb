{
 "cells": [
  {
   "cell_type": "markdown",
   "metadata": {},
   "source": [
    "# Various Minimizers from SciPy.Optimize"
   ]
  },
  {
   "cell_type": "markdown",
   "metadata": {},
   "source": [
    "## Broyden-Fletcher-Goldfarb-Shanno algorithm (method='BFGS')\n",
    "In order to converge more quickly to the solution, this routine uses the gradient of the objective function. If the gradient is not given by the user, then it is estimated using first-differences. The Broyden-Fletcher-Goldfarb-Shanno (BFGS) method typically requires fewer function calls than the simplex algorithm even when the gradient must be estimated.\n",
    "\n",
    "To demonstrate this algorithm, the Rosenbrock function is again used. The gradient of the Rosenbrock function is the vector:\n",
    "\\begin{eqnarray*} \n",
    "\\frac{\\partial f}{\\partial x_{j}} & = & \\sum_{i=1}^{N}200\\left(x_{i}-x_{i-1}^{2}\\right)\\left(\\delta_{i,j}-2x_{i-1}\\delta_{i-1,j}\\right)-2\\left(1-x_{i-1}\\right)\\delta_{i-1,j}.\\\\\n",
    "& = & 200\\left(x_{j}-x_{j-1}^{2}\\right)-400x_{j}\\left(x_{j+1}-x_{j}^{2}\\right)-2\\left(1-x_{j}\\right).\n",
    "\\end{eqnarray*}\n",
    "\n",
    "<p>This expression is valid for the interior derivatives. Special cases\n",
    "are</p>\n",
    "\n",
    "\\begin{eqnarray*} \n",
    "\\frac{\\partial f}{\\partial x_{0}} & = & -400x_{0}\\left(x_{1}-x_{0}^{2}\\right)-2\\left(1-x_{0}\\right),\\\\ \\frac{\\partial f}{\\partial x_{N-1}} & = & 200\\left(x_{N-1}-x_{N-2}^{2}\\right).\n",
    "\\end{eqnarray*}\n",
    "\n",
    "\n",
    "A Python function which computes this gradient is constructed by the code-segment:"
   ]
  },
  {
   "cell_type": "code",
   "execution_count": 8,
   "metadata": {
    "ExecuteTime": {
     "end_time": "2020-10-07T11:29:28.234461Z",
     "start_time": "2020-10-07T11:29:28.224481Z"
    }
   },
   "outputs": [],
   "source": [
    "from scipy.optimize import minimize, rosen"
   ]
  },
  {
   "cell_type": "code",
   "execution_count": 9,
   "metadata": {
    "ExecuteTime": {
     "end_time": "2020-10-07T11:29:28.638301Z",
     "start_time": "2020-10-07T11:29:28.622505Z"
    }
   },
   "outputs": [],
   "source": [
    "def rosen_der(x): # First Derivative of the RosonBrock function\n",
    "    xm = x[1:-1]\n",
    "    xm_m1 = x[:-2]\n",
    "    xm_p1 = x[2:]\n",
    "    der = np.zeros_like(x)\n",
    "    der[1:-1] = 200*(xm-xm_m1**2) - 400*(xm_p1 - xm**2)*xm - 2*(1-xm)\n",
    "    der[0] = -400*x[0]*(x[1]-x[0]**2) - 2*(1-x[0])\n",
    "    der[-1] = 200*(x[-1]-x[-2]**2)\n",
    "    return der"
   ]
  },
  {
   "cell_type": "markdown",
   "metadata": {},
   "source": [
    "This gradient information is specified in the minimize function through the jac parameter as illustrated below."
   ]
  },
  {
   "cell_type": "code",
   "execution_count": 30,
   "metadata": {
    "ExecuteTime": {
     "end_time": "2020-10-07T12:28:08.899517Z",
     "start_time": "2020-10-07T12:28:08.886517Z"
    }
   },
   "outputs": [
    {
     "name": "stdout",
     "output_type": "stream",
     "text": [
      "Optimization terminated successfully.\n",
      "         Current function value: 0.000000\n",
      "         Iterations: 26\n",
      "         Function evaluations: 30\n",
      "         Gradient evaluations: 30\n"
     ]
    }
   ],
   "source": [
    "x0 = np.array([0.7, 1.3, 0.8, 1.9, 1.2])\n",
    "res = minimize(rosen, x0, method='BFGS', jac=rosen_der,\n",
    "               options={'disp': True})"
   ]
  },
  {
   "cell_type": "code",
   "execution_count": 21,
   "metadata": {
    "ExecuteTime": {
     "end_time": "2020-10-07T12:21:56.056541Z",
     "start_time": "2020-10-07T12:21:56.049517Z"
    }
   },
   "outputs": [
    {
     "name": "stdout",
     "output_type": "stream",
     "text": [
      "      fun: 4.0130879949972905e-13\n",
      " hess_inv: array([[0.00758796, 0.01243893, 0.02344025, 0.04614953, 0.09222281],\n",
      "       [0.01243893, 0.02481725, 0.04712952, 0.09298607, 0.18569385],\n",
      "       [0.02344025, 0.04712952, 0.09456412, 0.18674836, 0.37282072],\n",
      "       [0.04614953, 0.09298607, 0.18674836, 0.37383212, 0.74621435],\n",
      "       [0.09222281, 0.18569385, 0.37282072, 0.74621435, 1.49444705]])\n",
      "      jac: array([-5.68982937e-06, -2.73296557e-06, -2.54520599e-06, -7.73460770e-06,\n",
      "        5.78142698e-06])\n",
      "  message: 'Optimization terminated successfully.'\n",
      "     nfev: 30\n",
      "      nit: 25\n",
      "     njev: 30\n",
      "   status: 0\n",
      "  success: True\n",
      "        x: array([1.00000004, 1.0000001 , 1.00000021, 1.00000044, 1.00000092])\n"
     ]
    }
   ],
   "source": [
    "print(res)"
   ]
  },
  {
   "cell_type": "markdown",
   "metadata": {},
   "source": [
    "## Newton-Conjugate-Gradient algorithm (method='Newton-CG')\n",
    "\n",
    "Newton-Conjugate Gradient algorithm is a modified Newton’s method and uses a conjugate gradient algorithm to (approximately) invert the local Hessian [NW]. Newton’s method is based on fitting the function locally to a quadratic form:\n",
    "<div class=\"math notranslate nohighlight\">\n",
    "\\[f\\left(\\mathbf{x}\\right)\\approx f\\left(\\mathbf{x}_{0}\\right)+\\nabla f\\left(\\mathbf{x}_{0}\\right)\\cdot\\left(\\mathbf{x}-\\mathbf{x}_{0}\\right)+\\frac{1}{2}\\left(\\mathbf{x}-\\mathbf{x}_{0}\\right)^{T}\\mathbf{H}\\left(\\mathbf{x}_{0}\\right)\\left(\\mathbf{x}-\\mathbf{x}_{0}\\right).\\]</div>\n",
    "where  is a matrix of second-derivatives (the Hessian). If the Hessian is positive definite then the local minimum of this function can be found by setting the gradient of the quadratic form to zero, resulting in\n",
    "<div class=\"math notranslate nohighlight\">\n",
    "\\[\\mathbf{x}_{\\textrm{opt}}=\\mathbf{x}_{0}-\\mathbf{H}^{-1}\\nabla f.\\]</div>\n",
    "The inverse of the Hessian is evaluated using the conjugate-gradient method. An example of employing this method to minimizing the Rosenbrock function is given below. To take full advantage of the Newton-CG method, a function which computes the Hessian must be provided. The Hessian matrix itself does not need to be constructed, only a vector which is the product of the Hessian with an arbitrary vector needs to be available to the minimization routine. As a result, the user can provide either a function to compute the Hessian matrix, or a function to compute the product of the Hessian with an arbitrary vector.\n",
    "\n",
    "Full Hessian example:\n",
    "The Hessian of the Rosenbrock function is\n",
    "<div class=\"math notranslate nohighlight\">\n",
    " \\begin{eqnarray*} H_{ij}=\\frac{\\partial^{2}f}{\\partial x_{i}\\partial x_{j}} &amp; = &amp; 200\\left(\\delta_{i,j}-2x_{i-1}\\delta_{i-1,j}\\right)-400x_{i}\\left(\\delta_{i+1,j}-2x_{i}\\delta_{i,j}\\right)-400\\delta_{i,j}\\left(x_{i+1}-x_{i}^{2}\\right)+2\\delta_{i,j},\\\\  &amp; = &amp; \\left(202+1200x_{i}^{2}-400x_{i+1}\\right)\\delta_{i,j}-400x_{i}\\delta_{i+1,j}-400x_{i-1}\\delta_{i-1,j},\\end{eqnarray*}</div>\n",
    "\n",
    "if $(i,j \\in [1,N-2] )$ with $(i,j\\in[0,N-1])$ defining the  matrix. Other non-zero entries of the matrix are\n",
    "<div class=\"math notranslate nohighlight\">\n",
    "\\begin{eqnarray*} \\frac{\\partial^{2}f}{\\partial x_{0}^{2}} & = & 1200x_{0}^{2}-400x_{1}+2,\\\\ \n",
    "\\frac{\\partial^{2}f}{\\partial x_{0}\\partial x_{1}}=\\frac{\\partial^{2}f}{\\partial x_{1}\\partial x_{0}} & = & -400x_{0},\\\\ \\frac{\\partial^{2}f}{\\partial x_{N-1}\\partial x_{N-2}}=\\frac{\\partial^{2}f}{\\partial x_{N-2}\\partial x_{N-1}} & = & -400x_{N-2},\\\\ \n",
    "\\frac{\\partial^{2}f}{\\partial x_{N-1}^{2}} & = & 200.\\end{eqnarray*}</div>\n",
    "\n",
    "For example, the Hessian when $N =5$ is\n",
    "<div class=\"math notranslate nohighlight\">\n",
    "\\[\\begin{split}\\mathbf{H}=\n",
    "\\begin{bmatrix} \n",
    "1200x_{0}^{2}-400x_{1}+2 & -400x_{0} & 0 & 0 & 0\\\\\n",
    "-400x_{0} & 202+1200x_{1}^{2}-400x_{2} & -400x_{1} & 0 & 0\\\\ \n",
    "0 & -400x_{1} & 202+1200x_{2}^{2}-400x_{3} & -400x_{2} & 0\\\\\n",
    "0 &  & -400x_{2} & 202+1200x_{3}^{2}-400x_{4} & -400x_{3}\\\\ 0 & 0 & 0 & -400x_{3} & 200\n",
    "\\end{bmatrix}.\n",
    "\\end{split}\\]</div>\n",
    "\n",
    "The code which computes this Hessian along with the code to minimize the function using Newton-CG method is shown in the following example:"
   ]
  },
  {
   "cell_type": "code",
   "execution_count": 22,
   "metadata": {
    "ExecuteTime": {
     "end_time": "2020-10-07T12:21:58.729173Z",
     "start_time": "2020-10-07T12:21:58.724172Z"
    }
   },
   "outputs": [],
   "source": [
    "def rosen_hess(x): # Hessian Matrix of the Rosenbrock function\n",
    "    x = np.asarray(x)\n",
    "    H = np.diag(-400*x[:-1],1) - np.diag(400*x[:-1],-1)\n",
    "    diagonal = np.zeros_like(x)\n",
    "    diagonal[0] = 1200*x[0]**2-400*x[1]+2\n",
    "    diagonal[-1] = 200\n",
    "    diagonal[1:-1] = 202 + 1200*x[1:-1]**2 - 400*x[2:]\n",
    "    H = H + np.diag(diagonal)\n",
    "    return H"
   ]
  },
  {
   "cell_type": "code",
   "execution_count": 23,
   "metadata": {
    "ExecuteTime": {
     "end_time": "2020-10-07T12:21:59.357032Z",
     "start_time": "2020-10-07T12:21:59.342009Z"
    }
   },
   "outputs": [
    {
     "name": "stdout",
     "output_type": "stream",
     "text": [
      "Optimization terminated successfully.\n",
      "         Current function value: 0.000000\n",
      "         Iterations: 24\n",
      "         Function evaluations: 33\n",
      "         Gradient evaluations: 33\n",
      "         Hessian evaluations: 24\n",
      "     fun: 3.5306674342205174e-17\n",
      "     jac: array([ 2.68742124e-08,  9.26710155e-08,  3.70109749e-07,  1.48479130e-06,\n",
      "       -8.52636894e-07])\n",
      " message: 'Optimization terminated successfully.'\n",
      "    nfev: 33\n",
      "    nhev: 24\n",
      "     nit: 24\n",
      "    njev: 33\n",
      "  status: 0\n",
      " success: True\n",
      "       x: array([1.        , 1.        , 1.        , 0.99999999, 0.99999999])\n"
     ]
    }
   ],
   "source": [
    "res = minimize(rosen, x0, method='Newton-CG',\n",
    "               jac=rosen_der, hess=rosen_hess,\n",
    "               options={'xtol': 1e-8, 'disp': True})\n",
    "print(res)"
   ]
  },
  {
   "cell_type": "markdown",
   "metadata": {},
   "source": [
    "Hessian product example:\n",
    "For larger minimization problems, storing the entire Hessian matrix can consume considerable time and memory. The Newton-CG algorithm only needs the product of the Hessian times an arbitrary vector. As a result, the user can supply code to compute this product rather than the full Hessian by giving a hess function which take the minimization vector as the first argument and the arbitrary vector as the second argument (along with extra arguments passed to the function to be minimized). If possible, using Newton-CG with the Hessian product option is probably the fastest way to minimize the function.\n",
    "\n",
    "In this case, the product of the Rosenbrock Hessian with an arbitrary vector is not difficult to compute. If $\\mathbf{p}$ is the arbitrary vector, then $\\mathbf{H}\\left(\\mathbf{x}\\right)\\mathbf{p}$ has elements:\n",
    "\n",
    "<div class=\"math notranslate nohighlight\">\n",
    "\\[\\begin{split}\\mathbf{H}\\left(\\mathbf{x}\\right)\\mathbf{p}=\\begin{bmatrix} \\left(1200x_{0}^{2}-400x_{1}+2\\right)p_{0}-400x_{0}p_{1}\\\\ \\vdots\\\\ -400x_{i-1}p_{i-1}+\\left(202+1200x_{i}^{2}-400x_{i+1}\\right)p_{i}-400x_{i}p_{i+1}\\\\ \\vdots\\\\ -400x_{N-2}p_{N-2}+200p_{N-1}\\end{bmatrix}.\\end{split}\\]</div>\n",
    "\n",
    "\n",
    "Code which makes use of this Hessian product to minimize the Rosenbrock function using minimize follows:"
   ]
  },
  {
   "cell_type": "code",
   "execution_count": 24,
   "metadata": {
    "ExecuteTime": {
     "end_time": "2020-10-07T12:22:00.116057Z",
     "start_time": "2020-10-07T12:22:00.105059Z"
    }
   },
   "outputs": [],
   "source": [
    "def rosen_hess_p(x, p):\n",
    "    x = np.asarray(x)\n",
    "    Hp = np.zeros_like(x)\n",
    "    Hp[0] = (1200*x[0]**2 - 400*x[1] + 2)*p[0] - 400*x[0]*p[1]\n",
    "    Hp[1:-1] = -400*x[:-2]*p[:-2]+(202+1200*x[1:-1]**2-400*x[2:])*p[1:-1] \\\n",
    "               -400*x[1:-1]*p[2:]\n",
    "    Hp[-1] = -400*x[-2]*p[-2] + 200*p[-1]\n",
    "    return Hp"
   ]
  },
  {
   "cell_type": "code",
   "execution_count": 25,
   "metadata": {
    "ExecuteTime": {
     "end_time": "2020-10-07T12:22:00.589239Z",
     "start_time": "2020-10-07T12:22:00.561238Z"
    }
   },
   "outputs": [
    {
     "name": "stdout",
     "output_type": "stream",
     "text": [
      "Optimization terminated successfully.\n",
      "         Current function value: 0.000000\n",
      "         Iterations: 24\n",
      "         Function evaluations: 33\n",
      "         Gradient evaluations: 33\n",
      "         Hessian evaluations: 66\n",
      "     fun: 3.5306674342205174e-17\n",
      "     jac: array([ 2.68742124e-08,  9.26710155e-08,  3.70109749e-07,  1.48479130e-06,\n",
      "       -8.52636894e-07])\n",
      " message: 'Optimization terminated successfully.'\n",
      "    nfev: 33\n",
      "    nhev: 66\n",
      "     nit: 24\n",
      "    njev: 33\n",
      "  status: 0\n",
      " success: True\n",
      "       x: array([1.        , 1.        , 1.        , 0.99999999, 0.99999999])\n"
     ]
    }
   ],
   "source": [
    "res = minimize(rosen, x0, method='Newton-CG',\n",
    "               jac=rosen_der, hessp=rosen_hess_p,\n",
    "               options={'xtol': 1e-8, 'disp': True})\n",
    "print(res)"
   ]
  },
  {
   "cell_type": "markdown",
   "metadata": {},
   "source": [
    "According to [NW] p. 170 the Newton-CG algorithm can be inefficient when the Hessian is ill-conditioned because of the poor quality search directions provided by the method in those situations. The method trust-ncg, according to the authors, deals more effectively with this problematic situation and will be described next."
   ]
  },
  {
   "cell_type": "markdown",
   "metadata": {},
   "source": [
    "## Trust-Region Newton-Conjugate-Gradient Algorithm (method='trust-ncg')\n",
    "The Newton-CG method is a line search method: it finds a direction of search minimizing a quadratic approximation of the function and then uses a line search algorithm to find the (nearly) optimal step size in that direction. An alternative approach is to, first, fix the step size limit $\\Delta$ and then find the\n",
    "optimal step <span class=\"math notranslate nohighlight\">$\\mathbf{p}$ inside the given trust-radius by solving the following quadratic subproblem:\n",
    "<div class=\"math notranslate nohighlight\">\n",
    "\\begin{eqnarray*}\n",
    "   \\min_{\\mathbf{p}} f\\left(\\mathbf{x}_{k}\\right)+\\nabla f\\left(\\mathbf{x}_{k}\\right)\\cdot\\mathbf{p}+\\frac{1}{2}\\mathbf{p}^{T}\\mathbf{H}\\left(\\mathbf{x}_{k}\\right)\\mathbf{p};&\\\\\n",
    "   \\text{subject to: } \\|\\mathbf{p}\\|\\le \\Delta. &;\n",
    " \\end{eqnarray*}</div>\n",
    "\n",
    "The solution is then updated <span class=\"math notranslate nohighlight\">$\\mathbf{x}_{k+1} = \\mathbf{x}_{k} + \\mathbf{p}$</span> and the trust-radius $\\Delta$ is adjusted according to the degree of agreement of the quadratic model with the real function. This family of methods is known as trust-region methods. The trust-ncg algorithm is a trust-region method that uses a conjugate gradient algorithm to solve the trust-region subproblem [NW].\n",
    "\n",
    "Full Hessian example:"
   ]
  },
  {
   "cell_type": "code",
   "execution_count": 26,
   "metadata": {
    "ExecuteTime": {
     "end_time": "2020-10-07T12:22:02.761304Z",
     "start_time": "2020-10-07T12:22:02.739303Z"
    }
   },
   "outputs": [
    {
     "name": "stdout",
     "output_type": "stream",
     "text": [
      "Optimization terminated successfully.\n",
      "         Current function value: 0.000000\n",
      "         Iterations: 20\n",
      "         Function evaluations: 21\n",
      "         Gradient evaluations: 20\n",
      "         Hessian evaluations: 19\n",
      "     fun: 1.232595164407831e-30\n",
      "    hess: array([[ 802., -400.,    0.,    0.,    0.],\n",
      "       [-400., 1002., -400.,    0.,    0.],\n",
      "       [   0., -400., 1002., -400.,    0.],\n",
      "       [   0.,    0., -400., 1002., -400.],\n",
      "       [   0.,    0.,    0., -400.,  200.]])\n",
      "     jac: array([-0.00000000e+00,  0.00000000e+00,  0.00000000e+00,  4.44089210e-14,\n",
      "       -2.22044605e-14])\n",
      " message: 'Optimization terminated successfully.'\n",
      "    nfev: 21\n",
      "    nhev: 19\n",
      "     nit: 20\n",
      "    njev: 20\n",
      "  status: 0\n",
      " success: True\n",
      "       x: array([1., 1., 1., 1., 1.])\n"
     ]
    }
   ],
   "source": [
    "res = minimize(rosen, x0, method='trust-ncg',\n",
    "               jac=rosen_der, hess=rosen_hess,\n",
    "               options={'gtol': 1e-8, 'disp': True})\n",
    "print(res)"
   ]
  },
  {
   "cell_type": "markdown",
   "metadata": {},
   "source": [
    "Hessian Product example:"
   ]
  },
  {
   "cell_type": "code",
   "execution_count": 27,
   "metadata": {
    "ExecuteTime": {
     "end_time": "2020-10-07T12:22:05.199353Z",
     "start_time": "2020-10-07T12:22:05.172352Z"
    },
    "scrolled": true
   },
   "outputs": [
    {
     "name": "stdout",
     "output_type": "stream",
     "text": [
      "Optimization terminated successfully.\n",
      "         Current function value: 0.000000\n",
      "         Iterations: 20\n",
      "         Function evaluations: 21\n",
      "         Gradient evaluations: 20\n",
      "         Hessian evaluations: 74\n",
      "     fun: 1.232595164407831e-30\n",
      "     jac: array([-0.00000000e+00,  0.00000000e+00,  0.00000000e+00,  4.44089210e-14,\n",
      "       -2.22044605e-14])\n",
      " message: 'Optimization terminated successfully.'\n",
      "    nfev: 21\n",
      "    nhev: 74\n",
      "     nit: 20\n",
      "    njev: 20\n",
      "  status: 0\n",
      " success: True\n",
      "       x: array([1., 1., 1., 1., 1.])\n"
     ]
    }
   ],
   "source": [
    "res = minimize(rosen, x0, method='trust-ncg',\n",
    "               jac=rosen_der, hessp=rosen_hess_p,\n",
    "               options={'gtol': 1e-8, 'disp': True})\n",
    "print(res)"
   ]
  },
  {
   "cell_type": "markdown",
   "metadata": {},
   "source": [
    "**References:**\n",
    "\n",
    "F. Lenders, C. Kirches, A. Potschka: “trlib: A vector-free implementation of the GLTR method for iterative solution of the trust region problem”, https://arxiv.org/abs/1611.04718\n",
    "\n",
    "GLTR\n",
    "N. Gould, S. Lucidi, M. Roma, P. Toint: “Solving the Trust-Region Subproblem using the Lanczos Method”, SIAM J. Optim., 9(2), 504–525, (1999). https://doi.org/10.1137/S1052623497322735"
   ]
  },
  {
   "cell_type": "markdown",
   "metadata": {},
   "source": [
    "## Trust-Region Nearly Exact Algorithm (method='trust-exact')\n",
    "\n",
    "All methods ``Newton-CG``, ``trust-ncg`` and ``trust-krylov`` are suitable for dealing with large-scale problems (problems with thousands of variables). That is because the conjugate gradient algorithm approximately solve the trust-region subproblem (or invert the Hessian) by iterations without the explicit Hessian factorization. Since only the product of the Hessian with an arbitrary vector is needed, the algorithm is specially suited for dealing with sparse Hessians, allowing low storage requirements and significant time savings for those sparse problems.\n",
    "\n",
    "For medium-size problems, for which the storage and factorization cost of the Hessian are not critical, it is possible to obtain a solution within fewer iteration by solving the trust-region subproblems almost exactly. To achieve that, a certain nonlinear equations is solved iteratively for each quadratic subproblem [CGT]. This solution requires usually 3 or 4 Cholesky factorizations of the Hessian matrix. As the result, the method converges in fewer number of iterations and takes fewer evaluations of the objective function than the other implemented trust-region methods. The Hessian product option is not supported by this algorithm. An example using the Rosenbrock function follows:"
   ]
  },
  {
   "cell_type": "code",
   "execution_count": 29,
   "metadata": {
    "ExecuteTime": {
     "end_time": "2020-10-07T12:27:52.636445Z",
     "start_time": "2020-10-07T12:27:52.616444Z"
    }
   },
   "outputs": [
    {
     "name": "stdout",
     "output_type": "stream",
     "text": [
      "Optimization terminated successfully.\n",
      "         Current function value: 0.000000\n",
      "         Iterations: 13\n",
      "         Function evaluations: 14\n",
      "         Gradient evaluations: 13\n",
      "         Hessian evaluations: 14\n",
      "     fun: 1.534303144849083e-22\n",
      "    hess: array([[ 802., -400.,    0.,    0.,    0.],\n",
      "       [-400., 1002., -400.,    0.,    0.],\n",
      "       [   0., -400., 1002., -400.,    0.],\n",
      "       [   0.,    0., -400., 1002., -400.],\n",
      "       [   0.,    0.,    0., -400.,  200.]])\n",
      "     jac: array([ 7.50333129e-12,  2.58948418e-11,  1.04757092e-10,  4.21017887e-10,\n",
      "       -2.39808173e-10])\n",
      " message: 'Optimization terminated successfully.'\n",
      "    nfev: 14\n",
      "    nhev: 14\n",
      "     nit: 13\n",
      "    njev: 13\n",
      "  status: 0\n",
      " success: True\n",
      "       x: array([1., 1., 1., 1., 1.])\n"
     ]
    }
   ],
   "source": [
    "res = minimize(rosen, x0, method='trust-exact',\n",
    "               jac=rosen_der, hess=rosen_hess,\n",
    "               options={'gtol': 1e-8, 'disp': True})\n",
    "print(res)"
   ]
  },
  {
   "cell_type": "markdown",
   "metadata": {},
   "source": [
    "## Constrained minimization of multivariate scalar functions (minimize)\n",
    "\n",
    "The minimize function provides algorithms for constrained minimization, namely '``trust-constr``' , '``SLSQP``' and '``COBYLA``'. They require the constraints to be defined using slightly different structures. The method 'trust-constr' requires the constraints to be defined as a sequence of objects LinearConstraint and NonlinearConstraint. Methods 'SLSQP' and 'COBYLA', on the other hand, require constraints to be defined as a sequence of dictionaries, with keys type, fun and jac.\n",
    "\n",
    "As an example let us consider the constrained minimization of the Rosenbrock function:\n",
    "<div class=\"math notranslate nohighlight\">\n",
    "\\begin{eqnarray*} \\min_{x_0, x_1} & ~~100\\left(x_{1}-x_{0}^{2}\\right)^{2}+\\left(1-x_{0}\\right)^{2} &\\\\\n",
    "                  \\text{subject to: } & x_0 + 2 x_1 \\leq 1 & \\\\\n",
    "                                      & x_0^2 + x_1 \\leq 1  & \\\\\n",
    "                                      & x_0^2 - x_1 \\leq 1  & \\\\\n",
    "                                      & 2 x_0 + x_1 = 1 & \\\\\n",
    "                                      & 0 \\leq  x_0  \\leq 1 & \\\\\n",
    "                                      & -0.5 \\leq  x_1  \\leq 2.0. &\n",
    "\\end{eqnarray*}</div>\n",
    "\n",
    "This optimization problem has the unique solution $[x_0, x_1] = [0.4149,~ 0.1701]$, for which only the first and fourth constraints are active."
   ]
  },
  {
   "cell_type": "markdown",
   "metadata": {},
   "source": [
    "Trust-Region Constrained Algorithm (method='trust-constr')\n",
    "The trust-region constrained method deals with constrained minimization problems of the form:\n",
    "\n",
    "<div class=\"math notranslate nohighlight\">\n",
    "\\begin{eqnarray*} \\min_x & f(x) & \\\\\n",
    "       \\text{subject to: } & ~~~ c^l  \\leq c(x) \\leq c^u, &\\\\\n",
    "        &  x^l  \\leq x \\leq x^u. & \n",
    "\\end{eqnarray*}</div>\n",
    "\n",
    "When $c^l_j = c^u_j$ the method reads the $j$-th constraint as an equality constraint and deals with it accordingly. Besides that, one-sided constraint can be specified by setting the upper or lower bound to ``np.inf`` with the appropriate sign.\n",
    "\n",
    "The implementation is based on [EQSQP] for equality-constraint problems and on [TRIP] for problems with inequality constraints. Both are trust-region type algorithms suitable for large-scale problems.\n",
    "\n",
    "#### Defining Bounds Constraints:¶\n",
    "\n",
    "The bound constraints $0 \\leq  x_0  \\leq 1$ and $-0.5 \\leq  x_1  \\leq 2.0$ are defined using a Bounds object."
   ]
  },
  {
   "cell_type": "code",
   "execution_count": 31,
   "metadata": {
    "ExecuteTime": {
     "end_time": "2020-10-07T12:44:20.980200Z",
     "start_time": "2020-10-07T12:44:20.975222Z"
    }
   },
   "outputs": [],
   "source": [
    "from scipy.optimize import Bounds\n",
    "bounds = Bounds([0, -0.5], [1.0, 2.0])"
   ]
  },
  {
   "cell_type": "markdown",
   "metadata": {},
   "source": [
    "#### Defining Linear Constraints:\n",
    "The constraints $x_0+2x_1 \\leq 1$ and $2x_0 + x_1 = 1$ can be written in the linear constraint standard format:\n",
    "\n",
    "<div class=\"math notranslate nohighlight\">\n",
    "  \\begin{equation*} \\begin{bmatrix}-\\infty \\\\1\\end{bmatrix} \\leq\n",
    "   \\begin{bmatrix} 1& 2 \\\\ 2& 1\\end{bmatrix}\n",
    "    \\begin{bmatrix} x_0 \\\\x_1\\end{bmatrix} \\leq\n",
    "     \\begin{bmatrix} 1 \\\\ 1\\end{bmatrix},\\end{equation*}</div>\n",
    "\n",
    "\n",
    "and defined using a [LinearConstraint](https://docs.scipy.org/doc/scipy/reference/generated/scipy.optimize.LinearConstraint.html#scipy.optimize.LinearConstraint) object."
   ]
  },
  {
   "cell_type": "code",
   "execution_count": 39,
   "metadata": {
    "ExecuteTime": {
     "end_time": "2020-10-07T13:14:28.308567Z",
     "start_time": "2020-10-07T13:14:28.293570Z"
    }
   },
   "outputs": [],
   "source": [
    "from scipy.optimize import LinearConstraint\n",
    "linear_constraint = LinearConstraint([[1, 2], [2, 1]], [-np.inf, 1], [1, 1])"
   ]
  },
  {
   "cell_type": "markdown",
   "metadata": {},
   "source": [
    "#### Defining Nonlinear Constraints:\n",
    "\n",
    "The nonlinear constraint:\n",
    "<div class=\"math notranslate nohighlight\">\n",
    "  \\begin{equation*} c(x) =\n",
    "  \\begin{bmatrix} x_0^2 + x_1 \\\\ x_0^2 - x_1\\end{bmatrix}\n",
    "   \\leq\n",
    "   \\begin{bmatrix} 1 \\\\ 1\\end{bmatrix}, \\end{equation*}</div>\n",
    "with Jacobian matrix:\n",
    "<div class=\"math notranslate nohighlight\">\n",
    "\\begin{equation*} J(x) =\n",
    "  \\begin{bmatrix} 2x_0 & 1 \\\\ 2x_0 & -1\n",
    "   \\end{bmatrix},\n",
    "\\end{equation*}</div>\n",
    "\n",
    "and linear combination of the Hessians:\n",
    "<div class=\"math notranslate nohighlight\">\n",
    "  \\begin{equation*} H(x, v) = \\sum_{i=0}^1 v_i \\nabla^2 c_i(x) =\n",
    "  v_0\\begin{bmatrix} 2 & 0 \\\\ 0 & 0\\end{bmatrix} +\n",
    "  v_1\\begin{bmatrix} 2 & 0 \\\\ 0 & 0\\end{bmatrix},\n",
    "  \\end{equation*}</div>\n",
    "\n",
    "is defined using a [NonlinearConstraint](https://docs.scipy.org/doc/scipy/reference/generated/scipy.optimize.NonlinearConstraint.html#scipy.optimize.NonlinearConstraint) object."
   ]
  },
  {
   "cell_type": "code",
   "execution_count": 32,
   "metadata": {
    "ExecuteTime": {
     "end_time": "2020-10-07T13:07:07.430732Z",
     "start_time": "2020-10-07T13:07:07.418731Z"
    }
   },
   "outputs": [],
   "source": [
    "def cons_f(x):\n",
    "    return [x[0]**2 + x[1], x[0]**2 - x[1]]\n",
    "def cons_J(x):\n",
    "    return [[2*x[0], 1], [2*x[0], -1]]\n",
    "def cons_H(x, v):\n",
    "    return v[0]*np.array([[2, 0], [0, 0]]) + v[1]*np.array([[2, 0], [0, 0]])\n",
    "from scipy.optimize import NonlinearConstraint\n",
    "nonlinear_constraint = NonlinearConstraint(cons_f, -np.inf, 1, jac=cons_J, hess=cons_H)"
   ]
  },
  {
   "cell_type": "markdown",
   "metadata": {},
   "source": [
    "Alternatively, it is also possible to define the Hessian $H(x, v)$ as a sparse matrix,"
   ]
  },
  {
   "cell_type": "code",
   "execution_count": 33,
   "metadata": {
    "ExecuteTime": {
     "end_time": "2020-10-07T13:08:13.472343Z",
     "start_time": "2020-10-07T13:08:13.462345Z"
    }
   },
   "outputs": [],
   "source": [
    "from scipy.sparse import csc_matrix\n",
    "def cons_H_sparse(x, v):\n",
    "    return v[0]*csc_matrix([[2, 0], [0, 0]]) + v[1]*csc_matrix([[2, 0], [0, 0]])\n",
    "nonlinear_constraint = NonlinearConstraint(cons_f, -np.inf, 1,\n",
    "                                           jac=cons_J, hess=cons_H_sparse)"
   ]
  },
  {
   "cell_type": "markdown",
   "metadata": {},
   "source": [
    "or as a [LinearOperator](https://docs.scipy.org/doc/scipy/reference/generated/scipy.sparse.linalg.LinearOperator.html#scipy.sparse.linalg.LinearOperator) object."
   ]
  },
  {
   "cell_type": "code",
   "execution_count": 34,
   "metadata": {
    "ExecuteTime": {
     "end_time": "2020-10-07T13:09:00.466943Z",
     "start_time": "2020-10-07T13:09:00.449942Z"
    }
   },
   "outputs": [],
   "source": [
    "from scipy.sparse.linalg import LinearOperator\n",
    "def cons_H_linear_operator(x, v):\n",
    "    def matvec(p):\n",
    "        return np.array([p[0]*2*(v[0]+v[1]), 0])\n",
    "    return LinearOperator((2, 2), matvec=matvec)\n",
    "nonlinear_constraint = NonlinearConstraint(cons_f, -np.inf, 1,\n",
    "                                          jac=cons_J, hess=cons_H_linear_operator)"
   ]
  },
  {
   "cell_type": "markdown",
   "metadata": {},
   "source": [
    "When the evaluation of the Hessian $H(x,v)$ is difficult to implement or computationally infeasible, one may use **HessianUpdateStrategy**. Currently available strategies are **BFGS** and **SR1**."
   ]
  },
  {
   "cell_type": "code",
   "execution_count": 35,
   "metadata": {
    "ExecuteTime": {
     "end_time": "2020-10-07T13:10:22.401407Z",
     "start_time": "2020-10-07T13:10:22.384402Z"
    }
   },
   "outputs": [],
   "source": [
    "from scipy.optimize import BFGS\n",
    "nonlinear_constraint = NonlinearConstraint(cons_f, -np.inf, 1, jac=cons_J, hess=BFGS())"
   ]
  },
  {
   "cell_type": "markdown",
   "metadata": {},
   "source": [
    "Alternatively, the Hessian may be approximated using finite differences."
   ]
  },
  {
   "cell_type": "code",
   "execution_count": 36,
   "metadata": {
    "ExecuteTime": {
     "end_time": "2020-10-07T13:10:45.585527Z",
     "start_time": "2020-10-07T13:10:45.570528Z"
    }
   },
   "outputs": [],
   "source": [
    "nonlinear_constraint = NonlinearConstraint(cons_f, -np.inf, 1, jac=cons_J, hess='2-point')"
   ]
  },
  {
   "cell_type": "markdown",
   "metadata": {},
   "source": [
    "The Jacobian of the constraints can be approximated by finite differences as well. In this case, however, the Hessian cannot be computed with finite differences and needs to be provided by the user or defined using [HessianUpdateStrategy](https://docs.scipy.org/doc/scipy/reference/generated/scipy.optimize.HessianUpdateStrategy.html#scipy.optimize.HessianUpdateStrategy)."
   ]
  },
  {
   "cell_type": "code",
   "execution_count": 37,
   "metadata": {
    "ExecuteTime": {
     "end_time": "2020-10-07T13:12:15.880521Z",
     "start_time": "2020-10-07T13:12:15.866523Z"
    }
   },
   "outputs": [],
   "source": [
    "nonlinear_constraint = NonlinearConstraint(cons_f, -np.inf, 1, jac='2-point', hess=BFGS())"
   ]
  },
  {
   "cell_type": "markdown",
   "metadata": {},
   "source": [
    "### Solving the Optimization Problem:\n",
    "The optimization problem is solved using:"
   ]
  },
  {
   "cell_type": "code",
   "execution_count": 40,
   "metadata": {
    "ExecuteTime": {
     "end_time": "2020-10-07T13:14:33.240536Z",
     "start_time": "2020-10-07T13:14:33.151533Z"
    }
   },
   "outputs": [
    {
     "name": "stdout",
     "output_type": "stream",
     "text": [
      "`gtol` termination condition is satisfied.\n",
      "Number of iterations: 12, function evaluations: 8, CG iterations: 7, optimality: 2.99e-09, constraint violation: 0.00e+00, execution time: 0.055 s.\n",
      " barrier_parameter: 0.00016000000000000007\n",
      " barrier_tolerance: 0.00016000000000000007\n",
      "          cg_niter: 7\n",
      "      cg_stop_cond: 1\n",
      "            constr: [array([0.75516406, 1.        ]), array([0.34228899, 0.00207024]), array([0.41494531, 0.17010937])]\n",
      "       constr_nfev: [0, 24, 0]\n",
      "       constr_nhev: [0, 0, 0]\n",
      "       constr_njev: [0, 0, 0]\n",
      "    constr_penalty: 1.0\n",
      "  constr_violation: 0.0\n",
      "    execution_time: 0.05500531196594238\n",
      "               fun: 0.3427175756422305\n",
      "              grad: array([-0.82649483, -0.41404799])\n",
      "               jac: [array([[1, 2],\n",
      "       [2, 1]]), array([[ 0.82989064,  1.        ],\n",
      "       [ 0.82989064, -1.        ]]), array([[1., 0.],\n",
      "       [0., 1.]])]\n",
      "   lagrangian_grad: array([ 1.49481413e-09, -2.98962822e-09])\n",
      "           message: '`gtol` termination condition is satisfied.'\n",
      "            method: 'tr_interior_point'\n",
      "              nfev: 8\n",
      "              nhev: 8\n",
      "               nit: 12\n",
      "             niter: 12\n",
      "              njev: 8\n",
      "        optimality: 2.9896282153173397e-09\n",
      "            status: 1\n",
      "           success: True\n",
      "         tr_radius: 3825.1882321555627\n",
      "                 v: [array([0.00065357, 0.41280922]), array([0.00024327, 0.00016033]), array([-0.00011213, -0.00015132])]\n",
      "                 x: array([0.41494531, 0.17010937])\n"
     ]
    }
   ],
   "source": [
    "x0 = np.array([0.5, 0])\n",
    "res = minimize(rosen, x0, method='trust-constr', jac=rosen_der, hess=rosen_hess,\n",
    "               constraints=[linear_constraint, nonlinear_constraint],\n",
    "               options={'verbose': 1}, bounds=bounds)\n",
    "print(res)"
   ]
  },
  {
   "cell_type": "markdown",
   "metadata": {},
   "source": [
    "or a Hessian-vector product through the parameter ``hessp``."
   ]
  },
  {
   "cell_type": "code",
   "execution_count": 41,
   "metadata": {
    "ExecuteTime": {
     "end_time": "2020-10-07T13:15:53.006538Z",
     "start_time": "2020-10-07T13:15:52.960524Z"
    }
   },
   "outputs": [
    {
     "name": "stdout",
     "output_type": "stream",
     "text": [
      "`gtol` termination condition is satisfied.\n",
      "Number of iterations: 12, function evaluations: 8, CG iterations: 7, optimality: 2.99e-09, constraint violation: 0.00e+00, execution time: 0.029 s.\n",
      " barrier_parameter: 0.00016000000000000007\n",
      " barrier_tolerance: 0.00016000000000000007\n",
      "          cg_niter: 7\n",
      "      cg_stop_cond: 1\n",
      "            constr: [array([0.75516406, 1.        ]), array([0.34228899, 0.00207024]), array([0.41494531, 0.17010937])]\n",
      "       constr_nfev: [0, 24, 0]\n",
      "       constr_nhev: [0, 0, 0]\n",
      "       constr_njev: [0, 0, 0]\n",
      "    constr_penalty: 1.0\n",
      "  constr_violation: 0.0\n",
      "    execution_time: 0.028998851776123047\n",
      "               fun: 0.3427175756422305\n",
      "              grad: array([-0.82649483, -0.41404799])\n",
      "               jac: [array([[1, 2],\n",
      "       [2, 1]]), array([[ 0.82989064,  1.        ],\n",
      "       [ 0.82989064, -1.        ]]), array([[1., 0.],\n",
      "       [0., 1.]])]\n",
      "   lagrangian_grad: array([ 1.49481413e-09, -2.98962822e-09])\n",
      "           message: '`gtol` termination condition is satisfied.'\n",
      "            method: 'tr_interior_point'\n",
      "              nfev: 8\n",
      "              nhev: 8\n",
      "               nit: 12\n",
      "             niter: 12\n",
      "              njev: 8\n",
      "        optimality: 2.9896282153173397e-09\n",
      "            status: 1\n",
      "           success: True\n",
      "         tr_radius: 3825.1882321555627\n",
      "                 v: [array([0.00065357, 0.41280922]), array([0.00024327, 0.00016033]), array([-0.00011213, -0.00015132])]\n",
      "                 x: array([0.41494531, 0.17010937])\n"
     ]
    }
   ],
   "source": [
    "res = minimize(rosen, x0, method='trust-constr', jac=rosen_der, hessp=rosen_hess_p,\n",
    "               constraints=[linear_constraint, nonlinear_constraint],\n",
    "               options={'verbose': 1}, bounds=bounds)\n",
    "print(res)"
   ]
  },
  {
   "cell_type": "markdown",
   "metadata": {},
   "source": [
    "Alternatively, the first and second derivatives of the objective function can be approximated. For instance, the Hessian can be approximated with SR1 quasi-Newton approximation and the gradient with finite differences."
   ]
  },
  {
   "cell_type": "code",
   "execution_count": 42,
   "metadata": {
    "ExecuteTime": {
     "end_time": "2020-10-07T13:16:29.482514Z",
     "start_time": "2020-10-07T13:16:29.442512Z"
    }
   },
   "outputs": [
    {
     "name": "stdout",
     "output_type": "stream",
     "text": [
      "`gtol` termination condition is satisfied.\n",
      "Number of iterations: 12, function evaluations: 24, CG iterations: 7, optimality: 4.40e-09, constraint violation: 0.00e+00, execution time: 0.026 s.\n",
      " barrier_parameter: 0.00016000000000000007\n",
      " barrier_tolerance: 0.00016000000000000007\n",
      "          cg_niter: 7\n",
      "      cg_stop_cond: 1\n",
      "            constr: [array([0.75516406, 1.        ]), array([0.34228898, 0.00207024]), array([0.41494531, 0.17010937])]\n",
      "       constr_nfev: [0, 24, 0]\n",
      "       constr_nhev: [0, 0, 0]\n",
      "       constr_njev: [0, 0, 0]\n",
      "    constr_penalty: 1.0\n",
      "  constr_violation: 0.0\n",
      "    execution_time: 0.026001930236816406\n",
      "               fun: 0.3427175756442948\n",
      "              grad: array([-0.82649317, -0.41404723])\n",
      "               jac: [array([[1, 2],\n",
      "       [2, 1]]), array([[ 0.82989064,  1.        ],\n",
      "       [ 0.82989064, -1.        ]]), array([[1., 0.],\n",
      "       [0., 1.]])]\n",
      "   lagrangian_grad: array([ 2.20000143e-09, -4.40000288e-09])\n",
      "           message: '`gtol` termination condition is satisfied.'\n",
      "            method: 'tr_interior_point'\n",
      "              nfev: 24\n",
      "              nhev: 0\n",
      "               nit: 12\n",
      "             niter: 12\n",
      "              njev: 8\n",
      "        optimality: 4.400002879731933e-09\n",
      "            status: 1\n",
      "           success: True\n",
      "         tr_radius: 2513.0096871930805\n",
      "                 v: [array([0.00065361, 0.41280838]), array([0.00024327, 0.00016033]), array([-0.00011213, -0.00015132])]\n",
      "                 x: array([0.41494531, 0.17010937])\n"
     ]
    }
   ],
   "source": [
    "from scipy.optimize import SR1\n",
    "res = minimize(rosen, x0, method='trust-constr',  jac=\"2-point\", hess=SR1(),\n",
    "               constraints=[linear_constraint, nonlinear_constraint],\n",
    "               options={'verbose': 1}, bounds=bounds)\n",
    "print(res)"
   ]
  },
  {
   "cell_type": "markdown",
   "metadata": {},
   "source": [
    "**References:**\n",
    "\n",
    "Byrd, Richard H., Mary E. Hribar, and Jorge Nocedal. 1999. An interior point algorithm for large-scale nonlinear programming. SIAM Journal on Optimization 9.4: 877-900.\n",
    "\n",
    "EQSQP\n",
    "Lalee, Marucha, Jorge Nocedal, and Todd Plantega. 1998. On the implementation of an algorithm for large-scale equality constrained optimization. SIAM Journal on Optimization 8.3: 682-706."
   ]
  },
  {
   "cell_type": "markdown",
   "metadata": {},
   "source": [
    "## Sequential Least SQuares Programming (SLSQP) Algorithm (method='SLSQP')\n",
    "\n",
    "The SLSQP method deals with constrained minimization problems of the form:\n",
    "<div class=\"math notranslate nohighlight\">\n",
    "\\begin{eqnarray*} \\min_x & f(x) \\\\\n",
    " \\text{subject to: } & c_j(x) =  0  ,  & j \\in \\mathcal{E}\\\\\n",
    "  & c_j(x) \\geq 0  ,  & j \\in \\mathcal{I}\\\\\n",
    "  &  \\text{lb}_i  \\leq x_i \\leq \\text{ub}_i , & i = 1,...,N. \n",
    "\\end{eqnarray*}</div>\n",
    "        \n",
    "Where $\\mathcal{E}$ or $\\mathcal{I}$ are sets of indices containing equality and inequality constraints.\n",
    "\n",
    "Both linear and nonlinear constraints are defined as dictionaries with keys ``type``, ``fun`` and ``jac``."
   ]
  },
  {
   "cell_type": "code",
   "execution_count": 43,
   "metadata": {
    "ExecuteTime": {
     "end_time": "2020-10-07T13:24:51.004426Z",
     "start_time": "2020-10-07T13:24:50.997448Z"
    }
   },
   "outputs": [],
   "source": [
    "ineq_cons = {'type': 'ineq',\n",
    "             'fun' : lambda x: np.array([1 - x[0] - 2*x[1],\n",
    "                                         1 - x[0]**2 - x[1],\n",
    "                                         1 - x[0]**2 + x[1]]),\n",
    "             'jac' : lambda x: np.array([[-1.0, -2.0],\n",
    "                                         [-2*x[0], -1.0],\n",
    "                                         [-2*x[0], 1.0]])}\n",
    "eq_cons = {'type': 'eq',\n",
    "           'fun' : lambda x: np.array([2*x[0] + x[1] - 1]),\n",
    "           'jac' : lambda x: np.array([2.0, 1.0])}"
   ]
  },
  {
   "cell_type": "markdown",
   "metadata": {},
   "source": [
    "And the optimization problem is solved with:"
   ]
  },
  {
   "cell_type": "code",
   "execution_count": 44,
   "metadata": {
    "ExecuteTime": {
     "end_time": "2020-10-07T13:25:21.094429Z",
     "start_time": "2020-10-07T13:25:21.068432Z"
    }
   },
   "outputs": [
    {
     "name": "stdout",
     "output_type": "stream",
     "text": [
      "Optimization terminated successfully    (Exit mode 0)\n",
      "            Current function value: 0.34271757499419825\n",
      "            Iterations: 4\n",
      "            Function evaluations: 5\n",
      "            Gradient evaluations: 4\n",
      "     fun: 0.34271757499419825\n",
      "     jac: array([-0.82676145, -0.41372864])\n",
      " message: 'Optimization terminated successfully'\n",
      "    nfev: 5\n",
      "     nit: 4\n",
      "    njev: 4\n",
      "  status: 0\n",
      " success: True\n",
      "       x: array([0.41494475, 0.1701105 ])\n"
     ]
    }
   ],
   "source": [
    "x0 = np.array([0.5, 0])\n",
    "res = minimize(rosen, x0, method='SLSQP', jac=rosen_der,\n",
    "               constraints=[eq_cons, ineq_cons], options={'ftol': 1e-9, 'disp': True},\n",
    "               bounds=bounds)\n",
    "print(res)"
   ]
  },
  {
   "cell_type": "markdown",
   "metadata": {},
   "source": [
    "Most of the options available for the method '``trust-constr``' are not available for '``SLSQP``'."
   ]
  },
  {
   "cell_type": "code",
   "execution_count": null,
   "metadata": {},
   "outputs": [],
   "source": []
  },
  {
   "cell_type": "code",
   "execution_count": null,
   "metadata": {},
   "outputs": [],
   "source": []
  },
  {
   "cell_type": "code",
   "execution_count": null,
   "metadata": {},
   "outputs": [],
   "source": []
  },
  {
   "cell_type": "code",
   "execution_count": null,
   "metadata": {},
   "outputs": [],
   "source": []
  },
  {
   "cell_type": "code",
   "execution_count": null,
   "metadata": {},
   "outputs": [],
   "source": []
  }
 ],
 "metadata": {
  "kernelspec": {
   "display_name": "Python 3",
   "language": "python",
   "name": "python3"
  },
  "language_info": {
   "codemirror_mode": {
    "name": "ipython",
    "version": 3
   },
   "file_extension": ".py",
   "mimetype": "text/x-python",
   "name": "python",
   "nbconvert_exporter": "python",
   "pygments_lexer": "ipython3",
   "version": "3.7.9"
  },
  "varInspector": {
   "cols": {
    "lenName": 16,
    "lenType": 16,
    "lenVar": 40
   },
   "kernels_config": {
    "python": {
     "delete_cmd_postfix": "",
     "delete_cmd_prefix": "del ",
     "library": "var_list.py",
     "varRefreshCmd": "print(var_dic_list())"
    },
    "r": {
     "delete_cmd_postfix": ") ",
     "delete_cmd_prefix": "rm(",
     "library": "var_list.r",
     "varRefreshCmd": "cat(var_dic_list()) "
    }
   },
   "types_to_exclude": [
    "module",
    "function",
    "builtin_function_or_method",
    "instance",
    "_Feature"
   ],
   "window_display": false
  }
 },
 "nbformat": 4,
 "nbformat_minor": 4
}
