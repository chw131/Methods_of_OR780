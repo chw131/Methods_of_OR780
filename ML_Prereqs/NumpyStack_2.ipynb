{
 "cells": [
  {
   "cell_type": "markdown",
   "metadata": {},
   "source": [
    "# Numpy Stack Lecture 2"
   ]
  },
  {
   "cell_type": "code",
   "execution_count": null,
   "metadata": {},
   "outputs": [],
   "source": [
    "#! pip install jupyter_contrib_nbextensions\n",
    "#! jupyter contrib nbextension install --system"
   ]
  },
  {
   "cell_type": "code",
   "execution_count": 1,
   "metadata": {
    "ExecuteTime": {
     "end_time": "2020-02-02T12:59:15.139984Z",
     "start_time": "2020-02-02T12:59:14.979007Z"
    }
   },
   "outputs": [],
   "source": [
    "import numpy as np"
   ]
  },
  {
   "cell_type": "markdown",
   "metadata": {},
   "source": [
    "# Generate numpy arrarys"
   ]
  },
  {
   "cell_type": "code",
   "execution_count": 2,
   "metadata": {
    "ExecuteTime": {
     "end_time": "2020-02-02T12:59:15.170983Z",
     "start_time": "2020-02-02T12:59:15.147984Z"
    }
   },
   "outputs": [
    {
     "data": {
      "text/plain": [
       "array([1, 2, 3])"
      ]
     },
     "execution_count": 2,
     "metadata": {},
     "output_type": "execute_result"
    }
   ],
   "source": [
    "np.array([1, 2, 3])"
   ]
  },
  {
   "cell_type": "markdown",
   "metadata": {},
   "source": [
    "#### Generate 10 zeros in a vector\n",
    "**Bold** face, _this_"
   ]
  },
  {
   "cell_type": "code",
   "execution_count": 4,
   "metadata": {
    "ExecuteTime": {
     "end_time": "2020-02-02T12:59:15.201986Z",
     "start_time": "2020-02-02T12:59:15.180988Z"
    }
   },
   "outputs": [
    {
     "data": {
      "text/plain": [
       "array([0., 0., 0., 0., 0., 0., 0., 0., 0., 0.])"
      ]
     },
     "execution_count": 4,
     "metadata": {},
     "output_type": "execute_result"
    }
   ],
   "source": [
    "np.zeros(10)"
   ]
  },
  {
   "cell_type": "markdown",
   "metadata": {},
   "source": [
    "**10x10 matrix with zeros**"
   ]
  },
  {
   "cell_type": "code",
   "execution_count": 5,
   "metadata": {
    "ExecuteTime": {
     "end_time": "2020-02-02T12:59:15.217986Z",
     "start_time": "2020-02-02T12:59:15.210987Z"
    }
   },
   "outputs": [
    {
     "data": {
      "text/plain": [
       "array([[0., 0., 0., 0., 0., 0., 0., 0., 0., 0.],\n",
       "       [0., 0., 0., 0., 0., 0., 0., 0., 0., 0.],\n",
       "       [0., 0., 0., 0., 0., 0., 0., 0., 0., 0.],\n",
       "       [0., 0., 0., 0., 0., 0., 0., 0., 0., 0.],\n",
       "       [0., 0., 0., 0., 0., 0., 0., 0., 0., 0.],\n",
       "       [0., 0., 0., 0., 0., 0., 0., 0., 0., 0.],\n",
       "       [0., 0., 0., 0., 0., 0., 0., 0., 0., 0.],\n",
       "       [0., 0., 0., 0., 0., 0., 0., 0., 0., 0.],\n",
       "       [0., 0., 0., 0., 0., 0., 0., 0., 0., 0.],\n",
       "       [0., 0., 0., 0., 0., 0., 0., 0., 0., 0.]])"
      ]
     },
     "execution_count": 5,
     "metadata": {},
     "output_type": "execute_result"
    }
   ],
   "source": [
    "Z = np.zeros((10,10))\n",
    "Z"
   ]
  },
  {
   "cell_type": "markdown",
   "metadata": {},
   "source": [
    "a 10x10 matrix of 1's"
   ]
  },
  {
   "cell_type": "code",
   "execution_count": 6,
   "metadata": {
    "ExecuteTime": {
     "end_time": "2020-02-02T12:59:15.265983Z",
     "start_time": "2020-02-02T12:59:15.260985Z"
    }
   },
   "outputs": [
    {
     "data": {
      "text/plain": [
       "array([[1., 1., 1., 1., 1., 1., 1., 1., 1., 1.],\n",
       "       [1., 1., 1., 1., 1., 1., 1., 1., 1., 1.],\n",
       "       [1., 1., 1., 1., 1., 1., 1., 1., 1., 1.],\n",
       "       [1., 1., 1., 1., 1., 1., 1., 1., 1., 1.],\n",
       "       [1., 1., 1., 1., 1., 1., 1., 1., 1., 1.],\n",
       "       [1., 1., 1., 1., 1., 1., 1., 1., 1., 1.],\n",
       "       [1., 1., 1., 1., 1., 1., 1., 1., 1., 1.],\n",
       "       [1., 1., 1., 1., 1., 1., 1., 1., 1., 1.],\n",
       "       [1., 1., 1., 1., 1., 1., 1., 1., 1., 1.],\n",
       "       [1., 1., 1., 1., 1., 1., 1., 1., 1., 1.]])"
      ]
     },
     "execution_count": 6,
     "metadata": {},
     "output_type": "execute_result"
    }
   ],
   "source": [
    "O = np.ones((10,10))\n",
    "O"
   ]
  },
  {
   "cell_type": "markdown",
   "metadata": {},
   "source": [
    "#### a 5x5 identity matrix"
   ]
  },
  {
   "cell_type": "code",
   "execution_count": 20,
   "metadata": {},
   "outputs": [
    {
     "data": {
      "text/plain": [
       "array([[1., 0., 0., 0., 0.],\n",
       "       [0., 1., 0., 0., 0.],\n",
       "       [0., 0., 1., 0., 0.],\n",
       "       [0., 0., 0., 1., 0.],\n",
       "       [0., 0., 0., 0., 1.]])"
      ]
     },
     "execution_count": 20,
     "metadata": {},
     "output_type": "execute_result"
    }
   ],
   "source": [
    "np.eye(5)"
   ]
  },
  {
   "cell_type": "code",
   "execution_count": 7,
   "metadata": {},
   "outputs": [
    {
     "data": {
      "text/plain": [
       "array([3., 3., 3., 3., 3., 3., 3., 3., 3., 3.])"
      ]
     },
     "execution_count": 7,
     "metadata": {},
     "output_type": "execute_result"
    }
   ],
   "source": [
    "np.ones(10)*3"
   ]
  },
  {
   "cell_type": "markdown",
   "metadata": {},
   "source": [
    "a 10 elements vector of 3's"
   ]
  },
  {
   "cell_type": "code",
   "execution_count": 9,
   "metadata": {
    "scrolled": true
   },
   "outputs": [
    {
     "data": {
      "text/plain": [
       "array([[ 5,  6,  7,  8],\n",
       "       [ 9, 10, 11, 12],\n",
       "       [13, 14, 15, 16],\n",
       "       [17, 18, 19, 20]])"
      ]
     },
     "execution_count": 9,
     "metadata": {},
     "output_type": "execute_result"
    }
   ],
   "source": [
    "np.arange(5,21).reshape(4,4)"
   ]
  },
  {
   "cell_type": "code",
   "execution_count": 12,
   "metadata": {},
   "outputs": [
    {
     "data": {
      "text/plain": [
       "array([[0.25, 0.3 , 0.35, 0.4 ],\n",
       "       [0.45, 0.5 , 0.55, 0.6 ],\n",
       "       [0.65, 0.7 , 0.75, 0.8 ],\n",
       "       [0.85, 0.9 , 0.95, 1.  ]])"
      ]
     },
     "execution_count": 12,
     "metadata": {},
     "output_type": "execute_result"
    }
   ],
   "source": [
    "np.arange(5,21).reshape(4,4)/20.0"
   ]
  },
  {
   "cell_type": "markdown",
   "metadata": {},
   "source": [
    "#### Generate a 5x5 matrix with ~uniform(0,1)"
   ]
  },
  {
   "cell_type": "code",
   "execution_count": 14,
   "metadata": {
    "ExecuteTime": {
     "end_time": "2020-02-02T12:59:15.330005Z",
     "start_time": "2020-02-02T12:59:15.313985Z"
    }
   },
   "outputs": [
    {
     "data": {
      "text/plain": [
       "array([[3.33890584, 3.77391689, 3.01229916, 3.37394108, 1.49922206],\n",
       "       [3.80300809, 1.8686981 , 3.57737519, 4.23365165, 3.48317297],\n",
       "       [4.25456583, 1.2286742 , 2.14236355, 4.65311022, 4.43006289],\n",
       "       [2.46955899, 2.14569118, 2.29373457, 4.2862622 , 1.80114106],\n",
       "       [1.80549831, 4.00563591, 2.59402199, 1.84121156, 2.1195555 ]])"
      ]
     },
     "execution_count": 14,
     "metadata": {},
     "output_type": "execute_result"
    }
   ],
   "source": [
    "1 + np.random.random((5, 5))*4"
   ]
  },
  {
   "cell_type": "code",
   "execution_count": 18,
   "metadata": {
    "ExecuteTime": {
     "end_time": "2020-02-02T12:59:15.361983Z",
     "start_time": "2020-02-02T12:59:15.340988Z"
    }
   },
   "outputs": [
    {
     "data": {
      "text/plain": [
       "array([[-0.41713985,  2.25339833,  5.71773226,  3.41394921,  2.70345   ],\n",
       "       [ 2.27245822,  3.94278374,  2.7309457 ,  5.58397156,  1.67008582],\n",
       "       [ 6.54591025,  4.00978704,  4.54604574,  1.82202222,  3.00342223],\n",
       "       [ 0.56454667,  4.39997855,  3.39031509,  5.02361696,  3.88391976],\n",
       "       [ 4.62661148,  4.6879412 ,  1.04729421,  3.5942497 ,  1.94723542]])"
      ]
     },
     "execution_count": 18,
     "metadata": {},
     "output_type": "execute_result"
    }
   ],
   "source": [
    "mu = 3.0\n",
    "std = 2.0\n",
    "G = mu + np.random.randn(5, 5) * std \n",
    "G"
   ]
  },
  {
   "cell_type": "code",
   "execution_count": 19,
   "metadata": {
    "ExecuteTime": {
     "end_time": "2020-02-02T12:59:15.409984Z",
     "start_time": "2020-02-02T12:59:15.383985Z"
    }
   },
   "outputs": [
    {
     "data": {
      "text/plain": [
       "3.3185812610510768"
      ]
     },
     "execution_count": 19,
     "metadata": {},
     "output_type": "execute_result"
    }
   ],
   "source": [
    "G.mean()"
   ]
  },
  {
   "cell_type": "code",
   "execution_count": 20,
   "metadata": {
    "ExecuteTime": {
     "end_time": "2020-02-02T12:59:15.441982Z",
     "start_time": "2020-02-02T12:59:15.420984Z"
    }
   },
   "outputs": [
    {
     "data": {
      "text/plain": [
       "2.7335610727330804"
      ]
     },
     "execution_count": 20,
     "metadata": {},
     "output_type": "execute_result"
    }
   ],
   "source": [
    "G.var()"
   ]
  },
  {
   "cell_type": "markdown",
   "metadata": {},
   "source": [
    "# Matrix Products"
   ]
  },
  {
   "cell_type": "code",
   "execution_count": 22,
   "metadata": {
    "ExecuteTime": {
     "end_time": "2020-02-02T12:59:15.457982Z",
     "start_time": "2020-02-02T12:59:15.451983Z"
    }
   },
   "outputs": [
    {
     "name": "stdout",
     "output_type": "stream",
     "text": [
      "[[1 2]\n",
      " [3 4]]\n"
     ]
    }
   ],
   "source": [
    "A =np.array([[1, 2], [3, 4]])\n",
    "print(A)"
   ]
  },
  {
   "cell_type": "code",
   "execution_count": 23,
   "metadata": {
    "ExecuteTime": {
     "end_time": "2020-02-02T12:59:15.489983Z",
     "start_time": "2020-02-02T12:59:15.464989Z"
    }
   },
   "outputs": [],
   "source": [
    "Ainv = np.linalg.inv(A)"
   ]
  },
  {
   "cell_type": "code",
   "execution_count": 24,
   "metadata": {
    "ExecuteTime": {
     "end_time": "2020-02-02T12:59:15.522002Z",
     "start_time": "2020-02-02T12:59:15.497003Z"
    }
   },
   "outputs": [
    {
     "data": {
      "text/plain": [
       "array([[-2. ,  1. ],\n",
       "       [ 1.5, -0.5]])"
      ]
     },
     "execution_count": 24,
     "metadata": {},
     "output_type": "execute_result"
    }
   ],
   "source": [
    "Ainv"
   ]
  },
  {
   "cell_type": "markdown",
   "metadata": {},
   "source": [
    "$AA^{-1} = I$"
   ]
  },
  {
   "cell_type": "code",
   "execution_count": 25,
   "metadata": {
    "ExecuteTime": {
     "end_time": "2020-02-02T12:59:15.553986Z",
     "start_time": "2020-02-02T12:59:15.531985Z"
    }
   },
   "outputs": [
    {
     "data": {
      "text/plain": [
       "array([[1.0000000e+00, 4.4408921e-16],\n",
       "       [0.0000000e+00, 1.0000000e+00]])"
      ]
     },
     "execution_count": 25,
     "metadata": {},
     "output_type": "execute_result"
    }
   ],
   "source": [
    "Ainv.dot(A)"
   ]
  },
  {
   "cell_type": "code",
   "execution_count": 26,
   "metadata": {
    "ExecuteTime": {
     "end_time": "2020-02-02T12:59:15.585986Z",
     "start_time": "2020-02-02T12:59:15.563985Z"
    }
   },
   "outputs": [
    {
     "data": {
      "text/plain": [
       "array([[1.00000000e+00, 1.11022302e-16],\n",
       "       [0.00000000e+00, 1.00000000e+00]])"
      ]
     },
     "execution_count": 26,
     "metadata": {},
     "output_type": "execute_result"
    }
   ],
   "source": [
    "A.dot(Ainv)"
   ]
  },
  {
   "cell_type": "code",
   "execution_count": 27,
   "metadata": {},
   "outputs": [
    {
     "data": {
      "text/plain": [
       "array([[1.00000000e+00, 1.11022302e-16],\n",
       "       [0.00000000e+00, 1.00000000e+00]])"
      ]
     },
     "execution_count": 27,
     "metadata": {},
     "output_type": "execute_result"
    }
   ],
   "source": [
    "np.dot(A,Ainv)"
   ]
  },
  {
   "cell_type": "code",
   "execution_count": 28,
   "metadata": {
    "ExecuteTime": {
     "end_time": "2020-02-02T12:59:15.617985Z",
     "start_time": "2020-02-02T12:59:15.594993Z"
    }
   },
   "outputs": [
    {
     "data": {
      "text/plain": [
       "-2.0000000000000004"
      ]
     },
     "execution_count": 28,
     "metadata": {},
     "output_type": "execute_result"
    }
   ],
   "source": [
    "np.linalg.det(A)"
   ]
  },
  {
   "cell_type": "code",
   "execution_count": 29,
   "metadata": {
    "ExecuteTime": {
     "end_time": "2020-02-02T12:59:15.650007Z",
     "start_time": "2020-02-02T12:59:15.629983Z"
    }
   },
   "outputs": [
    {
     "data": {
      "text/plain": [
       "array([1, 4])"
      ]
     },
     "execution_count": 29,
     "metadata": {},
     "output_type": "execute_result"
    }
   ],
   "source": [
    "np.diag(A)"
   ]
  },
  {
   "cell_type": "code",
   "execution_count": 30,
   "metadata": {
    "ExecuteTime": {
     "end_time": "2020-02-02T12:59:15.681239Z",
     "start_time": "2020-02-02T12:59:15.657984Z"
    }
   },
   "outputs": [
    {
     "data": {
      "text/plain": [
       "array([[1, 0],\n",
       "       [0, 4]])"
      ]
     },
     "execution_count": 30,
     "metadata": {},
     "output_type": "execute_result"
    }
   ],
   "source": [
    "np.diag([1, 4])"
   ]
  },
  {
   "cell_type": "code",
   "execution_count": null,
   "metadata": {
    "ExecuteTime": {
     "end_time": "2020-02-02T12:59:15.697257Z",
     "start_time": "2020-02-02T12:59:15.688243Z"
    }
   },
   "outputs": [],
   "source": [
    "a = np.array([1, 2])\n",
    "b = np.array([3, 4])"
   ]
  },
  {
   "cell_type": "code",
   "execution_count": null,
   "metadata": {
    "ExecuteTime": {
     "end_time": "2020-02-02T12:59:15.729256Z",
     "start_time": "2020-02-02T12:59:15.704242Z"
    }
   },
   "outputs": [],
   "source": [
    "np.outer(a, b)"
   ]
  },
  {
   "cell_type": "code",
   "execution_count": null,
   "metadata": {
    "ExecuteTime": {
     "end_time": "2020-02-02T12:59:15.761257Z",
     "start_time": "2020-02-02T12:59:15.736242Z"
    }
   },
   "outputs": [],
   "source": [
    "np.inner(a, b)"
   ]
  },
  {
   "cell_type": "code",
   "execution_count": 31,
   "metadata": {
    "ExecuteTime": {
     "end_time": "2020-02-02T12:59:15.793256Z",
     "start_time": "2020-02-02T12:59:15.770241Z"
    }
   },
   "outputs": [
    {
     "data": {
      "text/plain": [
       "5"
      ]
     },
     "execution_count": 31,
     "metadata": {},
     "output_type": "execute_result"
    }
   ],
   "source": [
    "np.diag(A).sum()"
   ]
  },
  {
   "cell_type": "code",
   "execution_count": 32,
   "metadata": {
    "ExecuteTime": {
     "end_time": "2020-02-02T12:59:15.825247Z",
     "start_time": "2020-02-02T12:59:15.801239Z"
    }
   },
   "outputs": [
    {
     "data": {
      "text/plain": [
       "5"
      ]
     },
     "execution_count": 32,
     "metadata": {},
     "output_type": "execute_result"
    }
   ],
   "source": [
    "np.trace(A)"
   ]
  },
  {
   "cell_type": "code",
   "execution_count": 34,
   "metadata": {
    "ExecuteTime": {
     "end_time": "2020-02-02T12:59:15.841239Z",
     "start_time": "2020-02-02T12:59:15.833258Z"
    }
   },
   "outputs": [
    {
     "data": {
      "text/plain": [
       "array([[-1.13049147, -0.14360532, -0.11283263],\n",
       "       [ 0.07330605,  0.5346988 , -0.25898564],\n",
       "       [-0.71509146,  0.37178425, -0.00795641],\n",
       "       [-0.68353377,  1.28154925, -1.46097825],\n",
       "       [ 0.17641728, -1.90799034, -1.13840054],\n",
       "       [ 1.1361862 , -1.29765927, -1.122631  ],\n",
       "       [ 0.50072808,  0.27262511,  0.36666003],\n",
       "       [ 1.64210531, -0.71651844, -0.51714852],\n",
       "       [-0.78410098,  1.03022739, -0.91403402],\n",
       "       [ 0.92308251, -1.40078204,  0.39995314],\n",
       "       [ 0.5717471 , -0.30197747,  0.08562577],\n",
       "       [ 0.43607081,  0.36653018, -0.57633535],\n",
       "       [-0.53146593, -1.18493885,  0.06884505],\n",
       "       [ 1.60804137,  0.15464809, -0.96639537],\n",
       "       [-1.15703282, -0.41856264,  0.50534144],\n",
       "       [-1.18503167, -0.92128081,  0.53146185],\n",
       "       [-1.4717166 , -0.86595833, -1.14177892],\n",
       "       [ 0.74059458, -0.21515544, -0.71747626],\n",
       "       [ 0.78914644, -1.74797699, -0.83104673],\n",
       "       [ 0.90865339,  0.36382026,  1.73487917],\n",
       "       [ 0.35075727, -0.35533981,  0.5088571 ],\n",
       "       [-0.6945093 , -0.12547922, -0.95154652],\n",
       "       [ 0.81458223, -1.17462511,  0.34229486],\n",
       "       [-0.61657823,  1.09757419,  0.32139921],\n",
       "       [-0.42459339,  1.46556104, -1.47817459],\n",
       "       [-1.327199  , -0.37018112, -0.04844343],\n",
       "       [-3.08789148,  0.48705335, -0.61459913],\n",
       "       [ 0.22904158, -0.76289584,  0.78743188],\n",
       "       [-2.11737303, -0.46309275,  0.96826229],\n",
       "       [ 0.26040508,  1.92989048, -0.72730864],\n",
       "       [ 0.96697735, -1.1328591 ,  1.57842936],\n",
       "       [-0.18695174, -0.0691496 , -0.13942129],\n",
       "       [-0.60611591,  0.19550101, -0.14567949],\n",
       "       [ 0.77609554,  0.50600025, -1.26274357],\n",
       "       [ 0.1525793 ,  0.51579894,  0.98012229],\n",
       "       [-0.97186409, -0.56017405, -1.70793231],\n",
       "       [ 0.96722099, -0.99759258,  1.19446853],\n",
       "       [-0.24848511,  0.65415476,  0.83192143],\n",
       "       [ 1.27973192,  0.57605667,  0.20406841],\n",
       "       [ 0.28142249,  0.67072929, -0.32187439],\n",
       "       [ 0.48039641,  0.57424426,  0.21024912],\n",
       "       [ 1.44203258,  0.85114242, -0.12944797],\n",
       "       [-0.51579587, -2.21348601,  0.74820327],\n",
       "       [ 1.43038876, -0.47090754,  1.78188618],\n",
       "       [-0.21876178,  1.17095497, -0.3133147 ],\n",
       "       [ 0.53894897, -0.72903868, -0.44304554],\n",
       "       [ 0.44967938, -0.11085392,  0.78233402],\n",
       "       [ 1.12256968,  0.3683004 ,  0.34356789],\n",
       "       [-1.03000482,  0.4995581 ,  0.42901724],\n",
       "       [ 0.43024269, -0.52732331, -0.58630476],\n",
       "       [ 0.5409451 ,  0.75298667, -0.31338777],\n",
       "       [-0.92660252, -0.26042825, -0.94549215],\n",
       "       [-0.59870959,  0.59007253,  0.19747893],\n",
       "       [-0.74876458,  0.59691206, -1.01488521],\n",
       "       [-0.20950445,  0.28959643, -0.54315654],\n",
       "       [-0.64570228, -1.0771081 , -0.20736384],\n",
       "       [-0.58281777, -0.26309219, -0.95585094],\n",
       "       [ 0.05309706, -0.28224962, -0.42406434],\n",
       "       [ 0.31523397, -1.26237339,  0.61852741],\n",
       "       [ 0.32373971,  0.73696287, -0.27438545],\n",
       "       [ 0.72861629, -0.06264201, -1.148514  ],\n",
       "       [ 0.94708511,  1.79608803, -0.34237504],\n",
       "       [-0.92043512,  1.20652053,  1.22754625],\n",
       "       [ 0.34695164,  0.22965807,  0.45770168],\n",
       "       [ 0.70769842, -1.25479071, -0.73597898],\n",
       "       [-2.29780067, -0.27656522,  0.3166154 ],\n",
       "       [ 0.50804509, -0.2295659 , -0.16786108],\n",
       "       [ 0.21852065,  0.83873677,  2.17788807],\n",
       "       [ 1.06734288,  0.8877515 , -0.4751889 ],\n",
       "       [-0.48293084, -0.42161066,  0.51340161],\n",
       "       [ 0.3818169 , -0.49449126,  1.26088045],\n",
       "       [ 1.07869156,  0.85524774, -1.19192346],\n",
       "       [ 0.0847819 , -0.40964054, -1.35561062],\n",
       "       [-0.76927647,  0.14373539, -0.47929526],\n",
       "       [-0.02915683,  1.09731926, -1.09433299],\n",
       "       [ 0.11208016, -0.19234709,  1.18340819],\n",
       "       [-0.11752145, -0.84385596,  0.15484269],\n",
       "       [-0.08015941,  1.20611255,  0.51532591],\n",
       "       [-1.06704598, -1.93766018,  0.70328775],\n",
       "       [-0.45446867, -0.64430984,  1.67426748],\n",
       "       [ 0.36046167,  2.11022656, -0.03342926],\n",
       "       [ 1.43896757, -0.12556851,  0.31587108],\n",
       "       [-0.96648826,  0.17639569,  0.16684092],\n",
       "       [-0.61309455,  1.65063425, -2.38602291],\n",
       "       [-1.04605786, -0.08260366, -0.35236204],\n",
       "       [-0.10231872,  0.40005572, -1.25004383],\n",
       "       [-0.34835477, -0.23040184,  0.55134988],\n",
       "       [ 2.06637091, -0.40824296, -0.69450893],\n",
       "       [ 1.63640274,  0.64748873, -0.18324935],\n",
       "       [-0.65991801,  2.74325574, -0.00766587],\n",
       "       [-0.7026398 ,  1.83397964,  0.24008974],\n",
       "       [-0.08504005,  1.39682593, -0.20673369],\n",
       "       [ 0.23222062,  0.68279787, -1.05522743],\n",
       "       [-0.71465659,  1.61943256,  0.15045242],\n",
       "       [ 0.32562704, -0.14270319, -0.44840878],\n",
       "       [ 1.51285636,  0.7012347 , -0.20580744],\n",
       "       [-1.93321155,  1.57898223, -1.396918  ],\n",
       "       [-1.23219694, -0.67571514,  0.39855263],\n",
       "       [ 0.56632379, -0.58357346,  0.7829358 ],\n",
       "       [-2.16005032,  1.11203273,  0.28937278]])"
      ]
     },
     "execution_count": 34,
     "metadata": {},
     "output_type": "execute_result"
    }
   ],
   "source": [
    "X = np.random.randn(100,3)\n",
    "X"
   ]
  },
  {
   "cell_type": "code",
   "execution_count": 35,
   "metadata": {
    "ExecuteTime": {
     "end_time": "2020-02-02T12:59:15.872487Z",
     "start_time": "2020-02-02T12:59:15.847257Z"
    }
   },
   "outputs": [],
   "source": [
    "cov = np.cov(X.T) # Transpose the X matrix first for convariance calculations"
   ]
  },
  {
   "cell_type": "code",
   "execution_count": 36,
   "metadata": {
    "ExecuteTime": {
     "end_time": "2020-02-02T12:59:15.904488Z",
     "start_time": "2020-02-02T12:59:15.879509Z"
    }
   },
   "outputs": [
    {
     "data": {
      "text/plain": [
       "array([[ 0.92172576, -0.08038441,  0.03784426],\n",
       "       [-0.08038441,  0.91109294, -0.1520931 ],\n",
       "       [ 0.03784426, -0.1520931 ,  0.71963679]])"
      ]
     },
     "execution_count": 36,
     "metadata": {},
     "output_type": "execute_result"
    }
   ],
   "source": [
    "cov"
   ]
  },
  {
   "cell_type": "code",
   "execution_count": 37,
   "metadata": {
    "ExecuteTime": {
     "end_time": "2020-02-02T12:59:15.936554Z",
     "start_time": "2020-02-02T12:59:15.911505Z"
    }
   },
   "outputs": [
    {
     "data": {
      "text/plain": [
       "(array([0.63552939, 0.86255242, 1.05437368]),\n",
       " array([[ 0.02166242,  0.8309595 , -0.55591101],\n",
       "        [ 0.48794153,  0.47653248,  0.73132063],\n",
       "        [ 0.87260748, -0.28709424, -0.3951368 ]]))"
      ]
     },
     "execution_count": 37,
     "metadata": {},
     "output_type": "execute_result"
    }
   ],
   "source": [
    "np.linalg.eigh(cov)"
   ]
  },
  {
   "cell_type": "code",
   "execution_count": 38,
   "metadata": {
    "ExecuteTime": {
     "end_time": "2020-02-02T12:59:15.967789Z",
     "start_time": "2020-02-02T12:59:15.943554Z"
    }
   },
   "outputs": [
    {
     "data": {
      "text/plain": [
       "(array([1.05437368, 0.86255242, 0.63552939]),\n",
       " array([[ 0.55591101, -0.8309595 ,  0.02166242],\n",
       "        [-0.73132063, -0.47653248,  0.48794153],\n",
       "        [ 0.3951368 ,  0.28709424,  0.87260748]]))"
      ]
     },
     "execution_count": 38,
     "metadata": {},
     "output_type": "execute_result"
    }
   ],
   "source": [
    "np.linalg.eig(cov)"
   ]
  },
  {
   "cell_type": "markdown",
   "metadata": {},
   "source": [
    "# Solving a linear system"
   ]
  },
  {
   "cell_type": "markdown",
   "metadata": {},
   "source": [
    "Problem: $Ax=b$ <br>\n",
    "Solution: $A^{-1}Ax= A^{-1}b$"
   ]
  },
  {
   "cell_type": "code",
   "execution_count": 39,
   "metadata": {
    "ExecuteTime": {
     "end_time": "2020-02-02T12:59:15.999768Z",
     "start_time": "2020-02-02T12:59:15.975774Z"
    }
   },
   "outputs": [
    {
     "data": {
      "text/plain": [
       "array([[1, 2],\n",
       "       [3, 4]])"
      ]
     },
     "execution_count": 39,
     "metadata": {},
     "output_type": "execute_result"
    }
   ],
   "source": [
    "A"
   ]
  },
  {
   "cell_type": "code",
   "execution_count": 41,
   "metadata": {
    "ExecuteTime": {
     "end_time": "2020-02-02T12:59:16.031771Z",
     "start_time": "2020-02-02T12:59:16.007790Z"
    }
   },
   "outputs": [],
   "source": [
    "b = [3, 6]"
   ]
  },
  {
   "cell_type": "code",
   "execution_count": 42,
   "metadata": {
    "ExecuteTime": {
     "end_time": "2020-02-02T12:59:16.046790Z",
     "start_time": "2020-02-02T12:59:16.038775Z"
    }
   },
   "outputs": [],
   "source": [
    "x = np.linalg.inv(A).dot(b)"
   ]
  },
  {
   "cell_type": "code",
   "execution_count": 43,
   "metadata": {
    "ExecuteTime": {
     "end_time": "2020-02-02T12:59:16.078792Z",
     "start_time": "2020-02-02T12:59:16.052775Z"
    }
   },
   "outputs": [
    {
     "data": {
      "text/plain": [
       "array([8.8817842e-16, 1.5000000e+00])"
      ]
     },
     "execution_count": 43,
     "metadata": {},
     "output_type": "execute_result"
    }
   ],
   "source": [
    "x"
   ]
  },
  {
   "cell_type": "code",
   "execution_count": 44,
   "metadata": {
    "ExecuteTime": {
     "end_time": "2020-02-02T12:59:16.110772Z",
     "start_time": "2020-02-02T12:59:16.085775Z"
    }
   },
   "outputs": [
    {
     "data": {
      "text/plain": [
       "array([2.96059473e-16, 1.50000000e+00])"
      ]
     },
     "execution_count": 44,
     "metadata": {},
     "output_type": "execute_result"
    }
   ],
   "source": [
    "np.linalg.solve(A, b)"
   ]
  },
  {
   "cell_type": "code",
   "execution_count": 45,
   "metadata": {
    "ExecuteTime": {
     "end_time": "2020-02-02T12:59:16.126768Z",
     "start_time": "2020-02-02T12:59:16.117775Z"
    }
   },
   "outputs": [],
   "source": [
    "A = np.array([[1, 1],[1.5, 4]])"
   ]
  },
  {
   "cell_type": "code",
   "execution_count": 46,
   "metadata": {
    "ExecuteTime": {
     "end_time": "2020-02-02T12:59:16.142771Z",
     "start_time": "2020-02-02T12:59:16.132774Z"
    }
   },
   "outputs": [],
   "source": [
    "b = np.array([2200, 5050])"
   ]
  },
  {
   "cell_type": "code",
   "execution_count": 47,
   "metadata": {
    "ExecuteTime": {
     "end_time": "2020-02-02T12:59:16.174773Z",
     "start_time": "2020-02-02T12:59:16.149769Z"
    }
   },
   "outputs": [
    {
     "data": {
      "text/plain": [
       "array([1500.,  700.])"
      ]
     },
     "execution_count": 47,
     "metadata": {},
     "output_type": "execute_result"
    }
   ],
   "source": [
    "np.linalg.solve(A, b)"
   ]
  },
  {
   "cell_type": "code",
   "execution_count": null,
   "metadata": {
    "ExecuteTime": {
     "end_time": "2020-02-02T12:59:16.189930Z",
     "start_time": "2020-02-02T12:59:16.182769Z"
    }
   },
   "outputs": [],
   "source": [
    "X=[]"
   ]
  },
  {
   "cell_type": "code",
   "execution_count": null,
   "metadata": {
    "ExecuteTime": {
     "end_time": "2020-02-02T12:59:16.220914Z",
     "start_time": "2020-02-02T12:59:16.195913Z"
    }
   },
   "outputs": [],
   "source": [
    "import numpy as np\n",
    "import csv"
   ]
  },
  {
   "cell_type": "markdown",
   "metadata": {},
   "source": [
    "## Read datasets from a .csv file"
   ]
  },
  {
   "cell_type": "code",
   "execution_count": null,
   "metadata": {
    "ExecuteTime": {
     "end_time": "2020-02-02T12:59:16.251928Z",
     "start_time": "2020-02-02T12:59:16.227927Z"
    },
    "scrolled": true
   },
   "outputs": [],
   "source": [
    "with open(\"data_2d.csv\", 'r') as f:\n",
    "    X = list(csv.reader(f, delimiter=\",\"))\n",
    "X  "
   ]
  },
  {
   "cell_type": "code",
   "execution_count": null,
   "metadata": {},
   "outputs": [],
   "source": [
    "type(X) # X is a list not a numpy.array"
   ]
  },
  {
   "cell_type": "markdown",
   "metadata": {},
   "source": [
    "#### Convert X to a numpy.arrary"
   ]
  },
  {
   "cell_type": "code",
   "execution_count": null,
   "metadata": {
    "ExecuteTime": {
     "end_time": "2020-02-02T12:59:16.267909Z",
     "start_time": "2020-02-02T12:59:16.258912Z"
    }
   },
   "outputs": [],
   "source": [
    "X= np.array(X)"
   ]
  },
  {
   "cell_type": "code",
   "execution_count": null,
   "metadata": {
    "ExecuteTime": {
     "end_time": "2020-02-02T12:59:16.283928Z",
     "start_time": "2020-02-02T12:59:16.273913Z"
    },
    "scrolled": false
   },
   "outputs": [],
   "source": [
    "X"
   ]
  },
  {
   "cell_type": "markdown",
   "metadata": {},
   "source": [
    "## One can easily read a .csv file using Pandas Library"
   ]
  },
  {
   "cell_type": "code",
   "execution_count": null,
   "metadata": {
    "ExecuteTime": {
     "end_time": "2020-02-02T12:59:16.837920Z",
     "start_time": "2020-02-02T12:59:16.290913Z"
    }
   },
   "outputs": [],
   "source": [
    "import pandas as pd"
   ]
  },
  {
   "cell_type": "code",
   "execution_count": null,
   "metadata": {
    "ExecuteTime": {
     "end_time": "2020-02-02T12:59:16.852909Z",
     "start_time": "2020-02-02T12:59:16.843932Z"
    }
   },
   "outputs": [],
   "source": [
    "X2 = pd.read_csv(\"data_2d.csv\", header= None)"
   ]
  },
  {
   "cell_type": "code",
   "execution_count": null,
   "metadata": {
    "ExecuteTime": {
     "end_time": "2020-02-02T12:59:16.884928Z",
     "start_time": "2020-02-02T12:59:16.858937Z"
    }
   },
   "outputs": [],
   "source": [
    "type(X2)"
   ]
  },
  {
   "cell_type": "code",
   "execution_count": null,
   "metadata": {
    "ExecuteTime": {
     "end_time": "2020-02-02T12:59:16.947078Z",
     "start_time": "2020-02-02T12:59:16.899910Z"
    }
   },
   "outputs": [],
   "source": [
    "X2.info()"
   ]
  },
  {
   "cell_type": "code",
   "execution_count": null,
   "metadata": {
    "ExecuteTime": {
     "end_time": "2020-02-02T12:59:16.979118Z",
     "start_time": "2020-02-02T12:59:16.953096Z"
    }
   },
   "outputs": [],
   "source": [
    "X2.describe()"
   ]
  },
  {
   "cell_type": "markdown",
   "metadata": {},
   "source": [
    "### We will have lectures on Pandas separately, see you later!!!"
   ]
  },
  {
   "cell_type": "code",
   "execution_count": null,
   "metadata": {},
   "outputs": [],
   "source": []
  }
 ],
 "metadata": {
  "kernelspec": {
   "display_name": "Python 3",
   "language": "python",
   "name": "python3"
  },
  "language_info": {
   "codemirror_mode": {
    "name": "ipython",
    "version": 3
   },
   "file_extension": ".py",
   "mimetype": "text/x-python",
   "name": "python",
   "nbconvert_exporter": "python",
   "pygments_lexer": "ipython3",
   "version": "3.7.6"
  },
  "toc": {
   "base_numbering": 1,
   "nav_menu": {},
   "number_sections": true,
   "sideBar": true,
   "skip_h1_title": false,
   "title_cell": "Table of Contents",
   "title_sidebar": "Contents",
   "toc_cell": false,
   "toc_position": {
    "height": "calc(100% - 180px)",
    "left": "10px",
    "top": "150px",
    "width": "322.188px"
   },
   "toc_section_display": true,
   "toc_window_display": false
  }
 },
 "nbformat": 4,
 "nbformat_minor": 4
}
