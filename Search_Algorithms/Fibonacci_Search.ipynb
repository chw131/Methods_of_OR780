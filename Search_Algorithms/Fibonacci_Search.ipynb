{
 "cells": [
  {
   "cell_type": "code",
   "execution_count": 1,
   "metadata": {
    "ExecuteTime": {
     "end_time": "2020-11-06T14:38:26.989251Z",
     "start_time": "2020-11-06T14:38:26.970250Z"
    }
   },
   "outputs": [],
   "source": [
    "import numpy as np\n",
    "#fibonacci numbers\n",
    "def fib(n):\n",
    "    if n == 0:\n",
    "        return 0\n",
    "    if n == 1:\n",
    "        return 1\n",
    "    return fib(n-1) + fib(n-2)\n",
    "\n",
    "def func(x):\n",
    "\treturn x**4 - 14*x**3 + 60*x**2 - 70*x\n",
    "\n",
    "#  n: Fibonacci Level\n",
    "#  f: Objective Function\n",
    "#  a: Lower Bound\n",
    "#  b: Upper bound\n",
    "#  x1: Lower mid-point\n",
    "#  x2: Upper mid-point\n",
    "#  tol: Tolerance to stop\n",
    "\n",
    "def fib_search(n,f,a,b, x1, x2,tol):\n",
    "    #print (n, a, x1, x2, b, f(x1), f(x2), tol)\n",
    "    if n <= 4:\n",
    "        return -1\n",
    "    if np.abs((x2-x1)/(b-a)) < tol:\n",
    "        return 0\n",
    "\n",
    "    if (f(x1) > f(x2)): # Drop a, replace it by x1\n",
    "    \ta = x1\n",
    "    \tx1 = x2\n",
    "    \tx2= a + fib(n-1)/fib(n)*(b-a)\n",
    "    else:               # Drop b, replace it by x2\n",
    "        b = x2\n",
    "        x2 = x1\n",
    "        x1 = a + fib(n-2)/fib(n)*(b-a)\n",
    "\n",
    "    \n",
    "    print (n, a, x1, x2, b, f(x1), f(x2))\n",
    "    print (\"Tolerance = \", np.abs(f(x2)-f(x1))/f(x1))\n",
    "    n= n-1\n",
    "    return fib_search(n,f,a,b,x1,x2,tol)"
   ]
  },
  {
   "cell_type": "code",
   "execution_count": 2,
   "metadata": {
    "ExecuteTime": {
     "end_time": "2020-11-06T14:38:38.297254Z",
     "start_time": "2020-11-06T14:38:38.286251Z"
    }
   },
   "outputs": [],
   "source": [
    "def GoldenSearch(lowerx, upperx, es):\n",
    "    \n",
    "    phi = (1.0 + np.sqrt(5.0))/2.0\n",
    "    iter = 1\n",
    "    \n",
    "    err = 100.0 # Initial error (%)\n",
    "\n",
    "    # Print column headers\n",
    "    print ('%s\\t%s\\t%s\\t%s' % ('Iter.','xopt','f(xopt)','Error %'))\n",
    "\n",
    "    # Iterate until termination criterion is reached\n",
    "    while err > es:\n",
    "        # Defining two middle points\n",
    "        d = (phi - 1)*(upperx - lowerx)\n",
    "        a = upperx - d\n",
    "        b = lowerx + d\n",
    "        \n",
    "        if func(b) > func(a):\n",
    "            xopt = a\n",
    "            upperx = b\n",
    "        else:\n",
    "            xopt = b\n",
    "            lowerx = a\n",
    "        # Update the Relative Error   \n",
    "        err = ((2.0 - phi)*np.abs((upperx - lowerx)/xopt))\n",
    "\n",
    "        # Print iteration, x-optimal, f(x-optimal), %Error \n",
    "        print ('  %s\\t%s\\t%s\\t%s' % (int(iter),\n",
    "                                    round(xopt, 4),\n",
    "                                    round(func(xopt),4),\n",
    "                                    round(err, 5)))\n",
    "        iter += 1\n",
    "    return xopt"
   ]
  },
  {
   "cell_type": "code",
   "execution_count": 3,
   "metadata": {
    "ExecuteTime": {
     "end_time": "2020-11-06T14:38:42.942249Z",
     "start_time": "2020-11-06T14:38:42.632251Z"
    }
   },
   "outputs": [
    {
     "name": "stdout",
     "output_type": "stream",
     "text": [
      "Iter.\txopt\tf(xopt)\tError %\n",
      "  1\t0.7639\t-24.3607\t0.61803\n",
      "  2\t0.7639\t-24.3607\t0.38197\n",
      "  3\t0.7639\t-24.3607\t0.23607\n",
      "  4\t0.7639\t-24.3607\t0.1459\n",
      "  5\t0.7639\t-24.3607\t0.09017\n",
      "  6\t0.7639\t-24.3607\t0.05573\n",
      "  7\t0.7902\t-24.3669\t0.0333\n",
      "  8\t0.7902\t-24.3669\t0.02058\n",
      "  9\t0.7802\t-24.3696\t0.01288\n",
      "  10\t0.7802\t-24.3696\t0.00796\n"
     ]
    },
    {
     "data": {
      "text/plain": [
       "0.780193260011777"
      ]
     },
     "execution_count": 3,
     "metadata": {},
     "output_type": "execute_result"
    }
   ],
   "source": [
    "#main\n",
    "tol = 0.01\n",
    "a = 0.0\n",
    "b = 2.0\n",
    "n = 25\n",
    "# initialize x1, x2\n",
    "x1 = a + fib(n-2)/fib(n)*(b-a)\n",
    "x2 = a + fib(n-1)/fib(n)*(b-a)\n",
    "# Call the Fibonacci Search Minimizer\n",
    "#fib_search(n,func, a, b, x1, x2, tol)\n",
    "\n",
    "# Call Golden Search Minimizer\n",
    "GoldenSearch(a, b, tol)"
   ]
  },
  {
   "cell_type": "code",
   "execution_count": null,
   "metadata": {},
   "outputs": [],
   "source": []
  }
 ],
 "metadata": {
  "kernelspec": {
   "display_name": "Python 3",
   "language": "python",
   "name": "python3"
  },
  "language_info": {
   "codemirror_mode": {
    "name": "ipython",
    "version": 3
   },
   "file_extension": ".py",
   "mimetype": "text/x-python",
   "name": "python",
   "nbconvert_exporter": "python",
   "pygments_lexer": "ipython3",
   "version": "3.7.9"
  },
  "varInspector": {
   "cols": {
    "lenName": 16,
    "lenType": 16,
    "lenVar": 40
   },
   "kernels_config": {
    "python": {
     "delete_cmd_postfix": "",
     "delete_cmd_prefix": "del ",
     "library": "var_list.py",
     "varRefreshCmd": "print(var_dic_list())"
    },
    "r": {
     "delete_cmd_postfix": ") ",
     "delete_cmd_prefix": "rm(",
     "library": "var_list.r",
     "varRefreshCmd": "cat(var_dic_list()) "
    }
   },
   "types_to_exclude": [
    "module",
    "function",
    "builtin_function_or_method",
    "instance",
    "_Feature"
   ],
   "window_display": false
  }
 },
 "nbformat": 4,
 "nbformat_minor": 4
}
