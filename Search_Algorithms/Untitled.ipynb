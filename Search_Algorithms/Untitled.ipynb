{
 "cells": [
  {
   "cell_type": "code",
   "execution_count": 6,
   "metadata": {
    "ExecuteTime": {
     "end_time": "2020-10-09T11:33:04.674466Z",
     "start_time": "2020-10-09T11:33:04.261466Z"
    }
   },
   "outputs": [
    {
     "name": "stdout",
     "output_type": "stream",
     "text": [
      "Iter.\txopt\tf(xopt)\tError %\n",
      "  1\t1.7082\t5.0075\t82.91796\n",
      "  2\t2.5836\t5.6474\t33.8826\n",
      "  3\t2.5836\t5.6474\t20.9406\n",
      "  4\t2.2492\t5.8672\t14.86595\n",
      "  5\t2.2492\t5.8672\t9.18766\n",
      "  6\t2.3769\t5.877\t5.37318\n",
      "  7\t2.3769\t5.877\t3.32081\n",
      "  8\t2.3282\t5.8853\t2.09538\n",
      "  9\t2.3282\t5.8853\t1.29502\n",
      "  10\t2.3282\t5.8853\t0.80036\n",
      "  11\t2.3282\t5.8853\t0.49465\n",
      "  12\t2.3282\t5.8853\t0.30571\n",
      "  13\t2.3282\t5.8853\t0.18894\n",
      "  14\t2.3282\t5.8853\t0.11677\n",
      "  15\t2.3265\t5.8853\t0.07222\n"
     ]
    },
    {
     "data": {
      "image/png": "[encoded data removed]",
      "text/plain": [
       "<Figure size 432x288 with 1 Axes>"
      ]
     },
     "metadata": {
      "needs_background": "light"
     },
     "output_type": "display_data"
    }
   ],
   "source": [
    "from __future__ import division\n",
    "from math import *\n",
    "import matplotlib.pyplot as plt\n",
    "from matplotlib.legend_handler import HandlerLine2D\n",
    "import numpy as np\n",
    "\n",
    "# Golden-section search \n",
    "def GSS_iter( xL, xR, es ):\n",
    "    \n",
    "    phi = (1.0 + sqrt(5.0))/2.0\n",
    "    iter = 1\n",
    "    \n",
    "    err = 100.0 # Initial error (%)\n",
    "\n",
    "    # Print column headers\n",
    "    print ('%s\\t%s\\t%s\\t%s' % ('Iter.','xopt','f(xopt)','Error %'))\n",
    "\n",
    "    # Iterate until termination criterion is reached\n",
    "    while err > es:\n",
    "        \n",
    "        d = (phi - 1)*(xR - xL)\n",
    "        a = xR - d\n",
    "        b = xL + d\n",
    "        \n",
    "        if func(b) < func(a):\n",
    "            \n",
    "            xopt = a\n",
    "            xR = b\n",
    "            \n",
    "        else:\n",
    "            \n",
    "            xopt = b\n",
    "            xL = a\n",
    "           \n",
    "        err = ((2.0 - phi)*abs((xR - xL)/xopt))*100.0\n",
    "\n",
    "        # Print iteration, x-optimal, f(x-optimal), %Error \n",
    "        print ('  %s\\t%s\\t%s\\t%s' % (int(iter),\n",
    "                                    round(xopt, 4),\n",
    "                                    round(func(xopt),4),\n",
    "                                    round(err, 5)))\n",
    "        iter += 1\n",
    "    return xopt\n",
    "\n",
    "# Function to evaluate for max[f(x)]\n",
    "def func( x ):\n",
    "\n",
    "    f = -0.3*x**4 + 1.2*x**3 - 1.8*x**2 + 4.0*x\n",
    "    \n",
    "    return f\n",
    "\n",
    "###############################################\n",
    "es = 0.1   # Stopping criterion\n",
    "xL = -2.0  # Initial guesses\n",
    "xR = 4.0\n",
    "\n",
    "# Call the iterative solver\n",
    "xopt = GSS_iter(xL, xR, es)\n",
    "\n",
    "# Plot equation to check GSS\n",
    "iter = 0\n",
    "x = np.linspace(-2,4, 1000)\n",
    "f = np.linspace(0, 0,len(x))\n",
    "\n",
    "f = func(x)\n",
    "\n",
    "p1, = plt.plot(x, f, 'k--', label='f(x)')\n",
    "p2, = plt.plot(xopt, func(xopt),'ow',\n",
    "               label='max[f(x)]', markersize=15, markeredgewidth=3)\n",
    "plt.title('Finding max[f(x)] Using Golden-Section Search')\n",
    "plt.xlabel('x')\n",
    "plt.ylabel('f(x)')\n",
    "plt.legend(loc='best',\n",
    "           handler_map={p2: HandlerLine2D(numpoints=1)})\n",
    "plt.grid(True)\n",
    "plt.show()\n",
    "\n"
   ]
  },
  {
   "cell_type": "code",
   "execution_count": null,
   "metadata": {},
   "outputs": [],
   "source": []
  }
 ],
 "metadata": {
  "kernelspec": {
   "display_name": "Python 3",
   "language": "python",
   "name": "python3"
  },
  "language_info": {
   "codemirror_mode": {
    "name": "ipython",
    "version": 3
   },
   "file_extension": ".py",
   "mimetype": "text/x-python",
   "name": "python",
   "nbconvert_exporter": "python",
   "pygments_lexer": "ipython3",
   "version": "3.7.9"
  },
  "varInspector": {
   "cols": {
    "lenName": 16,
    "lenType": 16,
    "lenVar": 40
   },
   "kernels_config": {
    "python": {
     "delete_cmd_postfix": "",
     "delete_cmd_prefix": "del ",
     "library": "var_list.py",
     "varRefreshCmd": "print(var_dic_list())"
    },
    "r": {
     "delete_cmd_postfix": ") ",
     "delete_cmd_prefix": "rm(",
     "library": "var_list.r",
     "varRefreshCmd": "cat(var_dic_list()) "
    }
   },
   "types_to_exclude": [
    "module",
    "function",
    "builtin_function_or_method",
    "instance",
    "_Feature"
   ],
   "window_display": false
  }
 },
 "nbformat": 4,
 "nbformat_minor": 4
}
