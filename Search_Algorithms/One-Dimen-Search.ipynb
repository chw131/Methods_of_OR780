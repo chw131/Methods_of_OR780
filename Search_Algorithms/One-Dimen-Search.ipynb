{
 "cells": [
  {
   "cell_type": "markdown",
   "id": "3db715b0-cd4a-4f40-ac17-085777ca8944",
   "metadata": {},
   "source": [
    "## Solving One-Dimensional Optimization Problems\n",
    "\n",
    "This Notebook introduces a detailed study of various algorithms for solving one-dimensional optimization problems. The classes of methods that have been discussed are: Elimination method, Interpolation method and Direct Root-Finding method. The Elimination method covers the Fibonacci Search method and the Golden Section Search method; the Interpolation method covers Quadratic Interpolation and Inverse Quadratic Interpolation methods; and the Direct Root Finding method covers Newton’s method, Halley’s method, Secant method and Bisection method. Finally, a combination of some of these methods, called Brent’s method, has also been discussed. Python programs involving the functions provided by the scipy.optimize module for solving problems using the above algorithms have also been provided. For the Fibonacci Search method and the Inverse Quadratic Interpolation method, full Python programs are provided."
   ]
  },
  {
   "cell_type": "markdown",
   "id": "289c1f85-810d-4f82-8086-b1b9ccbe9e9a",
   "metadata": {},
   "source": [
    "### One-Dimensional Optimization Problems\n",
    "The aim of this chapter is to introduce methods for solving one-dimensional optimization tasks, formulated in the following way:\n",
    "\\begin{equation}\n",
    "    f(x^*)=\\underset{x}{\\min\\ }f(x), x \\in \\mathbb{R} \\tag{3.1}\n",
    "\\end{equation}\n",
    " \n",
    "where, $f$ is a nonlinear function. The understanding of these optimization tasks and algorithms will be generalized in solving unconstrained optimization tasks involving objective function of multiple variables, in the future chapters."
   ]
  },
  {
   "attachments": {},
   "cell_type": "markdown",
   "id": "9e2857b5-c7d7-4e76-bdde-c8106846d01c",
   "metadata": {},
   "source": [
    "### What is a Unimodal Function?\n",
    "\n",
    "Definition 3.1 A function $f(x)$, where $\\epsilon \\in \\mathbb{R}$  is said to be <i>unimodal</i> [refer to https://math.mit.edu/~rmd/465/unimod-dip-bds.pdf] if for a value $x^*$ on the real line, the following conditions are satisfied: $*  f$ is monotonically decreasing for $x \\le v, * f$ is monotonically increasing for $x \\ge v$, and $*$ if the above two conditions are satisfied, then $f(x^∗)$ is the minimum value of $f(x)$, and  $x^∗$ is the minimizer of $f$.\n",
    "Let us have a look into the figure below.\n",
    "\n"
   ]
  },
  {
   "cell_type": "markdown",
   "id": "fe9c684a-ad40-41c0-b515-d69ea0250db1",
   "metadata": {},
   "source": [
    "We have taken the quadratic function of one variable: $f(x) = 5x^2 − 3x + 2$. It is a nonlinear unimodal function defined over the interval $[−2,2]$, denoted by the dotted lines on either side. The minimizer $x^∗ = 0.3$ (which can be solved analytically!), given by the middle dotted line, lies inside the interval $[x_l, x_r] = [−2, 2]$. We notice that $f(x)$ strictly decreases for $f(x) < f(x^∗)$ and strictly increases for $f(x) > f(x^∗)$.  The interval $[x_l,x_r]$ that has the minimizer within it, is called the interval of uncertainty and the goal of an optimization algorithm is to reduce this interval as much as possible to converge towards the minimizer. A good algorithm completes the convergence very fast. In each step of this reduction of the interval, the algorithm finds a new unimodal interval following the following procedures:\n",
    "\n",
    "* Choose two new points, $x_1 \\in [x_l, x^∗]$ and another point $x_2 \\in [x^∗, x_r]$ (denoted by the two filled straight lines in the figure),\n",
    "* If $f(x_2) > f(x_1)$, the new interval becomes $[x_l, x_2]$ and $x_r$ becomes $x_2$, i.e, $x_r = x_2$, Next pick a new $x_2$,\n",
    "* If condition in step (2) is not satisfied, we set the new interval as $[x_1, x_r]$ directly after step (1) and set $x_l = x_1$, and\n",
    "* Next pick a new $x_1$.\n",
    "  \n",
    "The given steps continue iteratively until the convergence is satisfied to a given limit of the minimizer. These class of methods is called an Elimination Method and we study two categories under this kind:\n",
    "\n",
    "* <b>Fibonacci Search</b>, and\n",
    "* <b>Golden Section Search</b>.\n",
    "\n",
    "Rao’s book Engineering Optimization [Rao, Singiresu S. Engineering optimization: theory and practice. John Wiley & Sons, 2019.] also has some detailed studies on these kinds of optimization methods."
   ]
  },
  {
   "cell_type": "code",
   "execution_count": null,
   "id": "9c8ed8b2-3b2e-4583-8009-e6ce2003ca33",
   "metadata": {},
   "outputs": [],
   "source": []
  },
  {
   "cell_type": "code",
   "execution_count": 1,
   "id": "f7bfe148-64ee-4547-8f87-a11ccc6ecd1e",
   "metadata": {
    "execution": {
     "iopub.execute_input": "2024-11-05T12:31:05.976171Z",
     "iopub.status.busy": "2024-11-05T12:31:05.975852Z",
     "iopub.status.idle": "2024-11-05T12:31:07.444394Z",
     "shell.execute_reply": "2024-11-05T12:31:07.444394Z",
     "shell.execute_reply.started": "2024-11-05T12:31:05.976171Z"
    }
   },
   "outputs": [
    {
     "data": {
      "text/plain": [
       "[<matplotlib.lines.Line2D at 0x2aef5517010>]"
      ]
     },
     "execution_count": 1,
     "metadata": {},
     "output_type": "execute_result"
    },
    {
     "data": {
      "image/png": "[encoded data removed]",
      "text/plain": [
       "<Figure size 640x480 with 1 Axes>"
      ]
     },
     "metadata": {},
     "output_type": "display_data"
    }
   ],
   "source": [
    "import matplotlib.pyplot as plt\n",
    "import numpy as np\n",
    "def f(x): # Objective function\n",
    "    return 5*x**2 - 3*x + 2\n",
    "\n",
    "x = np.linspace(-2, 2, 100)\n",
    "plt.title(\"Graph of $f(x) =  5x^2-3x+25$\")\n",
    "plt.xlabel('x ->')\n",
    "plt.ylabel('f(x) ->')\n",
    "plt.plot(x, f(x), 'b-')\n",
    "plt.plot(0.3, f(0.3), 'ro-')\n",
    "plt.plot(-1.0, f(-1.0), 'bo-')\n",
    "plt.plot(1.2, f(1.2), 'go-')"
   ]
  },
  {
   "cell_type": "markdown",
   "id": "0b410f6a-06ea-47ee-a330-6a865a2087c7",
   "metadata": {},
   "source": [
    "### Fibonacci Search Method\n",
    "\n",
    "Instead of finding the exact minimizer $x^∗$ of $f(x)$, the Fibonacci search strategy works by reducing the interval of uncertainty in every step, ultimately converging the interval, containing the minimizer, to a desired size as small as possible. One caveat is that, the initial interval containing, such that the interval lies in it, has to be known beforehand. However, the algorithm works on a nonlinear function, even if it is discontinuous. The name comes from the fact that the algorithm makes use of the famous sequence of Fibonacci numbers [http://oeis.org/A000045]. This sequence is defined in the following way:\n",
    "\n",
    "\\begin{align}\n",
    "F_0&=0,F_1=1, \\\\ \n",
    "F_n&=F_{n-1} + F_{n-2},\\text{, where }n=2,3,\\ldots\n",
    "\\end{align}\n",
    "\n",
    "We write a Python code to generate the first 16 Fibonacci numbers and display them as a table:"
   ]
  },
  {
   "cell_type": "code",
   "execution_count": 2,
   "id": "c28fa054-e6e2-40da-b5be-b7bc8199e706",
   "metadata": {
    "execution": {
     "iopub.execute_input": "2024-11-05T12:31:07.446394Z",
     "iopub.status.busy": "2024-11-05T12:31:07.446394Z",
     "iopub.status.idle": "2024-11-05T12:31:07.819267Z",
     "shell.execute_reply": "2024-11-05T12:31:07.818266Z",
     "shell.execute_reply.started": "2024-11-05T12:31:07.446394Z"
    }
   },
   "outputs": [],
   "source": [
    "import pandas as pd\n",
    "import numpy as np\n",
    "\n",
    "def fibonacci(n): # define the  function\n",
    "    fn = [0, 1,]\n",
    "    for i in range(2, n+1):\n",
    "        fn.append(fn[i-1] + fn[i-2])\n",
    "    return fn"
   ]
  },
  {
   "cell_type": "code",
   "execution_count": 3,
   "id": "5cbd62c3-d194-45a9-9a33-e7acae2ca8d6",
   "metadata": {
    "execution": {
     "iopub.execute_input": "2024-11-05T12:31:07.820267Z",
     "iopub.status.busy": "2024-11-05T12:31:07.820267Z",
     "iopub.status.idle": "2024-11-05T12:31:07.834268Z",
     "shell.execute_reply": "2024-11-05T12:31:07.834268Z",
     "shell.execute_reply.started": "2024-11-05T12:31:07.820267Z"
    }
   },
   "outputs": [],
   "source": [
    "N = np.arange(16)\n",
    "data = {'n': N, 'Fibonacci(n)': fibonacci(15)}\n",
    "df = pd.DataFrame(data)"
   ]
  },
  {
   "cell_type": "code",
   "execution_count": 4,
   "id": "e077ee8f-69e1-4f93-a5fc-06f4927c9301",
   "metadata": {
    "execution": {
     "iopub.execute_input": "2024-11-05T12:31:07.836267Z",
     "iopub.status.busy": "2024-11-05T12:31:07.835268Z",
     "iopub.status.idle": "2024-11-05T12:31:07.850268Z",
     "shell.execute_reply": "2024-11-05T12:31:07.850268Z",
     "shell.execute_reply.started": "2024-11-05T12:31:07.836267Z"
    }
   },
   "outputs": [
    {
     "data": {
      "text/html": [
       "<div>\n",
       "<style scoped>\n",
       "    .dataframe tbody tr th:only-of-type {\n",
       "        vertical-align: middle;\n",
       "    }\n",
       "\n",
       "    .dataframe tbody tr th {\n",
       "        vertical-align: top;\n",
       "    }\n",
       "\n",
       "    .dataframe thead th {\n",
       "        text-align: right;\n",
       "    }\n",
       "</style>\n",
       "<table border=\"1\" class=\"dataframe\">\n",
       "  <thead>\n",
       "    <tr style=\"text-align: right;\">\n",
       "      <th></th>\n",
       "      <th>n</th>\n",
       "      <th>Fibonacci(n)</th>\n",
       "    </tr>\n",
       "  </thead>\n",
       "  <tbody>\n",
       "    <tr>\n",
       "      <th>0</th>\n",
       "      <td>0</td>\n",
       "      <td>0</td>\n",
       "    </tr>\n",
       "    <tr>\n",
       "      <th>1</th>\n",
       "      <td>1</td>\n",
       "      <td>1</td>\n",
       "    </tr>\n",
       "    <tr>\n",
       "      <th>2</th>\n",
       "      <td>2</td>\n",
       "      <td>1</td>\n",
       "    </tr>\n",
       "    <tr>\n",
       "      <th>3</th>\n",
       "      <td>3</td>\n",
       "      <td>2</td>\n",
       "    </tr>\n",
       "    <tr>\n",
       "      <th>4</th>\n",
       "      <td>4</td>\n",
       "      <td>3</td>\n",
       "    </tr>\n",
       "    <tr>\n",
       "      <th>5</th>\n",
       "      <td>5</td>\n",
       "      <td>5</td>\n",
       "    </tr>\n",
       "    <tr>\n",
       "      <th>6</th>\n",
       "      <td>6</td>\n",
       "      <td>8</td>\n",
       "    </tr>\n",
       "    <tr>\n",
       "      <th>7</th>\n",
       "      <td>7</td>\n",
       "      <td>13</td>\n",
       "    </tr>\n",
       "    <tr>\n",
       "      <th>8</th>\n",
       "      <td>8</td>\n",
       "      <td>21</td>\n",
       "    </tr>\n",
       "    <tr>\n",
       "      <th>9</th>\n",
       "      <td>9</td>\n",
       "      <td>34</td>\n",
       "    </tr>\n",
       "    <tr>\n",
       "      <th>10</th>\n",
       "      <td>10</td>\n",
       "      <td>55</td>\n",
       "    </tr>\n",
       "    <tr>\n",
       "      <th>11</th>\n",
       "      <td>11</td>\n",
       "      <td>89</td>\n",
       "    </tr>\n",
       "    <tr>\n",
       "      <th>12</th>\n",
       "      <td>12</td>\n",
       "      <td>144</td>\n",
       "    </tr>\n",
       "    <tr>\n",
       "      <th>13</th>\n",
       "      <td>13</td>\n",
       "      <td>233</td>\n",
       "    </tr>\n",
       "    <tr>\n",
       "      <th>14</th>\n",
       "      <td>14</td>\n",
       "      <td>377</td>\n",
       "    </tr>\n",
       "    <tr>\n",
       "      <th>15</th>\n",
       "      <td>15</td>\n",
       "      <td>610</td>\n",
       "    </tr>\n",
       "  </tbody>\n",
       "</table>\n",
       "</div>"
      ],
      "text/plain": [
       "     n  Fibonacci(n)\n",
       "0    0             0\n",
       "1    1             1\n",
       "2    2             1\n",
       "3    3             2\n",
       "4    4             3\n",
       "5    5             5\n",
       "6    6             8\n",
       "7    7            13\n",
       "8    8            21\n",
       "9    9            34\n",
       "10  10            55\n",
       "11  11            89\n",
       "12  12           144\n",
       "13  13           233\n",
       "14  14           377\n",
       "15  15           610"
      ]
     },
     "execution_count": 4,
     "metadata": {},
     "output_type": "execute_result"
    }
   ],
   "source": [
    "df"
   ]
  },
  {
   "cell_type": "markdown",
   "id": "71f78e25-732a-4884-99ea-a9472808d6cc",
   "metadata": {},
   "source": [
    "Let $n$ be the total number of experiments to be conducted and $[x_l, x_r]$ be the initial interval the algorithm starts with. Let \n",
    "\\begin{eqnarray}\n",
    "L_0 = x_r - x_l \\tag{3.2}\n",
    "\\end{eqnarray}\n",
    "\n",
    "be the initial level of uncertainty and let us define,\n",
    "\\begin{eqnarray}\n",
    "L_j = \\frac{F_{n-2}}{F_n}L_0 \\tag{3.3}\n",
    "\\end{eqnarray}\n",
    " \n",
    "where, $F_{n−2}$ and $F_n$ are the $(n−2)^{th}$ and $n-th$ <i>Fibonacci numbers</i> respectively. We see from the formulation of the Fibonacci numbers that, (3.3) shows the following property:\n",
    "\\begin{equation}\n",
    "    L_j = \\frac{F_{n-2}}{F_n}L_0 \\leq \\frac{L_0}{2} \\text{ for } n\\geq 2 \n",
    "\\end{equation}\n",
    "\n",
    " \n",
    "Now, the initial two experiments are set at points $x_1$ and $x_2$, where, $L_j = x_1 − x_l$ and $L_j = x_r − x_2$. So, combining these with Eq.(3.3), we have:\n",
    "\\begin{equation}\n",
    "    x_1 = x_l + \\frac{F_{n-2}}{F_n}L_0 \\tag{3.4}\n",
    "\\end{equation}\n",
    " \n",
    "and\n",
    "\n",
    "\\begin{equation}\n",
    "    x_2 = x_r - \\frac{F_{n-2}}{F_n}L_0 \\tag{3.5}\n",
    "\\end{equation}\n",
    "\n",
    "Now taking into consideration the unimodality assumption, a part of the interval of uncertainty is rejected, shrinking it to a smaller size, given by,\n",
    "\\begin{equation}\n",
    "    L_i = L_0 - L_j = L_0(1-\\frac{F_{n-2}}{F_n}) = \\frac{F_{n-1}}{F_n}L_0 \\tag{3.6}\n",
    "\\end{equation}\n",
    " \n",
    "where, we have used the fact that, $F_n - F_{n-2} = F_{n-1}$ from the formulation of the Fibonacci numbers. This procedure leaves us with only one experiment, which, from one end, is situated at a distance of\n",
    "\n",
    "\\begin{equation}\n",
    "  L_j = \\frac{F_{n-2}}{F_n}L_0 = \\frac{F_{n-2}}{F_{n-1}}L_i \\tag{3.7}\n",
    "\\end{equation}\n",
    " \n",
    "where, we have used Eq.(3.3). From the other end, the same experiment point is situated at a distance give by,\n",
    "\n",
    "\\begin{equation}\n",
    "L_i-L_j = \\frac{F_{n-3}}{F_n}L_0 = \\frac{F_{n-3}}{F_n}L_0 = \\frac{F_{n-3}}{F_{n-1}}L_2 \\tag{3.8}\n",
    "\\end{equation}\n",
    " \n",
    "where, we have again used Eq.(3.3). We now place a new experiment point in the interval $L_i$ so that both the present experiment points are situated at a distance given by Eq.(3.7). We again reduce the size of the interval of uncertainty using the unimodality conditions. This whole process is continued so that for the $k-th$ experiment point, its location is given by,\n",
    "\\begin{equation}\n",
    "    L_{k[j]} = \\frac{F_{n-k}}{F_{n-(k-2)}}L_{k-1} \\tag{3.9}\n",
    "\\end{equation}\n",
    " \n",
    "and the interval of uncertainty is given by,\n",
    "\\begin{equation}\n",
    "    l_{k[i]} = \\frac{F_{n-(k-1)}}{F_n}L_0 \\tag{3.10}\n",
    "\\end{equation}\n",
    " \n",
    "after $k$ iterations are completed. Now, the reduction ratio given by the ratio of the present interval of uncertainty after conduction $k$ iterations out of the $n$ experiments to be performed, $L_{l[i]}$ to the initial interval of uncertainty,  \n",
    "\\begin{equation}\n",
    "    R = \\frac{L_{k[i]}}{L_0} = \\frac{F_{n-(k-1)}}{F_n} \\tag{3.11}\n",
    "\\end{equation}\n",
    "\n",
    "The purpose of this algorithm is to bring $R \\sim 0$. The Python Function for Fibonacci Search Algorithm has been shown below:"
   ]
  },
  {
   "cell_type": "code",
   "execution_count": 5,
   "id": "bb1900c9-b1f3-47e1-bb6c-bfa7264c037f",
   "metadata": {
    "execution": {
     "iopub.execute_input": "2024-11-05T12:31:07.853267Z",
     "iopub.status.busy": "2024-11-05T12:31:07.852306Z",
     "iopub.status.idle": "2024-11-05T12:31:07.865268Z",
     "shell.execute_reply": "2024-11-05T12:31:07.865268Z",
     "shell.execute_reply.started": "2024-11-05T12:31:07.853267Z"
    }
   },
   "outputs": [],
   "source": [
    "def fib_search(f, xl, xr, n):\n",
    "    F = fibonacci(n) # Call the fibonnaci number function\n",
    "    L0 = xr - xl # Initial interval of uncertainty\n",
    "    R1 = L0 # Initial Reduction Ratio\n",
    "    Li = (F[n-2]/F[n])*L0 \n",
    "    \n",
    "    R = [Li/L0]\n",
    "\n",
    "    for i in range(2, n+1):\n",
    "        if Li > L0/2:\n",
    "            x1 = xr - Li\n",
    "            x2 = xl + Li\n",
    "        else:\n",
    "            x1 = xl + Li\n",
    "            x2 = xr - Li\n",
    "            \n",
    "        f1, f2 = f(x1), f(x2)\n",
    "        \n",
    "        if f1 < f2:\n",
    "            xr = x2\n",
    "            Li = (F[n - i]/F[n - (i - 2)])*L0 # New interval of uncertainty\n",
    "        elif f1 > f2:\n",
    "            xl = x1\n",
    "            Li = (F[n - i]/F[n - (i - 2)])*L0 # New interval of uncertainty\n",
    "        else:\n",
    "            xl, xr = x1, x2\n",
    "            Li = (F[n - i]/F[n - (i - 2)])*(xr - xl) # New interval of uncertainty\n",
    "            \n",
    "        L0 = xr - xl\n",
    "        R += [Li/R1,] # Append the new reduction ratio\n",
    "        \n",
    "    if f1 <= f2:\n",
    "        return [x1, f(x1), R] # Final result\n",
    "    else:\n",
    "        return [x2, f(x2), R] # Final result"
   ]
  },
  {
   "cell_type": "markdown",
   "id": "27c0fe85-1cf3-477a-bc52-d151071a5d02",
   "metadata": {},
   "source": [
    "#### Example 1 \n",
    "Let an objective function be:\n",
    "\\begin{equation}\n",
    "    f(x) = x^5 - 5x^3 - 20x + 5 \\tag{3.12}\n",
    "\\end{equation}\n",
    " \n",
    "We will use the Fibonacci search algorithm to find the minimizer  $x^∗$, taking $n = 25$ and the initial interval of uncertainty $[−2.5, 2.5]$. Let’s write a Python function to define the given objective function and visualize the same:"
   ]
  },
  {
   "cell_type": "code",
   "execution_count": 6,
   "id": "b3b666b6-00ca-43fd-8327-8ea883146700",
   "metadata": {
    "execution": {
     "iopub.execute_input": "2024-11-05T12:31:07.867267Z",
     "iopub.status.busy": "2024-11-05T12:31:07.866268Z",
     "iopub.status.idle": "2024-11-05T12:31:08.020265Z",
     "shell.execute_reply": "2024-11-05T12:31:08.020265Z",
     "shell.execute_reply.started": "2024-11-05T12:31:07.867267Z"
    }
   },
   "outputs": [
    {
     "data": {
      "text/plain": [
       "[<matplotlib.lines.Line2D at 0x2aef68a9990>]"
      ]
     },
     "execution_count": 6,
     "metadata": {},
     "output_type": "execute_result"
    },
    {
     "data": {
      "image/png": "[encoded data removed]",
      "text/plain": [
       "<Figure size 640x480 with 1 Axes>"
      ]
     },
     "metadata": {},
     "output_type": "display_data"
    }
   ],
   "source": [
    "import matplotlib.pyplot as plt\n",
    "def f(x): # Objective function\n",
    "    return x**5 - 5*x**3 - 20*x + 5\n",
    "\n",
    "x = np.linspace(-3, 3, 100)\n",
    "plt.title(\"Graph of $f(x) =  x^5-5x^3-20x+5$\")\n",
    "plt.xlabel('x ->')\n",
    "plt.ylabel('f(x) ->')\n",
    "plt.plot(x, f(x), 'r-')"
   ]
  },
  {
   "cell_type": "code",
   "execution_count": 7,
   "id": "4912fcd9-f543-436d-af21-741917d482bf",
   "metadata": {
    "execution": {
     "iopub.execute_input": "2024-11-05T12:31:08.022266Z",
     "iopub.status.busy": "2024-11-05T12:31:08.021266Z",
     "iopub.status.idle": "2024-11-05T12:31:08.036266Z",
     "shell.execute_reply": "2024-11-05T12:31:08.036266Z",
     "shell.execute_reply.started": "2024-11-05T12:31:08.022266Z"
    }
   },
   "outputs": [],
   "source": [
    "plt.show()"
   ]
  },
  {
   "cell_type": "markdown",
   "id": "f84dd1fa-8ee7-42eb-8612-27383221d3b7",
   "metadata": {},
   "source": [
    "Now, we consider $n = 25$ and use the function ```fib_search(f, -2.5, 2.5, 25)``` to run the optimization and print the results:"
   ]
  },
  {
   "cell_type": "code",
   "execution_count": 8,
   "id": "b746a276-d9eb-4332-8209-f17663c55d47",
   "metadata": {
    "execution": {
     "iopub.execute_input": "2024-11-05T12:31:08.038268Z",
     "iopub.status.busy": "2024-11-05T12:31:08.037270Z",
     "iopub.status.idle": "2024-11-05T12:31:08.051266Z",
     "shell.execute_reply": "2024-11-05T12:31:08.051266Z",
     "shell.execute_reply.started": "2024-11-05T12:31:08.038268Z"
    }
   },
   "outputs": [
    {
     "name": "stdout",
     "output_type": "stream",
     "text": [
      "x*: 1.999966677774075\n",
      "f(x*): -42.99999994448275\n"
     ]
    }
   ],
   "source": [
    "Fib = fib_search(f, -2.5, 2.5, 25)\n",
    "x_star, f_x_star, R = Fib\n",
    "print (\"x*:\", x_star)\n",
    "print (\"f(x*):\", f_x_star)"
   ]
  },
  {
   "cell_type": "code",
   "execution_count": 9,
   "id": "9e4815c0-6131-4dc0-9fbc-820d1f28411c",
   "metadata": {
    "execution": {
     "iopub.execute_input": "2024-11-05T12:31:08.053266Z",
     "iopub.status.busy": "2024-11-05T12:31:08.052266Z",
     "iopub.status.idle": "2024-11-05T12:31:08.068266Z",
     "shell.execute_reply": "2024-11-05T12:31:08.067267Z",
     "shell.execute_reply.started": "2024-11-05T12:31:08.053266Z"
    }
   },
   "outputs": [
    {
     "name": "stdout",
     "output_type": "stream",
     "text": [
      "Final Reduction Ratio: 0.0\n"
     ]
    }
   ],
   "source": [
    "print (\"Final Reduction Ratio:\", R[-1])"
   ]
  },
  {
   "cell_type": "markdown",
   "id": "1034e94c-23f8-4fca-9c1f-3030cb76df33",
   "metadata": {},
   "source": [
    "We see that $x^∗ \\sim 2$, $f(x^∗) \\sim −43$ and the final Reduction Ration is 0. Now, to show the positions of $x^∗$ and $f(x^∗) on the graph of the objective function, we write the following code:"
   ]
  },
  {
   "cell_type": "code",
   "execution_count": 26,
   "id": "0ccb9d1d-4928-4a5f-a86d-5f340e9848c7",
   "metadata": {
    "execution": {
     "iopub.execute_input": "2024-11-05T12:37:32.609478Z",
     "iopub.status.busy": "2024-11-05T12:37:32.609478Z",
     "iopub.status.idle": "2024-11-05T12:37:32.618478Z",
     "shell.execute_reply": "2024-11-05T12:37:32.618478Z",
     "shell.execute_reply.started": "2024-11-05T12:37:32.609478Z"
    }
   },
   "outputs": [],
   "source": [
    "def fib_search(f, xl, xr, n):    \n",
    "    F = fibonacci(n)\n",
    "    L0 = xr - xl\n",
    "    ini = L0\n",
    "    Li = (F[n-2]/F[n])*L0\n",
    "    \n",
    "    R = [Li/L0]\n",
    "    a = [xl]\n",
    "    b = [xr]\n",
    "    F1 = [f(xl)]\n",
    "    F2 = [f(xr)]\n",
    "\n",
    "    for i in range(2, n+1):\n",
    "        #print(\"reduction ratio:\", Li/ini)\n",
    "        if Li > L0/2:\n",
    "            x1 = xr - Li\n",
    "            x2 = xl + Li\n",
    "        else:\n",
    "            x1 = xl + Li\n",
    "            x2 = xr - Li\n",
    "            \n",
    "        f1, f2 = f(x1), f(x2)\n",
    "        \n",
    "        if f1 < f2:\n",
    "            xr = x2\n",
    "            Li = (F[n - i]/F[n - (i - 2)])*L0\n",
    "        elif f1 > f2:\n",
    "            xl = x1\n",
    "            Li = (F[n - i]/F[n - (i - 2)])*L0\n",
    "        else:\n",
    "            xl, xr = x1, x2\n",
    "            Li = (F[n - i]/F[n - (i - 2)])*(xr - xl)\n",
    "            \n",
    "        L0 = xr - xl\n",
    "        R += [Li/ini,] \n",
    "        a += [xl, ]\n",
    "        b += [xr, ]\n",
    "        F1 += [f1, ]\n",
    "        F2 += [f2, ]\n",
    "        \n",
    "    data = {'n' : range(0, n),\n",
    "            'xl': a,\n",
    "            'xr': b,\n",
    "            'f(x1)': F1,\n",
    "            'f(x2)': F2,\n",
    "            'Reduction Ratio': R}\n",
    "\n",
    "    df = pd.DataFrame(data, columns = ['n', 'xl', 'xr', 'f(x1)', 'f(x2)', 'Reduction Ratio'])\n",
    "    return df\n",
    "\n",
    "df = fib_search(f, -2.5, 3.0, 25)"
   ]
  },
  {
   "cell_type": "code",
   "execution_count": 27,
   "id": "c2188de9-a018-4d60-b2e4-3fff7fe35c3d",
   "metadata": {
    "execution": {
     "iopub.execute_input": "2024-11-05T12:37:33.150861Z",
     "iopub.status.busy": "2024-11-05T12:37:33.149861Z",
     "iopub.status.idle": "2024-11-05T12:37:33.170858Z",
     "shell.execute_reply": "2024-11-05T12:37:33.170858Z",
     "shell.execute_reply.started": "2024-11-05T12:37:33.150861Z"
    }
   },
   "outputs": [
    {
     "data": {
      "text/html": [
       "<div>\n",
       "<style scoped>\n",
       "    .dataframe tbody tr th:only-of-type {\n",
       "        vertical-align: middle;\n",
       "    }\n",
       "\n",
       "    .dataframe tbody tr th {\n",
       "        vertical-align: top;\n",
       "    }\n",
       "\n",
       "    .dataframe thead th {\n",
       "        text-align: right;\n",
       "    }\n",
       "</style>\n",
       "<table border=\"1\" class=\"dataframe\">\n",
       "  <thead>\n",
       "    <tr style=\"text-align: right;\">\n",
       "      <th></th>\n",
       "      <th>n</th>\n",
       "      <th>xl</th>\n",
       "      <th>xr</th>\n",
       "      <th>f(x1)</th>\n",
       "      <th>f(x2)</th>\n",
       "      <th>Reduction Ratio</th>\n",
       "    </tr>\n",
       "  </thead>\n",
       "  <tbody>\n",
       "    <tr>\n",
       "      <th>0</th>\n",
       "      <td>0</td>\n",
       "      <td>-2.500000</td>\n",
       "      <td>3.000000</td>\n",
       "      <td>35.468750</td>\n",
       "      <td>53.000000</td>\n",
       "      <td>3.819660e-01</td>\n",
       "    </tr>\n",
       "    <tr>\n",
       "      <th>1</th>\n",
       "      <td>1</td>\n",
       "      <td>-0.399187</td>\n",
       "      <td>3.000000</td>\n",
       "      <td>13.291655</td>\n",
       "      <td>-16.031041</td>\n",
       "      <td>3.819660e-01</td>\n",
       "    </tr>\n",
       "    <tr>\n",
       "      <th>2</th>\n",
       "      <td>2</td>\n",
       "      <td>0.899187</td>\n",
       "      <td>3.000000</td>\n",
       "      <td>-16.031041</td>\n",
       "      <td>-39.401475</td>\n",
       "      <td>2.360680e-01</td>\n",
       "    </tr>\n",
       "    <tr>\n",
       "      <th>3</th>\n",
       "      <td>3</td>\n",
       "      <td>1.701626</td>\n",
       "      <td>3.000000</td>\n",
       "      <td>-39.401475</td>\n",
       "      <td>-40.763072</td>\n",
       "      <td>1.458980e-01</td>\n",
       "    </tr>\n",
       "    <tr>\n",
       "      <th>4</th>\n",
       "      <td>4</td>\n",
       "      <td>1.701626</td>\n",
       "      <td>2.504065</td>\n",
       "      <td>-40.763072</td>\n",
       "      <td>-25.135207</td>\n",
       "      <td>9.016994e-02</td>\n",
       "    </tr>\n",
       "    <tr>\n",
       "      <th>5</th>\n",
       "      <td>5</td>\n",
       "      <td>1.701626</td>\n",
       "      <td>2.197561</td>\n",
       "      <td>-42.996676</td>\n",
       "      <td>-40.763072</td>\n",
       "      <td>5.572809e-02</td>\n",
       "    </tr>\n",
       "    <tr>\n",
       "      <th>6</th>\n",
       "      <td>6</td>\n",
       "      <td>1.891056</td>\n",
       "      <td>2.197561</td>\n",
       "      <td>-42.450426</td>\n",
       "      <td>-42.996676</td>\n",
       "      <td>3.444185e-02</td>\n",
       "    </tr>\n",
       "    <tr>\n",
       "      <th>7</th>\n",
       "      <td>7</td>\n",
       "      <td>1.891056</td>\n",
       "      <td>2.080487</td>\n",
       "      <td>-42.996676</td>\n",
       "      <td>-42.657424</td>\n",
       "      <td>2.128624e-02</td>\n",
       "    </tr>\n",
       "    <tr>\n",
       "      <th>8</th>\n",
       "      <td>8</td>\n",
       "      <td>1.963412</td>\n",
       "      <td>2.080487</td>\n",
       "      <td>-42.934763</td>\n",
       "      <td>-42.996676</td>\n",
       "      <td>1.315561e-02</td>\n",
       "    </tr>\n",
       "    <tr>\n",
       "      <th>9</th>\n",
       "      <td>9</td>\n",
       "      <td>1.963412</td>\n",
       "      <td>2.035768</td>\n",
       "      <td>-42.996676</td>\n",
       "      <td>-42.934414</td>\n",
       "      <td>8.130623e-03</td>\n",
       "    </tr>\n",
       "    <tr>\n",
       "      <th>10</th>\n",
       "      <td>10</td>\n",
       "      <td>1.991050</td>\n",
       "      <td>2.035768</td>\n",
       "      <td>-42.996020</td>\n",
       "      <td>-42.996676</td>\n",
       "      <td>5.024992e-03</td>\n",
       "    </tr>\n",
       "    <tr>\n",
       "      <th>11</th>\n",
       "      <td>11</td>\n",
       "      <td>1.991050</td>\n",
       "      <td>2.018687</td>\n",
       "      <td>-42.996676</td>\n",
       "      <td>-42.982310</td>\n",
       "      <td>3.105631e-03</td>\n",
       "    </tr>\n",
       "    <tr>\n",
       "      <th>12</th>\n",
       "      <td>12</td>\n",
       "      <td>1.991050</td>\n",
       "      <td>2.008131</td>\n",
       "      <td>-42.999871</td>\n",
       "      <td>-42.996676</td>\n",
       "      <td>1.919360e-03</td>\n",
       "    </tr>\n",
       "    <tr>\n",
       "      <th>13</th>\n",
       "      <td>13</td>\n",
       "      <td>1.997574</td>\n",
       "      <td>2.008131</td>\n",
       "      <td>-42.999706</td>\n",
       "      <td>-42.999871</td>\n",
       "      <td>1.186271e-03</td>\n",
       "    </tr>\n",
       "    <tr>\n",
       "      <th>14</th>\n",
       "      <td>14</td>\n",
       "      <td>1.997574</td>\n",
       "      <td>2.004099</td>\n",
       "      <td>-42.999871</td>\n",
       "      <td>-42.999158</td>\n",
       "      <td>7.330890e-04</td>\n",
       "    </tr>\n",
       "    <tr>\n",
       "      <th>15</th>\n",
       "      <td>15</td>\n",
       "      <td>1.997574</td>\n",
       "      <td>2.001606</td>\n",
       "      <td>-43.000000</td>\n",
       "      <td>-42.999871</td>\n",
       "      <td>4.531823e-04</td>\n",
       "    </tr>\n",
       "    <tr>\n",
       "      <th>16</th>\n",
       "      <td>16</td>\n",
       "      <td>1.999114</td>\n",
       "      <td>2.001606</td>\n",
       "      <td>-42.999961</td>\n",
       "      <td>-43.000000</td>\n",
       "      <td>2.799067e-04</td>\n",
       "    </tr>\n",
       "    <tr>\n",
       "      <th>17</th>\n",
       "      <td>17</td>\n",
       "      <td>1.999114</td>\n",
       "      <td>2.000653</td>\n",
       "      <td>-43.000000</td>\n",
       "      <td>-42.999979</td>\n",
       "      <td>1.732756e-04</td>\n",
       "    </tr>\n",
       "    <tr>\n",
       "      <th>18</th>\n",
       "      <td>18</td>\n",
       "      <td>1.999700</td>\n",
       "      <td>2.000653</td>\n",
       "      <td>-42.999996</td>\n",
       "      <td>-43.000000</td>\n",
       "      <td>1.066311e-04</td>\n",
       "    </tr>\n",
       "    <tr>\n",
       "      <th>19</th>\n",
       "      <td>19</td>\n",
       "      <td>1.999700</td>\n",
       "      <td>2.000287</td>\n",
       "      <td>-43.000000</td>\n",
       "      <td>-42.999996</td>\n",
       "      <td>6.664445e-05</td>\n",
       "    </tr>\n",
       "    <tr>\n",
       "      <th>20</th>\n",
       "      <td>20</td>\n",
       "      <td>1.999920</td>\n",
       "      <td>2.000287</td>\n",
       "      <td>-43.000000</td>\n",
       "      <td>-43.000000</td>\n",
       "      <td>3.998667e-05</td>\n",
       "    </tr>\n",
       "    <tr>\n",
       "      <th>21</th>\n",
       "      <td>21</td>\n",
       "      <td>1.999920</td>\n",
       "      <td>2.000140</td>\n",
       "      <td>-43.000000</td>\n",
       "      <td>-42.999999</td>\n",
       "      <td>2.665778e-05</td>\n",
       "    </tr>\n",
       "    <tr>\n",
       "      <th>22</th>\n",
       "      <td>22</td>\n",
       "      <td>1.999920</td>\n",
       "      <td>2.000067</td>\n",
       "      <td>-43.000000</td>\n",
       "      <td>-43.000000</td>\n",
       "      <td>1.332889e-05</td>\n",
       "    </tr>\n",
       "    <tr>\n",
       "      <th>23</th>\n",
       "      <td>23</td>\n",
       "      <td>1.999993</td>\n",
       "      <td>1.999993</td>\n",
       "      <td>-43.000000</td>\n",
       "      <td>-43.000000</td>\n",
       "      <td>2.018587e-17</td>\n",
       "    </tr>\n",
       "    <tr>\n",
       "      <th>24</th>\n",
       "      <td>24</td>\n",
       "      <td>1.999993</td>\n",
       "      <td>1.999993</td>\n",
       "      <td>-43.000000</td>\n",
       "      <td>-43.000000</td>\n",
       "      <td>0.000000e+00</td>\n",
       "    </tr>\n",
       "  </tbody>\n",
       "</table>\n",
       "</div>"
      ],
      "text/plain": [
       "     n        xl        xr      f(x1)      f(x2)  Reduction Ratio\n",
       "0    0 -2.500000  3.000000  35.468750  53.000000     3.819660e-01\n",
       "1    1 -0.399187  3.000000  13.291655 -16.031041     3.819660e-01\n",
       "2    2  0.899187  3.000000 -16.031041 -39.401475     2.360680e-01\n",
       "3    3  1.701626  3.000000 -39.401475 -40.763072     1.458980e-01\n",
       "4    4  1.701626  2.504065 -40.763072 -25.135207     9.016994e-02\n",
       "5    5  1.701626  2.197561 -42.996676 -40.763072     5.572809e-02\n",
       "6    6  1.891056  2.197561 -42.450426 -42.996676     3.444185e-02\n",
       "7    7  1.891056  2.080487 -42.996676 -42.657424     2.128624e-02\n",
       "8    8  1.963412  2.080487 -42.934763 -42.996676     1.315561e-02\n",
       "9    9  1.963412  2.035768 -42.996676 -42.934414     8.130623e-03\n",
       "10  10  1.991050  2.035768 -42.996020 -42.996676     5.024992e-03\n",
       "11  11  1.991050  2.018687 -42.996676 -42.982310     3.105631e-03\n",
       "12  12  1.991050  2.008131 -42.999871 -42.996676     1.919360e-03\n",
       "13  13  1.997574  2.008131 -42.999706 -42.999871     1.186271e-03\n",
       "14  14  1.997574  2.004099 -42.999871 -42.999158     7.330890e-04\n",
       "15  15  1.997574  2.001606 -43.000000 -42.999871     4.531823e-04\n",
       "16  16  1.999114  2.001606 -42.999961 -43.000000     2.799067e-04\n",
       "17  17  1.999114  2.000653 -43.000000 -42.999979     1.732756e-04\n",
       "18  18  1.999700  2.000653 -42.999996 -43.000000     1.066311e-04\n",
       "19  19  1.999700  2.000287 -43.000000 -42.999996     6.664445e-05\n",
       "20  20  1.999920  2.000287 -43.000000 -43.000000     3.998667e-05\n",
       "21  21  1.999920  2.000140 -43.000000 -42.999999     2.665778e-05\n",
       "22  22  1.999920  2.000067 -43.000000 -43.000000     1.332889e-05\n",
       "23  23  1.999993  1.999993 -43.000000 -43.000000     2.018587e-17\n",
       "24  24  1.999993  1.999993 -43.000000 -43.000000     0.000000e+00"
      ]
     },
     "execution_count": 27,
     "metadata": {},
     "output_type": "execute_result"
    }
   ],
   "source": [
    "df"
   ]
  },
  {
   "cell_type": "code",
   "execution_count": 29,
   "id": "9a9d7255-3b60-4d84-a6ec-c42467ecea55",
   "metadata": {
    "execution": {
     "iopub.execute_input": "2024-11-05T12:38:57.334565Z",
     "iopub.status.busy": "2024-11-05T12:38:57.334565Z",
     "iopub.status.idle": "2024-11-05T12:38:57.577583Z",
     "shell.execute_reply": "2024-11-05T12:38:57.576583Z",
     "shell.execute_reply.started": "2024-11-05T12:38:57.334565Z"
    }
   },
   "outputs": [
    {
     "data": {
      "image/png": "[encoded data removed]",
      "text/plain": [
       "<Figure size 640x480 with 1 Axes>"
      ]
     },
     "metadata": {},
     "output_type": "display_data"
    }
   ],
   "source": [
    "x = np.linspace(-3, 3, 100)\n",
    "plt.plot(x, f(x), 'r-')\n",
    "plt.plot(df['xl'], df['f(x1)'], 'go-')\n",
    "plt.plot(df['xr'], df['f(x2)'], 'bo-')\n",
    "plt.axvline(x=x_star, color='b', linestyle='--')\n",
    "plt.xlabel('x ->')\n",
    "plt.ylabel('f(x) ->')\n",
    "plt.title(\"$x^*$ denoted as broken blue line and $f(x^*)$ denoted as the black dot\")\n",
    "plt.show()"
   ]
  },
  {
   "cell_type": "code",
   "execution_count": 13,
   "id": "a9a66798-0abd-49c4-8a56-fc6962d66070",
   "metadata": {
    "execution": {
     "iopub.execute_input": "2024-11-03T23:41:32.626261Z",
     "iopub.status.busy": "2024-11-03T23:41:32.626261Z",
     "iopub.status.idle": "2024-11-03T23:41:32.775261Z",
     "shell.execute_reply": "2024-11-03T23:41:32.775261Z",
     "shell.execute_reply.started": "2024-11-03T23:41:32.626261Z"
    }
   },
   "outputs": [
    {
     "data": {
      "image/png": "[encoded data removed]",
      "text/plain": [
       "<Figure size 640x480 with 1 Axes>"
      ]
     },
     "metadata": {},
     "output_type": "display_data"
    }
   ],
   "source": [
    "plt.xlabel(\"n->\")\n",
    "plt.ylabel(\"Reduction Ratio ->\")\n",
    "plt.title(\"Graph of change of reduction ratio at each $n$\")\n",
    "plt.plot(range(0, len(df)), df['Reduction Ratio'])\n",
    "plt.show()"
   ]
  },
  {
   "cell_type": "markdown",
   "id": "2dfaa41d-ef8f-4728-a26b-ce640dc6943a",
   "metadata": {},
   "source": [
    "### Golden Section Search Method\n",
    "\n",
    "The golden section search method is a modified version of the Fibonacci search method. One advantage of the former over the later is that, we do not need to keep a record of the total number of experiment points $n$ beforehand. While selecting $x_1$ and $x_2$  inside the interval of uncertainty, we make use of the golden ratio, $\\phi = \\frac{\\sqrt{5}-1}{2}$ which is the positive root of the quadratic equation given by:\n",
    "\n",
    "\\begin{equation}\n",
    "    \\phi^2+\\phi-1=0 \\tag{3.13}\n",
    "\\end{equation}\n",
    "\n",
    "\n",
    "Given the initial interval $[x_l, x_r]$, we have the initial interval of uncertainty as,\n",
    "\\begin{equation}\n",
    "L_0 = x_r - x_l \\tag{3.14}\n",
    "\\end{equation}\n",
    "\n",
    "The new interior points $x_1$ and $x_2$ are chosen in such a way that both of them lies at a distance $\\phi_2L_0$ from either side, i.e,\n",
    "\\begin{equation}\n",
    "    x_1-x_l = \\phi^2L_0 \\tag{3.15}\n",
    "\\end{equation}\n",
    " \n",
    "and\n",
    "\\begin{equation}\n",
    "    x_r-x_2 = \\phi^2L_0 \\tag{3.16}\n",
    "\\end{equation}\n",
    "\n",
    "Now from Eq.(3.13) we know\n",
    "\\begin{equation}\n",
    "    L_0 = (\\phi^2 + \\phi)L_0 \\tag{3.17}\n",
    "\\end{equation}\n",
    "\n",
    "The above computations leave us with:\n",
    "\\begin{equation}\n",
    "x_r - x_1 = \\phi L_0 \\tag{3.18}\n",
    "\\end{equation}\n",
    " \n",
    "and\n",
    "\\begin{equation}\n",
    "    x_2 - x_l = \\phi L_0 \\tag{3.19}\n",
    "\\end{equation}\n",
    "\n",
    "Given, $f(x)$ is the nonlinear objective function, we now check whether $f(x_1) > f(x_2)$. If this is the case, we set $x_l = x_1$, otherwise if  \n",
    "$f(x_1) > f(x_2)$, we set $x_r = x_2$. The new interval of uncertainty is set to be $L_i = \\phi L_0$ and the previous interval is shrunk. This process of choosing new experimental points and shrinking the interval of uncertainty is continued until the termination condition is satisfied. The termination condition is to check whether the interval of uncertainty is less than a particular tolerance $\\epsilon$ usually provided by the user. "
   ]
  },
  {
   "cell_type": "markdown",
   "id": "80658547-faad-495d-91d5-b2b628bb3a6e",
   "metadata": {},
   "source": [
    "#### Example 2 \n",
    "Let us consider an objective function:\n",
    "\\begin{equation}\n",
    "    f(x) = \\frac{1}{16}x^3 - \\frac{27}{4}x \\tag{3.20}\n",
    "\\end{equation}\n",
    "\n",
    "We will use the golden section search method to find the minimizer $x^∗$ of this function and compute $f(x^∗)$. Suppose the initial interval be $[−10, 10]$ and the tolerance for the termination condition for the algorithm be $\\epsilon$ = 10^−5$. Let us first define the function in Python:"
   ]
  },
  {
   "cell_type": "code",
   "execution_count": 30,
   "id": "1cd0c376-b5f2-4242-b655-748b20d0c920",
   "metadata": {
    "execution": {
     "iopub.execute_input": "2024-11-05T12:40:25.530792Z",
     "iopub.status.busy": "2024-11-05T12:40:25.529791Z",
     "iopub.status.idle": "2024-11-05T12:40:25.690314Z",
     "shell.execute_reply": "2024-11-05T12:40:25.689314Z",
     "shell.execute_reply.started": "2024-11-05T12:40:25.530792Z"
    }
   },
   "outputs": [
    {
     "data": {
      "image/png": "[encoded data removed]",
      "text/plain": [
       "<Figure size 640x480 with 1 Axes>"
      ]
     },
     "metadata": {},
     "output_type": "display_data"
    }
   ],
   "source": [
    "def f(x): # objective function\n",
    "    return x**3/16 - 27*x/4\n",
    "\n",
    "x = np.linspace(-20, 20, 100)\n",
    "plt.plot(x, f(x), 'r-')\n",
    "\n",
    "plt.xlabel('x ->')\n",
    "plt.ylabel('f(x) ->')\n",
    "plt.title(\"Graph of $f(x) = \\\\frac{1}{16}x^3 - \\\\frac{27}{4}x$\")\n",
    "plt.show()"
   ]
  },
  {
   "cell_type": "markdown",
   "id": "61a59cf0-93ab-4292-8378-e6c715dd556b",
   "metadata": {},
   "source": [
    "For tackling this problem, we will not write our own Python function. As already stated in the last chapter, the scipy.optimize package too equips us with solvers to solve these tasks. For this problem, we use the ```minimize_scalar()``` function provided by [scipy.optimize](https://docs.scipy.org/doc/scipy/reference/generated/scipy.optimize.minimize_scalar.html), which is used for minimization of a scalar function of one variable.\n",
    "\n",
    "Now returning back to our example, we have $f(x)$ defined by Eq.(3.20), we use the golden section search method to find its minimizer. Using the ```minimize_scalar()``` function and setting parameters ```method = 'golden', bounds = (-10, 10) and tol = 10**-5 ``` we can get our solution. We see that the initial interval has been set to $[−10, 10]$ and the tolerance $\\epsilon$ has been set $10^{−5}$.  The Python code is provided below:"
   ]
  },
  {
   "cell_type": "code",
   "execution_count": 31,
   "id": "e805941b-c7b4-4383-87ee-5fdecc530838",
   "metadata": {
    "execution": {
     "iopub.execute_input": "2024-11-05T12:40:26.492204Z",
     "iopub.status.busy": "2024-11-05T12:40:26.492204Z",
     "iopub.status.idle": "2024-11-05T12:40:26.510201Z",
     "shell.execute_reply": "2024-11-05T12:40:26.509204Z",
     "shell.execute_reply.started": "2024-11-05T12:40:26.492204Z"
    }
   },
   "outputs": [],
   "source": [
    "# Callback function to print the solution at each iteration\n",
    "def callback(xk):\n",
    "    print(f\"Current solution: {xk}\")"
   ]
  },
  {
   "cell_type": "code",
   "execution_count": 32,
   "id": "bea230a8-94f7-44ef-b80f-65c2376770b5",
   "metadata": {
    "execution": {
     "iopub.execute_input": "2024-11-05T12:40:27.171730Z",
     "iopub.status.busy": "2024-11-05T12:40:27.171730Z",
     "iopub.status.idle": "2024-11-05T12:40:27.436829Z",
     "shell.execute_reply": "2024-11-05T12:40:27.436829Z",
     "shell.execute_reply.started": "2024-11-05T12:40:27.171730Z"
    }
   },
   "outputs": [
    {
     "name": "stdout",
     "output_type": "stream",
     "text": [
      " \n",
      " Func-count       x           f(x)    \n",
      "     7         7.45716      -24.4179  \n",
      "     8         5.60878      -26.8316  \n",
      "     9         5.60878      -26.8316  \n",
      "     10         6.3148      -26.8866  \n",
      "     11         6.3148      -26.8866  \n",
      "     12        6.04512      -26.9977  \n",
      "     13        6.04512      -26.9977  \n",
      "     14        6.04512      -26.9977  \n",
      "     15        5.98146      -26.9996  \n",
      "     16        5.98146      -26.9996  \n",
      "     17        6.00578        -27     \n",
      "     18        6.00578        -27     \n",
      "     19        5.99649        -27     \n",
      "     20        5.99649        -27     \n",
      "     21        6.00004        -27     \n",
      "     22        6.00004        -27     \n",
      "     23        6.00004        -27     \n",
      "     24        6.00004        -27     \n",
      "     25        6.00004        -27     \n",
      "     26        6.00004        -27     \n",
      "     27        6.00004        -27     \n",
      "     28        6.00004        -27     \n",
      "     29        5.99996        -27     \n",
      "     30        5.99996        -27     \n",
      "     31        5.99999        -27     \n",
      "     32        5.99999        -27     \n",
      "\n",
      "Optimization terminated successfully;\n",
      "The returned value satisfies the termination criteria\n",
      "(using xtol = 1e-05 )\n",
      " message: \n",
      "          Optimization terminated successfully;\n",
      "          The returned value satisfies the termination criteria\n",
      "          (using xtol = 1e-05 )\n",
      " success: True\n",
      "     fun: -26.99999999991886\n",
      "       x: 5.99999150720724\n",
      "     nit: 26\n",
      "    nfev: 32\n"
     ]
    },
    {
     "name": "stderr",
     "output_type": "stream",
     "text": [
      "C:\\Users\\chw\\anaconda3\\envs\\IMSE685\\lib\\site-packages\\scipy\\optimize\\_minimize.py:968: OptimizeWarning: Unknown solver options: return_all\n",
      "  res = _recover_from_bracket_error(_minimize_scalar_golden,\n"
     ]
    }
   ],
   "source": [
    "from scipy.optimize import minimize_scalar\n",
    "from scipy.optimize import show_options\n",
    "#show_options(solver=\"minimize\")\n",
    "result = minimize_scalar(f, method = 'golden', tol = 10**-5, options={'disp':3,'return_all':True})\n",
    "print(result)"
   ]
  },
  {
   "cell_type": "markdown",
   "id": "62d02d9a-cff8-4399-b85e-99ebd3e02646",
   "metadata": {},
   "source": [
    "We notice that $x^∗ ∼ 6$, $f(x^∗) ∼ −27$, the number of iterations it took to converge to $x^∗$ is 26 and other attributes that have been listed methodically. With some little extra Python codes, the user can also collect the data of the optimization steps, given below:"
   ]
  },
  {
   "cell_type": "code",
   "execution_count": 33,
   "id": "ec0bd3e8-014d-479d-82bb-37fab9cdb59a",
   "metadata": {
    "execution": {
     "iopub.execute_input": "2024-11-05T12:40:31.506156Z",
     "iopub.status.busy": "2024-11-05T12:40:31.505156Z",
     "iopub.status.idle": "2024-11-05T12:40:31.519156Z",
     "shell.execute_reply": "2024-11-05T12:40:31.518155Z",
     "shell.execute_reply.started": "2024-11-05T12:40:31.506156Z"
    }
   },
   "outputs": [
    {
     "name": "stdout",
     "output_type": "stream",
     "text": [
      "5.99999150720724\n"
     ]
    }
   ],
   "source": [
    "#for i in result.allvecs: print(i)\n",
    "print(result.x)"
   ]
  },
  {
   "cell_type": "markdown",
   "id": "2c48dc46-1b0b-459e-95df-a9540f56b6af",
   "metadata": {},
   "source": [
    "The optimization steps can be plotted too. The graph with all the function evaluations along with the minimizer $f(x^∗) at $x^*$ has been denoted as a blue dotted line in the below figure which can be generated using the following Python code:"
   ]
  },
  {
   "cell_type": "code",
   "execution_count": 38,
   "id": "d4834eec-2d0b-4f80-840e-87970eebe45b",
   "metadata": {
    "execution": {
     "iopub.execute_input": "2024-11-05T12:43:32.571740Z",
     "iopub.status.busy": "2024-11-05T12:43:32.571740Z",
     "iopub.status.idle": "2024-11-05T12:43:32.585740Z",
     "shell.execute_reply": "2024-11-05T12:43:32.584740Z",
     "shell.execute_reply.started": "2024-11-05T12:43:32.571740Z"
    }
   },
   "outputs": [
    {
     "data": {
      "text/html": [
       "<div>\n",
       "<style scoped>\n",
       "    .dataframe tbody tr th:only-of-type {\n",
       "        vertical-align: middle;\n",
       "    }\n",
       "\n",
       "    .dataframe tbody tr th {\n",
       "        vertical-align: top;\n",
       "    }\n",
       "\n",
       "    .dataframe thead th {\n",
       "        text-align: right;\n",
       "    }\n",
       "</style>\n",
       "<table border=\"1\" class=\"dataframe\">\n",
       "  <thead>\n",
       "    <tr style=\"text-align: right;\">\n",
       "      <th></th>\n",
       "      <th>x</th>\n",
       "      <th>f(x)</th>\n",
       "    </tr>\n",
       "  </thead>\n",
       "  <tbody>\n",
       "    <tr>\n",
       "      <th>0</th>\n",
       "      <td>7.45716</td>\n",
       "      <td>-24.417895</td>\n",
       "    </tr>\n",
       "    <tr>\n",
       "      <th>1</th>\n",
       "      <td>5.60878</td>\n",
       "      <td>-26.831558</td>\n",
       "    </tr>\n",
       "    <tr>\n",
       "      <th>2</th>\n",
       "      <td>5.60878</td>\n",
       "      <td>-26.831558</td>\n",
       "    </tr>\n",
       "    <tr>\n",
       "      <th>3</th>\n",
       "      <td>6.31480</td>\n",
       "      <td>-26.886564</td>\n",
       "    </tr>\n",
       "    <tr>\n",
       "      <th>4</th>\n",
       "      <td>6.31480</td>\n",
       "      <td>-26.886564</td>\n",
       "    </tr>\n",
       "    <tr>\n",
       "      <th>5</th>\n",
       "      <td>6.04512</td>\n",
       "      <td>-26.997704</td>\n",
       "    </tr>\n",
       "    <tr>\n",
       "      <th>6</th>\n",
       "      <td>6.04512</td>\n",
       "      <td>-26.997704</td>\n",
       "    </tr>\n",
       "    <tr>\n",
       "      <th>7</th>\n",
       "      <td>6.04512</td>\n",
       "      <td>-26.997704</td>\n",
       "    </tr>\n",
       "    <tr>\n",
       "      <th>8</th>\n",
       "      <td>5.98146</td>\n",
       "      <td>-26.999614</td>\n",
       "    </tr>\n",
       "    <tr>\n",
       "      <th>9</th>\n",
       "      <td>5.98146</td>\n",
       "      <td>-26.999614</td>\n",
       "    </tr>\n",
       "    <tr>\n",
       "      <th>10</th>\n",
       "      <td>6.00578</td>\n",
       "      <td>-26.999962</td>\n",
       "    </tr>\n",
       "    <tr>\n",
       "      <th>11</th>\n",
       "      <td>6.00578</td>\n",
       "      <td>-26.999962</td>\n",
       "    </tr>\n",
       "    <tr>\n",
       "      <th>12</th>\n",
       "      <td>5.99649</td>\n",
       "      <td>-26.999986</td>\n",
       "    </tr>\n",
       "    <tr>\n",
       "      <th>13</th>\n",
       "      <td>5.99649</td>\n",
       "      <td>-26.999986</td>\n",
       "    </tr>\n",
       "    <tr>\n",
       "      <th>14</th>\n",
       "      <td>6.00004</td>\n",
       "      <td>-27.000000</td>\n",
       "    </tr>\n",
       "    <tr>\n",
       "      <th>15</th>\n",
       "      <td>6.00004</td>\n",
       "      <td>-27.000000</td>\n",
       "    </tr>\n",
       "    <tr>\n",
       "      <th>16</th>\n",
       "      <td>6.00004</td>\n",
       "      <td>-27.000000</td>\n",
       "    </tr>\n",
       "    <tr>\n",
       "      <th>17</th>\n",
       "      <td>6.00004</td>\n",
       "      <td>-27.000000</td>\n",
       "    </tr>\n",
       "    <tr>\n",
       "      <th>18</th>\n",
       "      <td>6.00004</td>\n",
       "      <td>-27.000000</td>\n",
       "    </tr>\n",
       "    <tr>\n",
       "      <th>19</th>\n",
       "      <td>6.00004</td>\n",
       "      <td>-27.000000</td>\n",
       "    </tr>\n",
       "    <tr>\n",
       "      <th>20</th>\n",
       "      <td>6.00004</td>\n",
       "      <td>-27.000000</td>\n",
       "    </tr>\n",
       "    <tr>\n",
       "      <th>21</th>\n",
       "      <td>6.00004</td>\n",
       "      <td>-27.000000</td>\n",
       "    </tr>\n",
       "    <tr>\n",
       "      <th>22</th>\n",
       "      <td>5.99996</td>\n",
       "      <td>-27.000000</td>\n",
       "    </tr>\n",
       "    <tr>\n",
       "      <th>23</th>\n",
       "      <td>5.99996</td>\n",
       "      <td>-27.000000</td>\n",
       "    </tr>\n",
       "    <tr>\n",
       "      <th>24</th>\n",
       "      <td>5.99999</td>\n",
       "      <td>-27.000000</td>\n",
       "    </tr>\n",
       "    <tr>\n",
       "      <th>25</th>\n",
       "      <td>5.99999</td>\n",
       "      <td>-27.000000</td>\n",
       "    </tr>\n",
       "  </tbody>\n",
       "</table>\n",
       "</div>"
      ],
      "text/plain": [
       "          x       f(x)\n",
       "0   7.45716 -24.417895\n",
       "1   5.60878 -26.831558\n",
       "2   5.60878 -26.831558\n",
       "3   6.31480 -26.886564\n",
       "4   6.31480 -26.886564\n",
       "5   6.04512 -26.997704\n",
       "6   6.04512 -26.997704\n",
       "7   6.04512 -26.997704\n",
       "8   5.98146 -26.999614\n",
       "9   5.98146 -26.999614\n",
       "10  6.00578 -26.999962\n",
       "11  6.00578 -26.999962\n",
       "12  5.99649 -26.999986\n",
       "13  5.99649 -26.999986\n",
       "14  6.00004 -27.000000\n",
       "15  6.00004 -27.000000\n",
       "16  6.00004 -27.000000\n",
       "17  6.00004 -27.000000\n",
       "18  6.00004 -27.000000\n",
       "19  6.00004 -27.000000\n",
       "20  6.00004 -27.000000\n",
       "21  6.00004 -27.000000\n",
       "22  5.99996 -27.000000\n",
       "23  5.99996 -27.000000\n",
       "24  5.99999 -27.000000\n",
       "25  5.99999 -27.000000"
      ]
     },
     "execution_count": 38,
     "metadata": {},
     "output_type": "execute_result"
    }
   ],
   "source": [
    "my_list2 = [7.45716,5.60878,5.60878,6.3148,6.3148,6.04512,6.04512,6.04512,5.98146,5.98146,6.00578,6.00578,5.99649,5.99649,6.00004,6.00004,6.00004,6.00004,6.00004,6.00004,6.00004,6.00004,5.99996,5.99996,5.99999,5.99999,]\n",
    "df = pd.DataFrame(my_list2, columns=['x'])\n",
    "df['f(x)'] = f(df['x'])\n",
    "df"
   ]
  },
  {
   "cell_type": "code",
   "execution_count": 37,
   "id": "6dac75ef-0b2b-476d-81fd-a298c77bc784",
   "metadata": {
    "execution": {
     "iopub.execute_input": "2024-11-05T12:42:47.238721Z",
     "iopub.status.busy": "2024-11-05T12:42:47.237720Z",
     "iopub.status.idle": "2024-11-05T12:42:47.379721Z",
     "shell.execute_reply": "2024-11-05T12:42:47.379721Z",
     "shell.execute_reply.started": "2024-11-05T12:42:47.238721Z"
    }
   },
   "outputs": [
    {
     "data": {
      "image/png": "[encoded data removed]",
      "text/plain": [
       "<Figure size 640x480 with 1 Axes>"
      ]
     },
     "metadata": {},
     "output_type": "display_data"
    }
   ],
   "source": [
    "plt.plot(np.linspace(4, 8, 100), f(np.linspace(4, 8, 100)), 'r-')\n",
    "plt.plot(df['x'], df['f(x)'], 'ko-')\n",
    "plt.axvline(x=result.x, color='b', linestyle='--')\n",
    "plt.axhline(y=result.fun, color='g', linestyle='--')\n",
    "plt.xlabel('x ->')\n",
    "plt.ylabel('f(x) ->')\n",
    "plt.title(\"Golden Search of $f(x) = \\\\frac{1}{16}x^3 - \\\\frac{27}{4}x$\")\n",
    "plt.show()"
   ]
  },
  {
   "cell_type": "code",
   "execution_count": null,
   "id": "90a4b18a-1e0d-481f-b396-4800c6e968ba",
   "metadata": {},
   "outputs": [],
   "source": []
  },
  {
   "cell_type": "markdown",
   "id": "7defa8f9-8dce-4cea-b076-4b2b83d5f993",
   "metadata": {},
   "source": [
    "If we analyse closely the optimization data in the dataframe and look at the third, fourth and fifth steps, we see that $f(x[3]) \\sim −16.55, f(x[4]) \\sim 120.1$ and again $f(x[5]) \\sim −16.55$. This interesting overshooting can be also seen in the visualization given by the above figure.\n",
    "\n",
    "We next discuss interpolation methods to find the minimum of a nonlinear unimodal objective function. This methods use polynomial approximation for modeling the objective function. We will study two methods under this class of methods:\n",
    "\n",
    "* <b>Powell’s quadratic interpolation method</b>, and\n",
    "* <b>Inverse quadratic interpolation method</b>"
   ]
  },
  {
   "cell_type": "markdown",
   "id": "9d8b6340-239a-45ed-a815-153c32b203d4",
   "metadata": {},
   "source": [
    "## Powell’s Quadratic Interpolation Method\n",
    "\n",
    "Suppose, the objective function is $f(x)$, $x \\in \\mathbb{R}$ and the minimizer is $x^∗$. Powell’s method use successive quadratic interpolation curves for fitting to the objective function data. This gives a sequence of approximations to $x^*$, denoted by $x_t$.\n",
    "\n",
    "Initially three data points $x_0, x_1, x_2 \\in \\mathbb{R}$ are provided. The interpolating quadratic polynomial through these data points $P(x)$ is as followed:\n",
    "\\begin{equation}\n",
    "    P(x) = f(x_0) + (x - x_0)f[x_0, x_1] + (x-x_0)(x-x_1)f[x_0, x_1, x_2] \\tag{3.21}\n",
    "\\end{equation}\n",
    "\n",
    "where,\n",
    "\n",
    "\\begin{equation}\n",
    "    f[x, y] = \\frac{f(y) - f(x)}{y - x} \\tag{3.22}\n",
    "\\end{equation}\n",
    "\n",
    " \n",
    "is the first order forward divided difference, and\n",
    "\\begin{equation}\n",
    "    f[x, y, z] = \\frac{f[y, z] - f[x, y]}{z - x} \\tag{3.23}\n",
    "\\end{equation}\n",
    "\n",
    " \n",
    "is the second order forward divided difference. $x_t$ is the point where the slope of $P(x)$ curve is $0$ To find it, we set,\n",
    "\\begin{align}\n",
    "& \\frac{dP(x)}{dx} = 0 \\\\\n",
    "&\\Rightarrow f[x_0, x_1] + f[x_0, x_1, x_t](2x_t - x_0 - x_1) = 0 \\tag{3.24}\n",
    "\\end{align}\n",
    "\n",
    " \n",
    "So we end up with  \n",
    "\\begin{equation}\n",
    "    x_t = \\frac{f[x_0, x_1, x_2](x_0, x_1) - f[x_0, x_1]}{2f[x_0, x_1, x_2]} \\tag{3.25}\n",
    "\\end{equation}\n",
    "\n",
    " \n",
    "For $x_t$  to be minimum, the following condition regarding the second order forward divided difference should be satisfied,\n",
    "\\begin{equation}\n",
    "    f[x_0, x_1, x_2] > 0 \\tag{3.26}\n",
    "\\end{equation}\n",
    "\n",
    " \n",
    "\n",
    "We can now say that $x_t$ is a good approximation to $x^∗$. "
   ]
  },
  {
   "cell_type": "markdown",
   "id": "d3b36a0b-2063-4ea3-a275-2cc118e92b5b",
   "metadata": {},
   "source": [
    "#### Example 3.3 \n",
    "Let us consider an objective function:\n",
    "\\begin{equation}\n",
    "    f(x) = x^4 - 2x^2 + \\frac{1}{4} \\tag{3.27}\n",
    "\\end{equation}\n",
    "\n",
    " \n",
    "We will use Powell’s quadratic interpolation method to find out the minimizer $x^∗$ and the function value at this point, $f(x^∗)$. Let the initial starting point be $x = 0.5$, the discrete step size be $s = 10^-3$, the maximum step size be $m = 30$ and the tolerance be $\\epsilon = 10^-5$. To start with the optimization process, let us first define the objective function given by Eq.(3.27) in Python and plot the function:"
   ]
  },
  {
   "cell_type": "code",
   "execution_count": 22,
   "id": "8868110b-f49e-4a8c-a259-7eb7c4609ee1",
   "metadata": {
    "execution": {
     "iopub.execute_input": "2024-11-03T23:42:39.330440Z",
     "iopub.status.busy": "2024-11-03T23:42:39.330440Z",
     "iopub.status.idle": "2024-11-03T23:42:39.478438Z",
     "shell.execute_reply": "2024-11-03T23:42:39.477437Z",
     "shell.execute_reply.started": "2024-11-03T23:42:39.330440Z"
    }
   },
   "outputs": [
    {
     "data": {
      "image/png": "[encoded data removed]",
      "text/plain": [
       "<Figure size 640x480 with 1 Axes>"
      ]
     },
     "metadata": {},
     "output_type": "display_data"
    }
   ],
   "source": [
    "def f(x): # define the objective function\n",
    "    return x**4 - 2*x**2 + 1/4\n",
    "    \n",
    "l = np.linspace(-2, 2, 100)\n",
    "plt.plot(l, f(l), 'r-')\n",
    "plt.xlabel('x ->')\n",
    "plt.ylabel('f(x) ->')\n",
    "plt.title(\"Graph of $f(x) =  x^4 - 2x^2 + \\\\frac{1}{4}$\")\n",
    "plt.show()"
   ]
  },
  {
   "cell_type": "markdown",
   "id": "14daa96d-7b3d-419d-8f36-3d4f533de6b9",
   "metadata": {},
   "source": [
    "We will now write functions for the first order forward divided difference and the second order forward divided difference given by Eq.(3.22) and Eq.(3.22)."
   ]
  },
  {
   "cell_type": "code",
   "execution_count": 23,
   "id": "3ba196b1-983c-4090-bb10-a7efdaf3526c",
   "metadata": {
    "execution": {
     "iopub.execute_input": "2024-11-03T23:42:40.245078Z",
     "iopub.status.busy": "2024-11-03T23:42:40.245078Z",
     "iopub.status.idle": "2024-11-03T23:42:40.261078Z",
     "shell.execute_reply": "2024-11-03T23:42:40.260077Z",
     "shell.execute_reply.started": "2024-11-03T23:42:40.245078Z"
    }
   },
   "outputs": [],
   "source": [
    "def f1(x, y): # First order forward divided difference\n",
    "    return (f(y) - f(x)) / (y - x)\n",
    "\n",
    "def f2(x, y, z): # Second order forward divided difference\n",
    "    return (f1(y, z) - f1(x, y))/(z - x)"
   ]
  },
  {
   "cell_type": "markdown",
   "id": "5bd09eeb-c584-41f6-9988-9432a750443e",
   "metadata": {},
   "source": [
    "Next, we write a function to find out the nearest value to a number ```n``` from a list, ```seq``` and a function to find out the furthest value to a number ```n``` from a list, ```seq```."
   ]
  },
  {
   "cell_type": "code",
   "execution_count": 24,
   "id": "76c81e64-a33e-405e-abaa-5d9faf3aa43c",
   "metadata": {
    "execution": {
     "iopub.execute_input": "2024-11-03T23:42:40.897886Z",
     "iopub.status.busy": "2024-11-03T23:42:40.897886Z",
     "iopub.status.idle": "2024-11-03T23:42:40.916885Z",
     "shell.execute_reply": "2024-11-03T23:42:40.915884Z",
     "shell.execute_reply.started": "2024-11-03T23:42:40.897886Z"
    }
   },
   "outputs": [],
   "source": [
    "def nearest_to(seq, n): # Picks the nearest value to a number entered from a list\n",
    "    return min(seq, key = lambda x: abs(x - n))\n",
    "                \n",
    "def furthest_to(seq, n): # Picks the furthest value to a number entered from a list\n",
    "    return max(seq, key = lambda x: abs(x - n))"
   ]
  },
  {
   "cell_type": "markdown",
   "id": "cb038706-f9de-4b48-9591-6f2ffad69303",
   "metadata": {},
   "source": [
    "Let us consider a list be $L = {1.1, 2.7, 3.3, 3.2, 1.8, −0.9, −0.5, −6.33}$  and a number be $0.7$, we need to find the nearest value to  \n",
    "$0.7$ from $L$ and the furthest value to $0.7$ from $L$. We use the functions:"
   ]
  },
  {
   "cell_type": "code",
   "execution_count": 25,
   "id": "f21a4067-117e-43dd-b682-68f221c64e1c",
   "metadata": {
    "execution": {
     "iopub.execute_input": "2024-11-03T23:42:41.556885Z",
     "iopub.status.busy": "2024-11-03T23:42:41.555885Z",
     "iopub.status.idle": "2024-11-03T23:42:41.569884Z",
     "shell.execute_reply": "2024-11-03T23:42:41.568885Z",
     "shell.execute_reply.started": "2024-11-03T23:42:41.556885Z"
    }
   },
   "outputs": [
    {
     "name": "stdout",
     "output_type": "stream",
     "text": [
      "The nearest value to 0.7 from  [1.1, 2.7, 3.3, 3.2, 1.8, -0.9, -0.5, -6.33] : 1.1\n"
     ]
    }
   ],
   "source": [
    "L = [1.1, 2.7, 3.3, 3.2, 1.8, -0.9, -0.5, -6.33]\n",
    "n = 0.7\n",
    "\n",
    "print(\"The nearest value to\", n, \"from \", L, \":\", nearest_to(L, n))"
   ]
  },
  {
   "cell_type": "code",
   "execution_count": 26,
   "id": "98c599ae-b3fd-4138-a062-0ddf9f001e7a",
   "metadata": {
    "execution": {
     "iopub.execute_input": "2024-11-03T23:42:42.325733Z",
     "iopub.status.busy": "2024-11-03T23:42:42.325733Z",
     "iopub.status.idle": "2024-11-03T23:42:42.344693Z",
     "shell.execute_reply": "2024-11-03T23:42:42.344693Z",
     "shell.execute_reply.started": "2024-11-03T23:42:42.325733Z"
    }
   },
   "outputs": [
    {
     "name": "stdout",
     "output_type": "stream",
     "text": [
      "The furthest value to 0.7 from  [1.1, 2.7, 3.3, 3.2, 1.8, -0.9, -0.5, -6.33] : -6.33\n"
     ]
    }
   ],
   "source": [
    "print(\"The furthest value to\", n, \"from \", L, \":\", furthest_to(L, n))"
   ]
  },
  {
   "cell_type": "markdown",
   "id": "648eaba3-bf54-4b08-93c4-4db1d7f2bd89",
   "metadata": {},
   "source": [
    "We now require to write a function that returns the element from a list that has the maximum value of $f(x)$ where $f$ is the objective function."
   ]
  },
  {
   "cell_type": "code",
   "execution_count": 27,
   "id": "69dc5477-78a8-48d7-b861-32ed6e4d93d1",
   "metadata": {
    "execution": {
     "iopub.execute_input": "2024-11-03T23:42:48.446968Z",
     "iopub.status.busy": "2024-11-03T23:42:48.445968Z",
     "iopub.status.idle": "2024-11-03T23:42:48.455966Z",
     "shell.execute_reply": "2024-11-03T23:42:48.454968Z",
     "shell.execute_reply.started": "2024-11-03T23:42:48.446968Z"
    }
   },
   "outputs": [],
   "source": [
    "def maximum_fvalue(seq):\n",
    "    fu = f(np.array(seq)) # Converts a Python list to a ndarray object \n",
    "    return seq[np.where(fu==np.amax(fu))[0][0]] # Picks up the index from the ndarray sequence, the element at which has the maximum f(x) value and returns the element from the sequence"
   ]
  },
  {
   "cell_type": "markdown",
   "id": "fe6809f5-90dd-4036-b0ce-305f071ca313",
   "metadata": {},
   "source": [
    "Let us use the same sequence and find out the element from it that fas the maximum value of $f$,"
   ]
  },
  {
   "cell_type": "code",
   "execution_count": 28,
   "id": "0f13d22b-084d-42ba-a272-e2250ca36b8a",
   "metadata": {
    "execution": {
     "iopub.execute_input": "2024-11-03T23:42:48.983376Z",
     "iopub.status.busy": "2024-11-03T23:42:48.983376Z",
     "iopub.status.idle": "2024-11-03T23:42:48.991377Z",
     "shell.execute_reply": "2024-11-03T23:42:48.990376Z",
     "shell.execute_reply.started": "2024-11-03T23:42:48.983376Z"
    }
   },
   "outputs": [
    {
     "name": "stdout",
     "output_type": "stream",
     "text": [
      "[-7.05900000e-01  3.88141000e+01  9.70621000e+01  8.46276000e+01\n",
      "  4.26760000e+00 -7.13900000e-01 -1.87500000e-01  1.52562895e+03]\n"
     ]
    }
   ],
   "source": [
    "L = [1.1, 2.7, 3.3, 3.2, 1.8, -0.9, -0.5, -6.33]\n",
    "print(f(np.array(L))) # Prints the f(x)'s at all the x's from the sequence "
   ]
  },
  {
   "cell_type": "code",
   "execution_count": 29,
   "id": "0199b68e-0da6-41d4-8bcd-e090ac00d058",
   "metadata": {
    "execution": {
     "iopub.execute_input": "2024-11-03T23:42:49.224951Z",
     "iopub.status.busy": "2024-11-03T23:42:49.224951Z",
     "iopub.status.idle": "2024-11-03T23:42:49.236952Z",
     "shell.execute_reply": "2024-11-03T23:42:49.235951Z",
     "shell.execute_reply.started": "2024-11-03T23:42:49.224951Z"
    }
   },
   "outputs": [
    {
     "name": "stdout",
     "output_type": "stream",
     "text": [
      "-6.33\n"
     ]
    }
   ],
   "source": [
    "print(maximum_fvalue(L)) # Prints the element with the highest f(x) value"
   ]
  },
  {
   "cell_type": "markdown",
   "id": "977744fe-c3ba-4954-a13c-ea26cc634aaf",
   "metadata": {},
   "source": [
    "We see that from the sequence $−6.33$ has the highest $f$ value, that is $f(−6.33) = 1.52562895 \\times 10^3$ is the maximum value as can be seen in the printed ndarray. We finally write the function that implements **Powell’s Quadratic Interpolation Algorithm** and name it ```powell_quad()``` with the parameters ```x, s, m, and tol```:"
   ]
  },
  {
   "cell_type": "code",
   "execution_count": 30,
   "id": "0815c5c6-f2c3-4937-9b62-bad68283b4c1",
   "metadata": {
    "execution": {
     "iopub.execute_input": "2024-11-03T23:42:49.651081Z",
     "iopub.status.busy": "2024-11-03T23:42:49.651081Z",
     "iopub.status.idle": "2024-11-03T23:42:49.673078Z",
     "shell.execute_reply": "2024-11-03T23:42:49.672078Z",
     "shell.execute_reply.started": "2024-11-03T23:42:49.651081Z"
    }
   },
   "outputs": [],
   "source": [
    "def powell_quad(x, s, m, tol):\n",
    "    if f(x) < f(x + s):\n",
    "        x0 = x - s\n",
    "        x1 = x\n",
    "        x2 = x + s\n",
    "    else:\n",
    "        x0 = x\n",
    "        x1 = x + s\n",
    "        x2 = x + 2 * s\n",
    "\n",
    "    L = [x0, x1, x2] # Set x0, x1 and x2\n",
    "    XT = []  \n",
    "    while True:\n",
    "        M = f2(L[0], L[1], L[2])\n",
    "        xt = (M * (L[0] + L[1]) - f1(L[0], L[1]))/(2 * M) # The approximate minimizer \n",
    "        xn = nearest_to(L, xt) # Picks the point from [x0, x1, x2] which is the nearest to xt\n",
    "        xf = furthest_to(L, xt) # Picks the point from [x0, x1, x2] which is the furthest to xt\n",
    "        if M > 0 and abs(xt - xn) > m: # Checks for equation 3.26 \n",
    "            L.remove(xf) # Remove xf from [x0, x1, x2]\n",
    "            value = min(L) + m \n",
    "            L += [value, ]\n",
    "            L.sort() # Take a step of size m towards the direction of descent from the point with the lowest value\n",
    "        elif M < 0 :\n",
    "            L.remove(xn) # Remove xn from [x0, x1, x2]\n",
    "            value = min(L) + m\n",
    "            L += [value, ]\n",
    "            L.sort() # Take a step of size m towards the direction of descent from the point with the lowest value\n",
    "        else:\n",
    "            # print((xt + xn) / 2, f((xt + xn) / 2)) # If the user wants to print the steps at all function evaluations at the approximate minimizers, uncomment the command\n",
    "            XT += [(xt + xn) / 2, ]\n",
    "            if abs(xt - xn) < tol: # Check for the terminating condition\n",
    "                return [(xt + xn) / 2, f((xt + xn) / 2), XT] # Return the results\n",
    "            else:\n",
    "                mx = maximum_fvalue(L) \n",
    "                L.remove(mx)\n",
    "                L += [xt, ]\n",
    "                L.sort() # Replace the element from [x0, x1, x2] having the maximum function value with xt"
   ]
  },
  {
   "cell_type": "markdown",
   "id": "de6ad8d8-bbe1-4562-bf3d-3749ca036ea5",
   "metadata": {},
   "source": [
    "Now returning back to our original example problem, we have $x = 0.5, s = 10^{−3}, m = 30$ and $\\epsilon = 10^{−5}$. We will use these values as parameter values for our function ```powell_quad()``` and check the result:"
   ]
  },
  {
   "cell_type": "code",
   "execution_count": 31,
   "id": "69584a6b-b049-4e34-86b8-0a7538d9bc2a",
   "metadata": {
    "execution": {
     "iopub.execute_input": "2024-11-03T23:42:54.115015Z",
     "iopub.status.busy": "2024-11-03T23:42:54.114015Z",
     "iopub.status.idle": "2024-11-03T23:42:54.137014Z",
     "shell.execute_reply": "2024-11-03T23:42:54.137014Z",
     "shell.execute_reply.started": "2024-11-03T23:42:54.115015Z"
    }
   },
   "outputs": [
    {
     "name": "stdout",
     "output_type": "stream",
     "text": [
      "x*: 1.000000513307495\n"
     ]
    }
   ],
   "source": [
    "res = powell_quad(0.5, 10**-3, 30, 10**-5)\n",
    "x_star = res[0]\n",
    "f_x_star = res[1]\n",
    "\n",
    "print('x*:', x_star)"
   ]
  },
  {
   "cell_type": "code",
   "execution_count": 32,
   "id": "1355108f-7482-4936-9af8-8b14d16b67bb",
   "metadata": {
    "execution": {
     "iopub.execute_input": "2024-11-03T23:42:54.379018Z",
     "iopub.status.busy": "2024-11-03T23:42:54.379018Z",
     "iopub.status.idle": "2024-11-03T23:42:54.385017Z",
     "shell.execute_reply": "2024-11-03T23:42:54.385017Z",
     "shell.execute_reply.started": "2024-11-03T23:42:54.379018Z"
    }
   },
   "outputs": [
    {
     "name": "stdout",
     "output_type": "stream",
     "text": [
      "f(x*): -0.7499999999989462\n"
     ]
    }
   ],
   "source": [
    "print('f(x*):', f_x_star)"
   ]
  },
  {
   "cell_type": "markdown",
   "id": "1c9ea282-2683-4f4d-a4a0-985c2037cc61",
   "metadata": {},
   "source": [
    "Now let us collect the optimization data and store in a dataframe ```df```:"
   ]
  },
  {
   "cell_type": "code",
   "execution_count": 33,
   "id": "d323b8e7-db10-48d8-923e-db2ef992e662",
   "metadata": {
    "execution": {
     "iopub.execute_input": "2024-11-03T23:42:54.914025Z",
     "iopub.status.busy": "2024-11-03T23:42:54.914025Z",
     "iopub.status.idle": "2024-11-03T23:42:54.935024Z",
     "shell.execute_reply": "2024-11-03T23:42:54.934022Z",
     "shell.execute_reply.started": "2024-11-03T23:42:54.914025Z"
    }
   },
   "outputs": [
    {
     "data": {
      "text/html": [
       "<div>\n",
       "<style scoped>\n",
       "    .dataframe tbody tr th:only-of-type {\n",
       "        vertical-align: middle;\n",
       "    }\n",
       "\n",
       "    .dataframe tbody tr th {\n",
       "        vertical-align: top;\n",
       "    }\n",
       "\n",
       "    .dataframe thead th {\n",
       "        text-align: right;\n",
       "    }\n",
       "</style>\n",
       "<table border=\"1\" class=\"dataframe\">\n",
       "  <thead>\n",
       "    <tr style=\"text-align: right;\">\n",
       "      <th></th>\n",
       "      <th>xt</th>\n",
       "      <th>f(xt)</th>\n",
       "    </tr>\n",
       "  </thead>\n",
       "  <tbody>\n",
       "    <tr>\n",
       "      <th>0</th>\n",
       "      <td>0.502141</td>\n",
       "      <td>-0.190714</td>\n",
       "    </tr>\n",
       "    <tr>\n",
       "      <th>1</th>\n",
       "      <td>0.502603</td>\n",
       "      <td>-0.191408</td>\n",
       "    </tr>\n",
       "    <tr>\n",
       "      <th>2</th>\n",
       "      <td>0.503155</td>\n",
       "      <td>-0.192237</td>\n",
       "    </tr>\n",
       "    <tr>\n",
       "      <th>3</th>\n",
       "      <td>0.503662</td>\n",
       "      <td>-0.192999</td>\n",
       "    </tr>\n",
       "    <tr>\n",
       "      <th>4</th>\n",
       "      <td>0.504191</td>\n",
       "      <td>-0.193796</td>\n",
       "    </tr>\n",
       "    <tr>\n",
       "      <th>...</th>\n",
       "      <td>...</td>\n",
       "      <td>...</td>\n",
       "    </tr>\n",
       "    <tr>\n",
       "      <th>179</th>\n",
       "      <td>0.978394</td>\n",
       "      <td>-0.748173</td>\n",
       "    </tr>\n",
       "    <tr>\n",
       "      <th>180</th>\n",
       "      <td>0.998358</td>\n",
       "      <td>-0.749989</td>\n",
       "    </tr>\n",
       "    <tr>\n",
       "      <th>181</th>\n",
       "      <td>0.999505</td>\n",
       "      <td>-0.749999</td>\n",
       "    </tr>\n",
       "    <tr>\n",
       "      <th>182</th>\n",
       "      <td>1.000036</td>\n",
       "      <td>-0.750000</td>\n",
       "    </tr>\n",
       "    <tr>\n",
       "      <th>183</th>\n",
       "      <td>1.000001</td>\n",
       "      <td>-0.750000</td>\n",
       "    </tr>\n",
       "  </tbody>\n",
       "</table>\n",
       "<p>184 rows × 2 columns</p>\n",
       "</div>"
      ],
      "text/plain": [
       "           xt     f(xt)\n",
       "0    0.502141 -0.190714\n",
       "1    0.502603 -0.191408\n",
       "2    0.503155 -0.192237\n",
       "3    0.503662 -0.192999\n",
       "4    0.504191 -0.193796\n",
       "..        ...       ...\n",
       "179  0.978394 -0.748173\n",
       "180  0.998358 -0.749989\n",
       "181  0.999505 -0.749999\n",
       "182  1.000036 -0.750000\n",
       "183  1.000001 -0.750000\n",
       "\n",
       "[184 rows x 2 columns]"
      ]
     },
     "execution_count": 33,
     "metadata": {},
     "output_type": "execute_result"
    }
   ],
   "source": [
    "XT = np.array(res[2])\n",
    "F = f(XT)\n",
    "\n",
    "data = {'xt': XT, 'f(xt)': F}\n",
    "df = pd.DataFrame(data, columns=['xt', 'f(xt)'])\n",
    "df"
   ]
  },
  {
   "cell_type": "code",
   "execution_count": 34,
   "id": "fa7110d5-43b7-4a0c-b9a1-1007d574b38d",
   "metadata": {
    "execution": {
     "iopub.execute_input": "2024-11-03T23:42:55.172029Z",
     "iopub.status.busy": "2024-11-03T23:42:55.172029Z",
     "iopub.status.idle": "2024-11-03T23:42:55.326104Z",
     "shell.execute_reply": "2024-11-03T23:42:55.325104Z",
     "shell.execute_reply.started": "2024-11-03T23:42:55.172029Z"
    }
   },
   "outputs": [
    {
     "data": {
      "image/png": "[encoded data removed]",
      "text/plain": [
       "<Figure size 640x480 with 1 Axes>"
      ]
     },
     "metadata": {},
     "output_type": "display_data"
    }
   ],
   "source": [
    "plt.plot(np.linspace(-2, 2, 100), f(np.linspace(-2, 2, 100)), 'r-')\n",
    "plt.plot(df['xt'], df['f(xt)'], 'ko-')\n",
    "plt.axvline(x=x_star, color='b', linestyle='--')\n",
    "plt.xlabel('x ->')\n",
    "plt.ylabel('f(x) ->')\n",
    "plt.xlim(-2, 2)\n",
    "plt.ylim(-2, 10)\n",
    "plt.title(\"optimization of $f(x) =  x^4 - 2x^2 + \\\\frac{1}{4}$\")\n",
    "plt.show()"
   ]
  },
  {
   "cell_type": "markdown",
   "id": "9bda1728-6d4b-4e91-a690-da620a36ac50",
   "metadata": {},
   "source": [
    "We notice that the blue dashed line gives the position of $x^∗$ and the green dashed line gives the corresponding $f(x^∗) value."
   ]
  },
  {
   "cell_type": "code",
   "execution_count": 35,
   "id": "116c6b0c-e29b-405d-aaee-163d174f7a9c",
   "metadata": {
    "execution": {
     "iopub.execute_input": "2024-11-03T23:42:56.343937Z",
     "iopub.status.busy": "2024-11-03T23:42:56.343937Z",
     "iopub.status.idle": "2024-11-03T23:42:56.358944Z",
     "shell.execute_reply": "2024-11-03T23:42:56.357943Z",
     "shell.execute_reply.started": "2024-11-03T23:42:56.343937Z"
    }
   },
   "outputs": [
    {
     "name": "stdout",
     "output_type": "stream",
     "text": [
      "x*: -1.0000000470794883\n",
      "f(x*): -0.7499999999999911\n"
     ]
    }
   ],
   "source": [
    "res = powell_quad(-0.5, 10**-3, 10, 10**-5)\n",
    "x_star = res[0]\n",
    "f_x_star = res[1]\n",
    "\n",
    "print('x*:', x_star)\n",
    "print('f(x*):', f_x_star)"
   ]
  },
  {
   "cell_type": "markdown",
   "id": "403090ca-c651-41dd-acf5-039dbe7b9765",
   "metadata": {},
   "source": [
    "Now let us collect the optimization data and store in a dataframe ```df```:"
   ]
  },
  {
   "cell_type": "code",
   "execution_count": 36,
   "id": "f7cf4e3b-e648-4844-a6ff-ebce6fa0608d",
   "metadata": {
    "execution": {
     "iopub.execute_input": "2024-11-03T23:42:59.272843Z",
     "iopub.status.busy": "2024-11-03T23:42:59.271841Z",
     "iopub.status.idle": "2024-11-03T23:42:59.289842Z",
     "shell.execute_reply": "2024-11-03T23:42:59.288842Z",
     "shell.execute_reply.started": "2024-11-03T23:42:59.272843Z"
    }
   },
   "outputs": [
    {
     "data": {
      "text/html": [
       "<div>\n",
       "<style scoped>\n",
       "    .dataframe tbody tr th:only-of-type {\n",
       "        vertical-align: middle;\n",
       "    }\n",
       "\n",
       "    .dataframe tbody tr th {\n",
       "        vertical-align: top;\n",
       "    }\n",
       "\n",
       "    .dataframe thead th {\n",
       "        text-align: right;\n",
       "    }\n",
       "</style>\n",
       "<table border=\"1\" class=\"dataframe\">\n",
       "  <thead>\n",
       "    <tr style=\"text-align: right;\">\n",
       "      <th></th>\n",
       "      <th>xt</th>\n",
       "      <th>f(xt)</th>\n",
       "    </tr>\n",
       "  </thead>\n",
       "  <tbody>\n",
       "    <tr>\n",
       "      <th>0</th>\n",
       "      <td>-0.505470</td>\n",
       "      <td>-0.195720</td>\n",
       "    </tr>\n",
       "    <tr>\n",
       "      <th>1</th>\n",
       "      <td>-0.512455</td>\n",
       "      <td>-0.206255</td>\n",
       "    </tr>\n",
       "    <tr>\n",
       "      <th>2</th>\n",
       "      <td>-0.518493</td>\n",
       "      <td>-0.215398</td>\n",
       "    </tr>\n",
       "    <tr>\n",
       "      <th>3</th>\n",
       "      <td>-0.525065</td>\n",
       "      <td>-0.225380</td>\n",
       "    </tr>\n",
       "    <tr>\n",
       "      <th>4</th>\n",
       "      <td>-0.531428</td>\n",
       "      <td>-0.235073</td>\n",
       "    </tr>\n",
       "    <tr>\n",
       "      <th>5</th>\n",
       "      <td>-0.537951</td>\n",
       "      <td>-0.245035</td>\n",
       "    </tr>\n",
       "    <tr>\n",
       "      <th>6</th>\n",
       "      <td>-0.544445</td>\n",
       "      <td>-0.254976</td>\n",
       "    </tr>\n",
       "    <tr>\n",
       "      <th>7</th>\n",
       "      <td>-0.551003</td>\n",
       "      <td>-0.265034</td>\n",
       "    </tr>\n",
       "    <tr>\n",
       "      <th>8</th>\n",
       "      <td>-0.557576</td>\n",
       "      <td>-0.275129</td>\n",
       "    </tr>\n",
       "    <tr>\n",
       "      <th>9</th>\n",
       "      <td>-0.564184</td>\n",
       "      <td>-0.285290</td>\n",
       "    </tr>\n",
       "    <tr>\n",
       "      <th>10</th>\n",
       "      <td>-0.570814</td>\n",
       "      <td>-0.295493</td>\n",
       "    </tr>\n",
       "    <tr>\n",
       "      <th>11</th>\n",
       "      <td>-0.577469</td>\n",
       "      <td>-0.305738</td>\n",
       "    </tr>\n",
       "    <tr>\n",
       "      <th>12</th>\n",
       "      <td>-0.584144</td>\n",
       "      <td>-0.316014</td>\n",
       "    </tr>\n",
       "    <tr>\n",
       "      <th>13</th>\n",
       "      <td>-0.590837</td>\n",
       "      <td>-0.326315</td>\n",
       "    </tr>\n",
       "    <tr>\n",
       "      <th>14</th>\n",
       "      <td>-0.597546</td>\n",
       "      <td>-0.336630</td>\n",
       "    </tr>\n",
       "    <tr>\n",
       "      <th>15</th>\n",
       "      <td>-3.842942</td>\n",
       "      <td>188.813447</td>\n",
       "    </tr>\n",
       "    <tr>\n",
       "      <th>16</th>\n",
       "      <td>-0.605880</td>\n",
       "      <td>-0.349425</td>\n",
       "    </tr>\n",
       "    <tr>\n",
       "      <th>17</th>\n",
       "      <td>-2.807468</td>\n",
       "      <td>46.610237</td>\n",
       "    </tr>\n",
       "    <tr>\n",
       "      <th>18</th>\n",
       "      <td>-0.621062</td>\n",
       "      <td>-0.372657</td>\n",
       "    </tr>\n",
       "    <tr>\n",
       "      <th>19</th>\n",
       "      <td>-2.066978</td>\n",
       "      <td>9.958576</td>\n",
       "    </tr>\n",
       "    <tr>\n",
       "      <th>20</th>\n",
       "      <td>-0.650343</td>\n",
       "      <td>-0.417008</td>\n",
       "    </tr>\n",
       "    <tr>\n",
       "      <th>21</th>\n",
       "      <td>-1.518358</td>\n",
       "      <td>0.954094</td>\n",
       "    </tr>\n",
       "    <tr>\n",
       "      <th>22</th>\n",
       "      <td>-0.707041</td>\n",
       "      <td>-0.499907</td>\n",
       "    </tr>\n",
       "    <tr>\n",
       "      <th>23</th>\n",
       "      <td>-1.170867</td>\n",
       "      <td>-0.612412</td>\n",
       "    </tr>\n",
       "    <tr>\n",
       "      <th>24</th>\n",
       "      <td>-0.807657</td>\n",
       "      <td>-0.629111</td>\n",
       "    </tr>\n",
       "    <tr>\n",
       "      <th>25</th>\n",
       "      <td>-1.025426</td>\n",
       "      <td>-0.747348</td>\n",
       "    </tr>\n",
       "    <tr>\n",
       "      <th>26</th>\n",
       "      <td>-0.924304</td>\n",
       "      <td>-0.728783</td>\n",
       "    </tr>\n",
       "    <tr>\n",
       "      <th>27</th>\n",
       "      <td>-0.983006</td>\n",
       "      <td>-0.748864</td>\n",
       "    </tr>\n",
       "    <tr>\n",
       "      <th>28</th>\n",
       "      <td>-0.995355</td>\n",
       "      <td>-0.749914</td>\n",
       "    </tr>\n",
       "    <tr>\n",
       "      <th>29</th>\n",
       "      <td>-1.001374</td>\n",
       "      <td>-0.749992</td>\n",
       "    </tr>\n",
       "    <tr>\n",
       "      <th>30</th>\n",
       "      <td>-1.000036</td>\n",
       "      <td>-0.750000</td>\n",
       "    </tr>\n",
       "    <tr>\n",
       "      <th>31</th>\n",
       "      <td>-0.999992</td>\n",
       "      <td>-0.750000</td>\n",
       "    </tr>\n",
       "    <tr>\n",
       "      <th>32</th>\n",
       "      <td>-1.000000</td>\n",
       "      <td>-0.750000</td>\n",
       "    </tr>\n",
       "  </tbody>\n",
       "</table>\n",
       "</div>"
      ],
      "text/plain": [
       "          xt       f(xt)\n",
       "0  -0.505470   -0.195720\n",
       "1  -0.512455   -0.206255\n",
       "2  -0.518493   -0.215398\n",
       "3  -0.525065   -0.225380\n",
       "4  -0.531428   -0.235073\n",
       "5  -0.537951   -0.245035\n",
       "6  -0.544445   -0.254976\n",
       "7  -0.551003   -0.265034\n",
       "8  -0.557576   -0.275129\n",
       "9  -0.564184   -0.285290\n",
       "10 -0.570814   -0.295493\n",
       "11 -0.577469   -0.305738\n",
       "12 -0.584144   -0.316014\n",
       "13 -0.590837   -0.326315\n",
       "14 -0.597546   -0.336630\n",
       "15 -3.842942  188.813447\n",
       "16 -0.605880   -0.349425\n",
       "17 -2.807468   46.610237\n",
       "18 -0.621062   -0.372657\n",
       "19 -2.066978    9.958576\n",
       "20 -0.650343   -0.417008\n",
       "21 -1.518358    0.954094\n",
       "22 -0.707041   -0.499907\n",
       "23 -1.170867   -0.612412\n",
       "24 -0.807657   -0.629111\n",
       "25 -1.025426   -0.747348\n",
       "26 -0.924304   -0.728783\n",
       "27 -0.983006   -0.748864\n",
       "28 -0.995355   -0.749914\n",
       "29 -1.001374   -0.749992\n",
       "30 -1.000036   -0.750000\n",
       "31 -0.999992   -0.750000\n",
       "32 -1.000000   -0.750000"
      ]
     },
     "execution_count": 36,
     "metadata": {},
     "output_type": "execute_result"
    }
   ],
   "source": [
    "XT = np.array(res[2])\n",
    "F = f(XT)\n",
    "\n",
    "data = {'xt': XT, 'f(xt)': F}\n",
    "df = pd.DataFrame(data, columns=['xt', 'f(xt)'])\n",
    "df"
   ]
  },
  {
   "cell_type": "code",
   "execution_count": 37,
   "id": "404a34f0-7859-4d89-b5af-666c8a05b500",
   "metadata": {
    "execution": {
     "iopub.execute_input": "2024-11-03T23:42:59.607357Z",
     "iopub.status.busy": "2024-11-03T23:42:59.607357Z",
     "iopub.status.idle": "2024-11-03T23:42:59.759357Z",
     "shell.execute_reply": "2024-11-03T23:42:59.758356Z",
     "shell.execute_reply.started": "2024-11-03T23:42:59.607357Z"
    }
   },
   "outputs": [
    {
     "data": {
      "image/png": "[encoded data removed]",
      "text/plain": [
       "<Figure size 640x480 with 1 Axes>"
      ]
     },
     "metadata": {},
     "output_type": "display_data"
    }
   ],
   "source": [
    "plt.plot(np.linspace(-2, 2, 100), f(np.linspace(-2, 2, 100)), 'r-')\n",
    "plt.plot(df['xt'], df['f(xt)'], 'ko-')\n",
    "plt.axvline(x=x_star, color='b', linestyle='--')\n",
    "plt.axhline(y=f_x_star, color='g', linestyle='--')\n",
    "plt.xlabel('x ->')\n",
    "plt.ylabel('f(x) ->')\n",
    "plt.xlim(-2, 2)\n",
    "plt.ylim(-2, 10)\n",
    "plt.title(\"optimization of $f(x) =  x^4 - 2x^2 + \\\\frac{1}{4}$\")\n",
    "plt.show()"
   ]
  },
  {
   "cell_type": "markdown",
   "id": "20a6fcfc-dc78-4ea2-a289-cf2eda5eed60",
   "metadata": {},
   "source": [
    "We have $x^∗ \\sim −1$ and $f(x^∗) \\sim −0.75$, i.e, now the $x^∗$ converges to the local minimum on the left side."
   ]
  },
  {
   "cell_type": "markdown",
   "id": "aaa9cc07-c637-4452-a871-30ef8dc00e69",
   "metadata": {},
   "source": [
    "### Inverse Quadratic Interpolation Method\n",
    "\n",
    "The main motivation of using the inverse quadratic interpolation method [refer to An Introduction to Numerical Methods and Analysis by James F. Epperson] is to use the quadratic interpolation method to find the inverse of the objective function $f(x)$. This algorithm forms an integral part of the Brent’s method for optimization, which we will study later in this chapter. In this method, we have three initial points to start with, given by,  \n",
    "$x_0, x_1, x_2 \\in \\mathbb{R}$. Our aim is to find the polynomial $q(f(x))$, such that,\n",
    "\\begin{equation}\n",
    "    q(f(x_j)) = x_j \\tag{3.28}\n",
    "\\end{equation}\n",
    "which identifies,\n",
    "\\begin{equation}\n",
    "    q = f^{-1} \\tag{3.29}\n",
    "\\end{equation}\n",
    "\n",
    "Now, using the divided difference forms we can write,\n",
    "\\begin{align}\n",
    "    q(y) &= f^{-1}(y_0) + (y - y_0)\\frac{f^{-1}(y_1) - f^{-1}(y_0)}{y_1 - y_0}\\\\ \n",
    "    &+ \\frac{(y-y_0)(y-y_1)}{(y_2-y_0)}(\\frac{f^{-1}(y_2) - f^{-1}(y_1)}{y_2 - y_1} - \\frac{f^{-1}(y_1) - f^{-1}(y_0)}{y_1 - y_0})\\\\\n",
    "    &= x_0 + (y-y_0) \\frac{(x-x_0}{(y_1-y_0)}\\\\ &+\\frac{(y-y_0)(y-y_1)}{(y_2-y_0)}(\\frac{(x_2 - x_1)}{(y_2-y_1)} - \\frac{(x_1-x_0)}{(y_1-y_0)}) \\tag{3.30}\n",
    "\\end{align}\n",
    "\n",
    "where,\n",
    "\\begin{equation}\n",
    "    y_j = f(x_j) \\tag{3.31}\n",
    "\\end{equation}\n",
    "\n",
    "Now, the approximate minimizer $x_t$ is the value $q(0) = x_t$, i.e, at $y = 0$. Putting $y = 0$ in Eq.(3.30), we have,\n",
    "\\begin{equation}\n",
    "    x_t = q(0) = x_0 - y_0 \\frac{(x_1 - x_0)}{(y_1 - y_0)} + \\frac{y_0y_1}{(y_2 - y_0)}(\\frac{(x_2 - x_1)}{(y_2 - y_1)} - \\frac{(x_1 - x_0)}{(y_1 - y_0)}) \\tag{3.32}\n",
    "\\end{equation}\n",
    "\n",
    "$x_t$ can be considered as a good approximate of $x^∗$ after satisfactory number of optimizations steps of the algorithm."
   ]
  },
  {
   "cell_type": "markdown",
   "id": "fbb98804-1bd3-4faa-a3b0-61dc661e9ca6",
   "metadata": {},
   "source": [
    "The above alogorithm looks very simple and it will be left as an exercise for the reader to implement this using Python. An objective function $f(x)$  can be selected to test the results using this algorithm. Let\n",
    "\\begin{equation}\n",
    "    f(x) = 2 - e^x \\tag{3.33}\n",
    "\\end{equation}\n",
    " \n",
    "One can take the initial experimental point to be $x = 1$, the step size to be $s =10^{-5}$ and the tolerance to be $\\epsilon = 10^{-8}$. \\end{example}\n",
    "\n",
    "In the next section we discuss two direct root finding methods:\n",
    "\n",
    "* Newton’s method,\n",
    "* Halley’s method,\n",
    "* Secant Method, and\n",
    "* Bisection Method"
   ]
  },
  {
   "cell_type": "markdown",
   "id": "d12e11a8-e4a0-4909-b755-6f97f02c2fe1",
   "metadata": {},
   "source": [
    "### Newton's Method\n",
    "\n",
    "For a given objective function $f(x),x \\in \\mathbb{R}$, the necessary condition for it to contain a minimizer $x^∗$, is that $\\frac{d}{dx}(x^*) = 0$. The aim of these direct root-finding methods is thus to obtain the solution of the equation,\n",
    "\n",
    "\\begin{equation}\n",
    "    \\frac{df}{dx}(x)=0 \\tag{3.34}\n",
    "\\end{equation}\n",
    "\n",
    "At point $x_j$, the Taylor’s expansion of the objective function, up to the second order terms is given by,\n",
    "\\begin{equation}\n",
    "    f(x) = f(x_j) + (x - x_j)\\frac{df}{dx}(x_j) + \\frac{1}{2}(x - x_j)^2\\frac{d^2f}{dx^2}(x_j) \\tag{3.35}\n",
    "\\end{equation}\n",
    "\n",
    "Now,\n",
    "\\begin{equation}\n",
    "    \\frac{df}{dx}(x_j) = 0 \\tag{3.36}\n",
    "\\end{equation}\n",
    " \n",
    "so, Eq.(3.35) reduces to\n",
    "\\begin{equation}\n",
    "    f(x) = f(x_j) + \\frac{1}{2}(x - x_j)^2\\frac{d^2f}{dx^2}(x_j) \\tag{3.37}\n",
    "\\end{equation}\n",
    "\n",
    "\n",
    "Here $\\frac{d^2 f}{dx^2}(x_j)$is a constant. Now, we find the derivative of Eq.(3.37) and set it to $0$ following Eq.(3.34)\n",
    "\n",
    "\\begin{align}\n",
    "\\frac{df}{dx}(x) &= 0 \\\\\n",
    "\\frac{df}{dx}(x_j) + (x - x_j)\\frac{d^2f}{dx^2}(x_j) &= 0 \\tag{3.38}\n",
    "\\end{align}\n",
    "\n",
    "we get,\n",
    "\\begin{equation}\n",
    "    x = x_j - \\frac{\\frac{df}{dx}(x_j)}{\\frac{d^2f}{dx^2}(x_j)} \\tag{3.39}\n",
    "\\end{equation}\n",
    "\n",
    "$x_j$  denotes an approximation to the minimizer $x^∗$ of $f(x). An improved approximation in the form of an iterative process can be given using Eq.(3.39),\n",
    "\\begin{equation}\n",
    "    x_{j+1} = x_j - \\frac{\\frac{df}{dx}(x_j)}{\\frac{d^2f}{dx^2}(x_j)} \\tag{3.40}\n",
    "\\end{equation}\n",
    "\n",
    "The termination condition for convergence after a sufficient number of large iterations to $x^∗$ is given by:\n",
    "\\begin{equation}\n",
    "    |\\frac{df}{dx}(x_{j+1})| \\leq \\epsilon \\tag{3.41}\n",
    "\\end{equation}\n",
    "\n",
    "where, $\\epsilon$ is the tolerance set by the user for the optimization algorithm. In numerical analysis literature, the Newton’s method is also sometimes called the Newton-Raphson method, because it was originally designed by Newton and was later improved by Raphson. The Newton’s method has a fast convergence property called the quadratic convergence."
   ]
  },
  {
   "cell_type": "markdown",
   "id": "070365bb-4720-4420-8750-69a501935bb4",
   "metadata": {},
   "source": [
    "Example 4 Let us consider the objective function, \n",
    "\n",
    "\\begin{equation}\n",
    "    f(x) = x^3 + x^2 - 1 \\tag{3.52}\n",
    "\\end{equation}\n",
    " \n",
    "We will use the Newton’s method to find the root $x^*$ of the objective function, along with the function value $f(x^∗)$ at this point. Let the initial experimental point of the iteration be $x_j = 2.0$ and the tolerance be $\\epsilon = 10^{-6}$. In the algorithm aboave we see that we have to define two functions besides the objective function. They are ```fprime()``` for $\\frac{df}{dx}$, i.e, the first derivative and ```fprime2()``` for $\\frac{d^2f}{dx^2}, i.e, the second derivative. We will use the autograd package we discussed before, to define the derivative functions. Let us start with defining the objective function first:"
   ]
  },
  {
   "cell_type": "code",
   "execution_count": 38,
   "id": "3239ba27-7a76-4760-a1d1-b35ed74a7cf5",
   "metadata": {
    "execution": {
     "iopub.execute_input": "2024-11-03T23:43:07.684844Z",
     "iopub.status.busy": "2024-11-03T23:43:07.683846Z",
     "iopub.status.idle": "2024-11-03T23:43:07.836846Z",
     "shell.execute_reply": "2024-11-03T23:43:07.836846Z",
     "shell.execute_reply.started": "2024-11-03T23:43:07.684844Z"
    }
   },
   "outputs": [
    {
     "data": {
      "image/png": "[encoded data removed]",
      "text/plain": [
       "<Figure size 640x480 with 1 Axes>"
      ]
     },
     "metadata": {},
     "output_type": "display_data"
    }
   ],
   "source": [
    "def f(x): # objective function\n",
    "    return x**3 + x**2 -1\n",
    "\n",
    "l = np.linspace(-2, 2, 100)\n",
    "plt.plot(l, f(l), 'r-')\n",
    "plt.xlabel('x ->')\n",
    "plt.ylabel('f(x) ->')\n",
    "plt.title(\"Graph of $f(x) =  x^3 + x^2 - 1$\")\n",
    "plt.show()"
   ]
  },
  {
   "cell_type": "code",
   "execution_count": 53,
   "id": "6cd2f3e1-2c5b-47d2-b26b-1152a3f10fd4",
   "metadata": {
    "execution": {
     "iopub.execute_input": "2024-11-05T13:31:41.882381Z",
     "iopub.status.busy": "2024-11-05T13:31:41.881381Z",
     "iopub.status.idle": "2024-11-05T13:31:41.891382Z",
     "shell.execute_reply": "2024-11-05T13:31:41.890381Z",
     "shell.execute_reply.started": "2024-11-05T13:31:41.881381Z"
    }
   },
   "outputs": [],
   "source": [
    "import autograd.numpy as np\n",
    "from autograd import grad\n",
    "from scipy import optimize\n",
    "from scipy.optimize import line_search\n",
    "NORM=np.linalg.norm"
   ]
  },
  {
   "cell_type": "code",
   "execution_count": 54,
   "id": "e3281b8b-2b41-4d4f-a938-9a72da6150a2",
   "metadata": {
    "execution": {
     "iopub.execute_input": "2024-11-05T13:31:44.066161Z",
     "iopub.status.busy": "2024-11-05T13:31:44.065162Z",
     "iopub.status.idle": "2024-11-05T13:31:44.081161Z",
     "shell.execute_reply": "2024-11-05T13:31:44.081161Z",
     "shell.execute_reply.started": "2024-11-05T13:31:44.066161Z"
    }
   },
   "outputs": [],
   "source": [
    "fprime = grad(f) # first derivative of f(x)\n",
    "fprime2 = grad(fprime) # second derivative of f(x)"
   ]
  },
  {
   "cell_type": "code",
   "execution_count": 55,
   "id": "03de9e8f-9205-4be5-9f36-819663cb7f30",
   "metadata": {
    "execution": {
     "iopub.execute_input": "2024-11-05T13:31:44.350162Z",
     "iopub.status.busy": "2024-11-05T13:31:44.350162Z",
     "iopub.status.idle": "2024-11-05T13:31:44.365161Z",
     "shell.execute_reply": "2024-11-05T13:31:44.365161Z",
     "shell.execute_reply.started": "2024-11-05T13:31:44.350162Z"
    }
   },
   "outputs": [
    {
     "name": "stdout",
     "output_type": "stream",
     "text": [
      "-1.0\n",
      "10.061668156377685\n"
     ]
    }
   ],
   "source": [
    "print(fprime(0.)) # first derivative of f(x) at point x=0\n",
    "print(fprime2(0.75)) # second derivative of f(x) at point 0.75"
   ]
  },
  {
   "cell_type": "markdown",
   "id": "0ea3b245-b3ca-46f8-856d-5f9e4aee67e5",
   "metadata": {},
   "source": [
    "We see the root is approximately $0.75$, the convergence was successful and there have been $6$ iterations in the optimization process and the function has been evaluated $6$ times too."
   ]
  },
  {
   "cell_type": "code",
   "execution_count": 56,
   "id": "2b03ba33-0fc7-4907-9405-1bfd3794140f",
   "metadata": {
    "execution": {
     "iopub.execute_input": "2024-11-05T13:31:44.803831Z",
     "iopub.status.busy": "2024-11-05T13:31:44.803831Z",
     "iopub.status.idle": "2024-11-05T13:31:44.873822Z",
     "shell.execute_reply": "2024-11-05T13:31:44.872860Z",
     "shell.execute_reply.started": "2024-11-05T13:31:44.803831Z"
    }
   },
   "outputs": [
    {
     "name": "stdout",
     "output_type": "stream",
     "text": [
      "      converged: False\n",
      "           flag: convergence error\n",
      " function_calls: 50\n",
      "     iterations: 50\n",
      "           root: 14.992729931420353\n",
      "         method: newton\n"
     ]
    }
   ],
   "source": [
    "\n",
    "def FP(x): # Returns the objective function, its first and second derivative at the point x\n",
    "    return f(x), fprime(x), fprime2(x)\n",
    "#def callback(x, f):\n",
    "#    print(f\"Iteration: x = {x}, f(x) = {f}\")\n",
    "sol = optimize.root_scalar(FP, x0=2., fprime=True, fprime2=True, xtol=10**-6, method='newton', options={'disp': True}) # The solver code, using the method = 'newton'\n",
    "print(sol) # Prints the results"
   ]
  },
  {
   "cell_type": "code",
   "execution_count": 57,
   "id": "5012d170-9dbe-4067-ac74-c8c165736a56",
   "metadata": {
    "execution": {
     "iopub.execute_input": "2024-11-05T13:31:45.033819Z",
     "iopub.status.busy": "2024-11-05T13:31:45.033819Z",
     "iopub.status.idle": "2024-11-05T13:31:45.040819Z",
     "shell.execute_reply": "2024-11-05T13:31:45.040819Z",
     "shell.execute_reply.started": "2024-11-05T13:31:45.033819Z"
    }
   },
   "outputs": [
    {
     "data": {
      "text/plain": [
       "50"
      ]
     },
     "execution_count": 57,
     "metadata": {},
     "output_type": "execute_result"
    }
   ],
   "source": [
    "sol.iterations"
   ]
  },
  {
   "cell_type": "markdown",
   "id": "922e7912-0543-42c0-8a2f-6517fbe76130",
   "metadata": {},
   "source": [
    "The optimization steps can be plotted too. The graph with all the function evaluations along with the minimizer $f(x^∗)$ at $x^∗$  has been denoted as a blue dotted line in the below figure which can be generated using the following Python code:"
   ]
  },
  {
   "cell_type": "code",
   "execution_count": 58,
   "id": "f4be3263-92a4-435c-b9a8-eb0152343008",
   "metadata": {
    "execution": {
     "iopub.execute_input": "2024-11-05T13:31:45.425545Z",
     "iopub.status.busy": "2024-11-05T13:31:45.425545Z",
     "iopub.status.idle": "2024-11-05T13:31:45.581065Z",
     "shell.execute_reply": "2024-11-05T13:31:45.581065Z",
     "shell.execute_reply.started": "2024-11-05T13:31:45.425545Z"
    }
   },
   "outputs": [
    {
     "data": {
      "text/plain": [
       "Text(0.5, 1.0, 'optimization of $f(x) = x^3 + x^2 - 1$')"
      ]
     },
     "execution_count": 58,
     "metadata": {},
     "output_type": "execute_result"
    },
    {
     "data": {
      "image/png": "[encoded data removed]",
      "text/plain": [
       "<Figure size 640x480 with 1 Axes>"
      ]
     },
     "metadata": {},
     "output_type": "display_data"
    }
   ],
   "source": [
    "plt.plot(np.linspace(-2, 2, 100), f(np.linspace(-2, 2, 100)), 'r-')\n",
    "#plt.plot(df['x'], df['f(x)'], 'ko-')\n",
    "plt.axvline(x=sol.root, color='b', linestyle='--')\n",
    "plt.axhline(y=f(sol.root), color='g', linestyle='--')\n",
    "plt.xlabel('x ->')\n",
    "plt.ylabel('f(x) ->')\n",
    "plt.title(\"optimization of $f(x) = x^3 + x^2 - 1$\")"
   ]
  },
  {
   "cell_type": "markdown",
   "id": "7d76420e-ed42-4294-a836-0a12ddabe712",
   "metadata": {},
   "source": [
    "### Halley’s Method\n",
    "\n",
    "For the objective function $f(x), x \\in \\mathbb{R}$, the necessary condition that the minimizer   $x^*$ exists is that $\\frac{df}{dx}(x^*) = 0$. At point $x_j$, the Taylor’s expansion of the objective function upto the second order term is given by Eq. (3.35). A root of $f(x)$ satisfies $f(x) = 0$, so , we will have,\n",
    "\\begin{align}\n",
    "    0 &= f(x_j) + (x - x_j)\\frac{df}{dx}(x_j) + \\frac{1}{2}(x - x_j)^2\\frac{s^2f}{dx^2}(x_j) \\nonumber \\\\\n",
    "    &= f(x_j) + (x - x_j)[\\frac{df}{dx}(x_j) +\\frac{1}{2} (x - x_j)\\frac{d^2f}{dx^2}(x_j)] \\tag{3.53}\n",
    "\\end{align}\n",
    "\n",
    "This gives,\n",
    "\\begin{equation}\n",
    "    x - x_j = -\\frac{f(x_j)}{\\frac{df}{dx}(x_j) + \\frac{1}{2}(x - x_j)\\frac{d^2f}{dx^2}(x_j)} \\tag{3.54}\n",
    "\\end{equation}\n",
    "\n",
    "Now, using the fact from Newton’s iteration that,\n",
    "\\begin{equation}\n",
    "    x - x_j = -\\frac{f(x_j)}{\\frac{df}{dx}(x_j)} \\nonumber\n",
    "\\end{equation}\n",
    "\n",
    "we can re-write Eq. (3.54) as,\n",
    "\n",
    "\\begin{align}\n",
    "    x &= x_j - \\frac{f(x_j)}{\\frac{df}{dx}(x_j) - \\frac{1}{2}\\frac{f(x_j) \\frac{d^2f}{dx^2}(x_j)}{\\frac{df}{dx}(x_j)}} \\nonumber \\\\\n",
    "    &= x_j - \\frac{2f(x_j)\\frac{df}{dx}(x_j)}{2[\\frac{df}{dx}(x_j)]^2 - f(x_j)\\frac{d^2f}{dx^2}(x_j)} \\tag{3.55}\n",
    "\\end{align}\n",
    "\n",
    "The iterative method [ref, wolfram mathworld, Halley’s method] can be thus written as\n",
    "\\begin{equation}\n",
    "    x_{j+1} = x_j - \\frac{2f(x_j)\\frac{df}{dx}(x_j)}{2[\\frac{df}{dx}(x_j)]^2 - f(x_j)\\frac{d^2f}{dx^2}(x_j)} \\tag{3.56}\n",
    "\\end{equation}\n",
    "\n",
    "The termination condition for convergence after a sufficient number of large iterations to $x^∗$ is given by:\n",
    "\n",
    "\\begin{equation}\n",
    "    |\\frac{df}{dx}(x_{j+1})| \\leq \\epsilon \\tag{3.57}\n",
    "\\end{equation}\n",
    "\n",
    "where, $\\epsilon$ is the tolerance set by the user for the optimization algorithm. The <i>Halley’s</i> method has a fast convergence property called the <i>cubic convergence</i>.\n"
   ]
  },
  {
   "cell_type": "markdown",
   "id": "f628bc0c-1ac1-4b3e-881a-2048ee8336ee",
   "metadata": {},
   "source": [
    "#### Example 5 \n",
    "Let us consider the objective function,\n",
    "\\begin{equation}\n",
    "    f(x) = x^3 -6x^2+11x-6 \\tag{3.66}\n",
    "\\end{equation}\n",
    " \n",
    "We will use the Halley’s method to find the root $x^∗$ of the objective function, along with the function value $f(x^∗)$ at this point. Let the initial experimental point of the iteration be $x_0 = 3.7$ and the tolerance be $\\epsilon = 10^{-6}$. We define the objective function, and its derivatives in the similar way in Python as we did for the Newton’s method"
   ]
  },
  {
   "cell_type": "code",
   "execution_count": 59,
   "id": "a959e909-6108-4b83-8f8f-f12fa6062dd4",
   "metadata": {
    "execution": {
     "iopub.execute_input": "2024-11-05T13:31:46.929066Z",
     "iopub.status.busy": "2024-11-05T13:31:46.928066Z",
     "iopub.status.idle": "2024-11-05T13:31:46.945103Z",
     "shell.execute_reply": "2024-11-05T13:31:46.945103Z",
     "shell.execute_reply.started": "2024-11-05T13:31:46.929066Z"
    }
   },
   "outputs": [],
   "source": [
    "def f(x): # Objective function\n",
    "    return x**3 - 6*x**2 + 11*x - 6\n",
    "\n",
    "fprime = grad(f) # First derivative of the objective function\n",
    "fprime2 = grad(fprime) # Second derivative of the objective function "
   ]
  },
  {
   "cell_type": "code",
   "execution_count": 60,
   "id": "fd24cf56-40d4-424f-bbf8-b3cdbf59a42c",
   "metadata": {
    "execution": {
     "iopub.execute_input": "2024-11-05T13:31:47.238777Z",
     "iopub.status.busy": "2024-11-05T13:31:47.238777Z",
     "iopub.status.idle": "2024-11-05T13:31:47.252779Z",
     "shell.execute_reply": "2024-11-05T13:31:47.252779Z",
     "shell.execute_reply.started": "2024-11-05T13:31:47.238777Z"
    }
   },
   "outputs": [
    {
     "name": "stdout",
     "output_type": "stream",
     "text": [
      "      converged: True\n",
      "           flag: converged\n",
      " function_calls: 4\n",
      "     iterations: 4\n",
      "           root: 2.9999999999999996\n",
      "         method: halley\n"
     ]
    }
   ],
   "source": [
    "def FP(x): # Returns the objective function and its derivatives\n",
    "    return f(x), fprime(x), fprime2(x)\n",
    "\n",
    "sol = optimize.root_scalar(FP, x0=3.7, fprime=True, fprime2=True, xtol=10**-6, method='halley', options={'disp': True})\n",
    "print(sol)"
   ]
  },
  {
   "cell_type": "code",
   "execution_count": null,
   "id": "23842c13-4d89-43b0-945a-ac1f4122e672",
   "metadata": {},
   "outputs": [],
   "source": []
  },
  {
   "cell_type": "code",
   "execution_count": 61,
   "id": "37f80f08-2d15-48e5-8b95-da6ff300c58b",
   "metadata": {
    "execution": {
     "iopub.execute_input": "2024-11-05T13:31:48.181596Z",
     "iopub.status.busy": "2024-11-05T13:31:48.181596Z",
     "iopub.status.idle": "2024-11-05T13:31:48.204598Z",
     "shell.execute_reply": "2024-11-05T13:31:48.203597Z",
     "shell.execute_reply.started": "2024-11-05T13:31:48.181596Z"
    }
   },
   "outputs": [
    {
     "data": {
      "text/html": [
       "<div>\n",
       "<style scoped>\n",
       "    .dataframe tbody tr th:only-of-type {\n",
       "        vertical-align: middle;\n",
       "    }\n",
       "\n",
       "    .dataframe tbody tr th {\n",
       "        vertical-align: top;\n",
       "    }\n",
       "\n",
       "    .dataframe thead th {\n",
       "        text-align: right;\n",
       "    }\n",
       "</style>\n",
       "<table border=\"1\" class=\"dataframe\">\n",
       "  <thead>\n",
       "    <tr style=\"text-align: right;\">\n",
       "      <th></th>\n",
       "      <th>x</th>\n",
       "      <th>f</th>\n",
       "    </tr>\n",
       "  </thead>\n",
       "  <tbody>\n",
       "    <tr>\n",
       "      <th>0</th>\n",
       "      <td>3.70000</td>\n",
       "      <td>3.213000</td>\n",
       "    </tr>\n",
       "    <tr>\n",
       "      <th>1</th>\n",
       "      <td>3.11936</td>\n",
       "      <td>0.283161</td>\n",
       "    </tr>\n",
       "    <tr>\n",
       "      <th>2</th>\n",
       "      <td>3.00207</td>\n",
       "      <td>0.004153</td>\n",
       "    </tr>\n",
       "    <tr>\n",
       "      <th>3</th>\n",
       "      <td>3.00000</td>\n",
       "      <td>0.000000</td>\n",
       "    </tr>\n",
       "  </tbody>\n",
       "</table>\n",
       "</div>"
      ],
      "text/plain": [
       "         x         f\n",
       "0  3.70000  3.213000\n",
       "1  3.11936  0.283161\n",
       "2  3.00207  0.004153\n",
       "3  3.00000  0.000000"
      ]
     },
     "execution_count": 61,
     "metadata": {},
     "output_type": "execute_result"
    }
   ],
   "source": [
    "#my_list =[-4,1.33333,1.23256,1.14205,-1.42897,-2.71449,-3.35724,-2.95064,-3.00219,-2.99994,-3,-3]\n",
    "#my_list6 = [-1.5,1,-0.0134601,-0.000165079,-7.41E-07,-4.97E-13]\n",
    "my_list5 =[3.7,3.11936,3.00207,3]\n",
    "df = pd.DataFrame(my_list5, columns=['x'])\n",
    "df['f'] = f(df['x'])\n",
    "df"
   ]
  },
  {
   "cell_type": "code",
   "execution_count": 62,
   "id": "85b9cf47-64d0-4b17-9026-16ab3f711cb9",
   "metadata": {
    "execution": {
     "iopub.execute_input": "2024-11-05T13:31:48.556099Z",
     "iopub.status.busy": "2024-11-05T13:31:48.556099Z",
     "iopub.status.idle": "2024-11-05T13:31:48.742093Z",
     "shell.execute_reply": "2024-11-05T13:31:48.741095Z",
     "shell.execute_reply.started": "2024-11-05T13:31:48.556099Z"
    }
   },
   "outputs": [
    {
     "data": {
      "text/plain": [
       "Text(0.5, 1.0, 'Halley -- optimization of $f(x) = x^3 + x^2 - 1$')"
      ]
     },
     "execution_count": 62,
     "metadata": {},
     "output_type": "execute_result"
    },
    {
     "data": {
      "image/png": "[encoded data removed]",
      "text/plain": [
       "<Figure size 640x480 with 1 Axes>"
      ]
     },
     "metadata": {},
     "output_type": "display_data"
    }
   ],
   "source": [
    "plt.plot(np.linspace(2, 5, 100), f(np.linspace(2, 5, 100)), 'r-')\n",
    "plt.plot(df['x'], df['f'], 'ko-')\n",
    "plt.axvline(x=sol.root, color='b', linestyle='--')\n",
    "plt.axhline(y=f(sol.root), color='g', linestyle='--')\n",
    "plt.xlabel('x ->')\n",
    "plt.ylabel('f(x) ->')\n",
    "plt.title(\"Halley -- optimization of $f(x) = x^3 + x^2 - 1$\")"
   ]
  },
  {
   "cell_type": "markdown",
   "id": "0af57093-97f8-43ff-bc43-214a54a64df2",
   "metadata": {},
   "source": [
    "### Secant Method\n",
    "\n",
    "The formulation of the secant method looks similar to that of (3.38).\n",
    "\n",
    "\\begin{equation}\n",
    "\\frac{df}{dx}(x_j) + s\\frac{d^2f}{dx^2}(x_j) = 0 \\tag{3.67}\n",
    "\\end{equation}\n",
    "\n",
    " \n",
    "\n",
    "Where,$s$ is the slope of the line connecting the points $(a, \\frac{df}{dx}(b))$ and $(b, \\frac{df}{dx}(b))$ on the $x − \\frac{df}{dx} plane.  \n",
    "$a$ and $b$ are two different approximations to the root of the objective function. We know the equation for the slope,\n",
    "\\begin{align}\n",
    "s = \\frac{\\frac{df}{dx}(b) - \\frac{df}{dx}(a)}{b - a} \\tag{3.68}\n",
    "\\end{align}\n",
    "\n",
    "So, (3.67) can be written as:\n",
    "\\begin{eqnarray}\n",
    "    x &-& x_j = -\\frac{\\frac{df}{dx}(x_j)}{s} \\nonumber \\\\\n",
    "    x &=& x_j - \\frac{\\frac{df}{dx}(a)(b - a)}{\\frac{df}{dx}(b) - \\frac{df}{dx}(a)} = a - \\frac{\\frac{df}{dx}(a)(a - b)}{\\frac{df}{dx}(a) - \\frac{df}{dx}(b)} \\tag{3.69}\n",
    "\\end{eqnarray}\n",
    "\n",
    "\n",
    "The iterative process, known as the secant method is thus given by,\n",
    "\\begin{equation}\n",
    "    x_{j+1} = x_j - \\frac{\\frac{df}{dx}(x_j)(x_j - x_{j-1})}{\\frac{df}{dx}(x_j) - \\frac{df}{dx}(x_{j+1})} \\tag{3.70}\n",
    "\\end{equation}\n",
    "\n",
    "The secant of a curve is a line that intersects the curve at minimum of two distinct points. As $b \\longrightarrow a$, the secant approaches $\\frac{d^2 f}{dx^2}(a)$. Due to this reason, the secant method is also called the quasi-Newton method. The root $x^*$ lies between the points $a$ and $b$ if the following condition is satisfied:\n",
    "\n",
    "\\begin{equation}\n",
    "    \\frac{df}{dx}(a)\\frac{df}{dx}(b) < 0 \\tag{3.71}\n",
    "\\end{equation}\n",
    "\n",
    "As we have seen, the iteration process demands two initial points to start with, i.e, $a$ and $b$. The iterates $x_j$ converges to the root of the objective function when $a$ and $b$ are close to the root. The order of convergence for the process is given by the number $\\phi = \\frac{\\sqrt{5}+1}{2} \\approx 1.618$, which is the golden ratio, i.e, the secant method has a superlinear convergence, unlike a quadratic or a cubic convergence."
   ]
  },
  {
   "cell_type": "markdown",
   "id": "672a37f7-6b7d-49b5-a700-4884561bc8a3",
   "metadata": {},
   "source": [
    "### Example 6\n",
    "Let us consider an objective function given by, \n",
    "\\begin{equation}\n",
    "    f(x) = x\\cos(x^2 - 7x) - 2x \\tag{3.72}\n",
    "\\end{equation}\n",
    " \n",
    "We will find the root of this objective function, given the two starting points are $a = -1.5$ and $b = 1$ and the tolerance $\\epsilon = 10^{-7}$.\n",
    "The plot for this objective function can be generated in the following way:"
   ]
  },
  {
   "cell_type": "code",
   "execution_count": 63,
   "id": "ecd8b497-71be-4019-829b-b2f98b347fa0",
   "metadata": {
    "execution": {
     "iopub.execute_input": "2024-11-05T13:31:55.972306Z",
     "iopub.status.busy": "2024-11-05T13:31:55.972306Z",
     "iopub.status.idle": "2024-11-05T13:31:55.986307Z",
     "shell.execute_reply": "2024-11-05T13:31:55.985306Z",
     "shell.execute_reply.started": "2024-11-05T13:31:55.972306Z"
    }
   },
   "outputs": [],
   "source": [
    "def f(x): return x*np.cos(x**2-7*x)-2*x\n"
   ]
  },
  {
   "cell_type": "code",
   "execution_count": 64,
   "id": "9c9398c0-457c-4389-8af4-fd35d0300a77",
   "metadata": {
    "execution": {
     "iopub.execute_input": "2024-11-05T13:31:56.364308Z",
     "iopub.status.busy": "2024-11-05T13:31:56.363307Z",
     "iopub.status.idle": "2024-11-05T13:31:56.489305Z",
     "shell.execute_reply": "2024-11-05T13:31:56.488305Z",
     "shell.execute_reply.started": "2024-11-05T13:31:56.364308Z"
    }
   },
   "outputs": [
    {
     "data": {
      "image/png": "[encoded data removed]",
      "text/plain": [
       "<Figure size 640x480 with 1 Axes>"
      ]
     },
     "metadata": {},
     "output_type": "display_data"
    }
   ],
   "source": [
    "l = np.linspace(-3, 3., 1000)\n",
    "plt.plot(l, f(l), 'r-')\n",
    "plt.xlabel('x->')\n",
    "plt.ylabel('f(x)->')\n",
    "plt.show()"
   ]
  },
  {
   "cell_type": "markdown",
   "id": "fa1340ba-28ac-44b7-b2b9-2bdd198f81d8",
   "metadata": {},
   "source": [
    "The corresponding $x − \\frac{df}{dx}(x)$ plot is given below:"
   ]
  },
  {
   "cell_type": "code",
   "execution_count": 65,
   "id": "1520a00b-dbbb-48d7-bf52-110acd99a610",
   "metadata": {
    "execution": {
     "iopub.execute_input": "2024-11-05T13:31:57.218308Z",
     "iopub.status.busy": "2024-11-05T13:31:57.218308Z",
     "iopub.status.idle": "2024-11-05T13:31:57.562306Z",
     "shell.execute_reply": "2024-11-05T13:31:57.561305Z",
     "shell.execute_reply.started": "2024-11-05T13:31:57.218308Z"
    }
   },
   "outputs": [
    {
     "data": {
      "image/png": "[encoded data removed]",
      "text/plain": [
       "<Figure size 640x480 with 1 Axes>"
      ]
     },
     "metadata": {},
     "output_type": "display_data"
    }
   ],
   "source": [
    "def f(x): return x*np.cos(x**2-7*x)-2*x\n",
    "l = np.linspace(-3, 3., 1000)\n",
    "G = grad(f)\n",
    "h=[]\n",
    "for i in l:\n",
    "    h+=[G(i),]\n",
    "h = np.array(h)\n",
    "plt.plot(l, h, 'b-')\n",
    "plt.xlabel('x->')\n",
    "plt.ylabel('$\\\\frac{df}{dx}(x)$->')\n",
    "plt.show()"
   ]
  },
  {
   "cell_type": "markdown",
   "id": "5c65626a-d302-41ab-92b5-04f6511cc5c2",
   "metadata": {},
   "source": [
    "The objective function and its first derivative can be defined in Python:"
   ]
  },
  {
   "cell_type": "code",
   "execution_count": 66,
   "id": "bc30de22-11fc-40e4-907a-b1b18d3f07b7",
   "metadata": {
    "execution": {
     "iopub.execute_input": "2024-11-05T13:31:58.612420Z",
     "iopub.status.busy": "2024-11-05T13:31:58.611420Z",
     "iopub.status.idle": "2024-11-05T13:31:58.626420Z",
     "shell.execute_reply": "2024-11-05T13:31:58.626420Z",
     "shell.execute_reply.started": "2024-11-05T13:31:58.612420Z"
    }
   },
   "outputs": [],
   "source": [
    "def f(x): # Objective function\n",
    "    return x*np.cos(x**2 - 7*x) - 2*x\n",
    "    \n",
    "fprime = grad(f) # First derivative of the objective function"
   ]
  },
  {
   "cell_type": "markdown",
   "id": "4a923c00-5995-42f3-a8c1-d75f7303c4bc",
   "metadata": {},
   "source": [
    "Now, the function that returns both the objective function and its first derivative at a particular point can be defined as:"
   ]
  },
  {
   "cell_type": "code",
   "execution_count": 67,
   "id": "9a16642c-5946-4136-bb52-be2e52e26877",
   "metadata": {
    "execution": {
     "iopub.execute_input": "2024-11-05T13:31:59.453603Z",
     "iopub.status.busy": "2024-11-05T13:31:59.452603Z",
     "iopub.status.idle": "2024-11-05T13:31:59.463603Z",
     "shell.execute_reply": "2024-11-05T13:31:59.463603Z",
     "shell.execute_reply.started": "2024-11-05T13:31:59.452603Z"
    }
   },
   "outputs": [],
   "source": [
    "def FP(x):\n",
    "    return f(x), fprime(x)"
   ]
  },
  {
   "cell_type": "markdown",
   "id": "e534fef5-c43d-4101-8563-263d909f2fc9",
   "metadata": {},
   "source": [
    "We now write the solver code with the root_scalar() function where the parameters are set to be method='secant', $x_0=-1.5, x_1=1., xtol=10^{-7}$ and so on."
   ]
  },
  {
   "cell_type": "code",
   "execution_count": 69,
   "id": "f3a226ac-fd18-44e3-a8a4-b5e8433a7f6f",
   "metadata": {
    "execution": {
     "iopub.execute_input": "2024-11-05T13:32:12.521570Z",
     "iopub.status.busy": "2024-11-05T13:32:12.521570Z",
     "iopub.status.idle": "2024-11-05T13:32:12.539570Z",
     "shell.execute_reply": "2024-11-05T13:32:12.539233Z",
     "shell.execute_reply.started": "2024-11-05T13:32:12.521570Z"
    }
   },
   "outputs": [
    {
     "name": "stdout",
     "output_type": "stream",
     "text": [
      "      converged: True\n",
      "           flag: converged\n",
      " function_calls: 6\n",
      "     iterations: 5\n",
      "           root: -6.677327076928414e-24\n",
      "         method: secant\n"
     ]
    }
   ],
   "source": [
    "sol = optimize.root_scalar(FP, x0=-1.5, x1=1., fprime=True, xtol=10**-7, method='secant', options={'disp': True})\n",
    "print(sol) # Print the solution results"
   ]
  },
  {
   "cell_type": "code",
   "execution_count": null,
   "id": "c2cfd97f-ec52-44fd-bb5f-ba251cbffa44",
   "metadata": {},
   "outputs": [],
   "source": []
  },
  {
   "cell_type": "code",
   "execution_count": 70,
   "id": "7800bb64-fae8-4bf3-b9eb-8e5826bbc12f",
   "metadata": {
    "execution": {
     "iopub.execute_input": "2024-11-05T13:32:15.021810Z",
     "iopub.status.busy": "2024-11-05T13:32:15.020811Z",
     "iopub.status.idle": "2024-11-05T13:32:15.034810Z",
     "shell.execute_reply": "2024-11-05T13:32:15.034810Z",
     "shell.execute_reply.started": "2024-11-05T13:32:15.020811Z"
    }
   },
   "outputs": [
    {
     "data": {
      "text/html": [
       "<div>\n",
       "<style scoped>\n",
       "    .dataframe tbody tr th:only-of-type {\n",
       "        vertical-align: middle;\n",
       "    }\n",
       "\n",
       "    .dataframe tbody tr th {\n",
       "        vertical-align: top;\n",
       "    }\n",
       "\n",
       "    .dataframe thead th {\n",
       "        text-align: right;\n",
       "    }\n",
       "</style>\n",
       "<table border=\"1\" class=\"dataframe\">\n",
       "  <thead>\n",
       "    <tr style=\"text-align: right;\">\n",
       "      <th></th>\n",
       "      <th>x</th>\n",
       "      <th>f</th>\n",
       "    </tr>\n",
       "  </thead>\n",
       "  <tbody>\n",
       "    <tr>\n",
       "      <th>0</th>\n",
       "      <td>-1.500000e+00</td>\n",
       "      <td>1.525219e+00</td>\n",
       "    </tr>\n",
       "    <tr>\n",
       "      <th>1</th>\n",
       "      <td>1.000000e+00</td>\n",
       "      <td>-1.039830e+00</td>\n",
       "    </tr>\n",
       "    <tr>\n",
       "      <th>2</th>\n",
       "      <td>-1.346010e-02</td>\n",
       "      <td>1.352003e-02</td>\n",
       "    </tr>\n",
       "    <tr>\n",
       "      <th>3</th>\n",
       "      <td>-1.650790e-04</td>\n",
       "      <td>1.650791e-04</td>\n",
       "    </tr>\n",
       "    <tr>\n",
       "      <th>4</th>\n",
       "      <td>-7.410000e-07</td>\n",
       "      <td>7.410000e-07</td>\n",
       "    </tr>\n",
       "    <tr>\n",
       "      <th>5</th>\n",
       "      <td>-4.970000e-13</td>\n",
       "      <td>4.970000e-13</td>\n",
       "    </tr>\n",
       "  </tbody>\n",
       "</table>\n",
       "</div>"
      ],
      "text/plain": [
       "              x             f\n",
       "0 -1.500000e+00  1.525219e+00\n",
       "1  1.000000e+00 -1.039830e+00\n",
       "2 -1.346010e-02  1.352003e-02\n",
       "3 -1.650790e-04  1.650791e-04\n",
       "4 -7.410000e-07  7.410000e-07\n",
       "5 -4.970000e-13  4.970000e-13"
      ]
     },
     "execution_count": 70,
     "metadata": {},
     "output_type": "execute_result"
    }
   ],
   "source": [
    "#my_list =[-4,1.33333,1.23256,1.14205,-1.42897,-2.71449,-3.35724,-2.95064,-3.00219,-2.99994,-3,-3]\n",
    "my_list6 = [-1.5,1,-0.0134601,-0.000165079,-7.41E-07,-4.97E-13]\n",
    "df = pd.DataFrame(my_list6, columns=['x'])\n",
    "df['f'] = f(df['x'])\n",
    "df"
   ]
  },
  {
   "cell_type": "code",
   "execution_count": null,
   "id": "6b74ef22-ddf5-4ab6-a82e-032b5f7310e3",
   "metadata": {},
   "outputs": [],
   "source": []
  },
  {
   "cell_type": "code",
   "execution_count": 71,
   "id": "dee26a5e-0441-47c2-a2b6-8b1ee2557bd1",
   "metadata": {
    "execution": {
     "iopub.execute_input": "2024-11-05T13:35:20.260562Z",
     "iopub.status.busy": "2024-11-05T13:35:20.259563Z",
     "iopub.status.idle": "2024-11-05T13:35:20.447807Z",
     "shell.execute_reply": "2024-11-05T13:35:20.446806Z",
     "shell.execute_reply.started": "2024-11-05T13:35:20.260562Z"
    }
   },
   "outputs": [
    {
     "data": {
      "text/plain": [
       "Text(0.5, 1.0, 'optimization of $f(x) = x\\\\cos(x^2 - 7x) - 2x$')"
      ]
     },
     "execution_count": 71,
     "metadata": {},
     "output_type": "execute_result"
    },
    {
     "data": {
      "image/png": "[encoded data removed]",
      "text/plain": [
       "<Figure size 640x480 with 1 Axes>"
      ]
     },
     "metadata": {},
     "output_type": "display_data"
    }
   ],
   "source": [
    "plt.plot(np.linspace(-3, 3, 100), f(np.linspace(-3, 3, 100)), 'r-')\n",
    "plt.plot(df['x'], df['f'], 'ko-')\n",
    "plt.axvline(x=sol.root, color='b', linestyle='--')\n",
    "plt.axhline(y=f(sol.root), color='g', linestyle='--')\n",
    "plt.xlabel('x ->')\n",
    "plt.ylabel('f(x) ->')\n",
    "plt.title(\"optimization of $f(x) = x\\cos(x^2 - 7x) - 2x$\")"
   ]
  },
  {
   "cell_type": "markdown",
   "id": "7a49d24e-283b-439d-bc92-78962ed6a400",
   "metadata": {},
   "source": [
    "The corresponding $x − \\frac{df}{dx}(x)$ plot is given below:"
   ]
  },
  {
   "cell_type": "code",
   "execution_count": 72,
   "id": "c0f5ec1e-a987-4240-bfca-b78ff447b1f1",
   "metadata": {
    "execution": {
     "iopub.execute_input": "2024-11-05T13:35:56.150611Z",
     "iopub.status.busy": "2024-11-05T13:35:56.149613Z",
     "iopub.status.idle": "2024-11-05T13:35:56.578612Z",
     "shell.execute_reply": "2024-11-05T13:35:56.578612Z",
     "shell.execute_reply.started": "2024-11-05T13:35:56.150611Z"
    }
   },
   "outputs": [
    {
     "data": {
      "text/plain": [
       "Text(0.5, 1.0, 'Visualizing the root and the $\\\\frac{df}{dx}(x)$ value')"
      ]
     },
     "execution_count": 72,
     "metadata": {},
     "output_type": "execute_result"
    },
    {
     "data": {
      "image/png": "[encoded data removed]",
      "text/plain": [
       "<Figure size 640x480 with 1 Axes>"
      ]
     },
     "metadata": {},
     "output_type": "display_data"
    }
   ],
   "source": [
    "l = np.linspace(-3, 3., 1000)\n",
    "G = grad(f)\n",
    "h=[]\n",
    "for i in l:\n",
    "    h+=[G(i),]\n",
    "h = np.array(h)\n",
    "plt.plot(l, h, 'b-')\n",
    "#plt.plot(df['x'], df[\"f'(x)\"], 'ko-')\n",
    "plt.axvline(x=sol.root, color='b', linestyle='--')\n",
    "plt.axhline(y=G(f(sol.root)), color='g', linestyle='--')\n",
    "plt.xlabel('x ->')\n",
    "plt.ylabel('$\\\\frac{df}{dx}(x)$ ->')\n",
    "plt.title(\"Visualizing the root and the $\\\\frac{df}{dx}(x)$ value\")"
   ]
  },
  {
   "cell_type": "markdown",
   "id": "3c9380bc-408c-47d1-8e28-ca14002070f3",
   "metadata": {},
   "source": [
    "### Bisection Method\n",
    "\n",
    "The bisection method starts with the continuous objective function with an initial interval provided, given by $[x_l, x_r]$ such that the root lies in between them and the following condition is satisfied:\n",
    "\\begin{equation}\n",
    "    f(x_l)f(x_r) < 0 \\tag{3.73}\n",
    "\\end{equation}\n",
    "\n",
    "The method works by iteratively bisecting the interval and selecting the subinterval where Eq. (3.73) is satisfied for the newly chosen points. A new point $x_j \\in [x_l, x_r]$ is chosen according to the following:\n",
    "\\begin{equation}\n",
    "    x_j = \\frac{x_l+x_r}{2} \\tag{3.74}\n",
    "\\end{equation}\n",
    "\n",
    " \n",
    "The bisection method forms an integral part of the Brent’s method for root finding, which we will be discussing in the next section.\n",
    "\n",
    "#### Example 7 \n",
    "Let us consider an objective function, given by,\n",
    "\\begin{equation}\n",
    "    f(x) = x^3 - 2x - 2 \\tag{3.75}\n",
    "\\end{equation}\n",
    "\n",
    "\n",
    "We will find the root of this objective function using bisection method, given the initial interval is $[−1, 2]$ and the tolerance is $\\epsilon = 10^{-7}$. Let us first define the objective function and its first derivative in Python:\n"
   ]
  },
  {
   "cell_type": "code",
   "execution_count": 73,
   "id": "efc65c8a-61df-450d-ab07-8b07fcadb751",
   "metadata": {
    "execution": {
     "iopub.execute_input": "2024-11-05T13:35:58.599117Z",
     "iopub.status.busy": "2024-11-05T13:35:58.598119Z",
     "iopub.status.idle": "2024-11-05T13:35:58.613119Z",
     "shell.execute_reply": "2024-11-05T13:35:58.612118Z",
     "shell.execute_reply.started": "2024-11-05T13:35:58.598119Z"
    }
   },
   "outputs": [],
   "source": [
    "def f(x):\n",
    "    return x**3 - 2*x - 2\n",
    "\n",
    "fprime = grad(f)"
   ]
  },
  {
   "cell_type": "markdown",
   "id": "ad88f294-ba1f-42ea-8173-fa33502db1b4",
   "metadata": {},
   "source": [
    "The solver code looks similar like the previous solver codes and is written as:"
   ]
  },
  {
   "cell_type": "code",
   "execution_count": 74,
   "id": "fbd86751-1a6e-4d4d-b3dd-b7d4bde11e39",
   "metadata": {
    "execution": {
     "iopub.execute_input": "2024-11-05T13:35:59.924699Z",
     "iopub.status.busy": "2024-11-05T13:35:59.924699Z",
     "iopub.status.idle": "2024-11-05T13:35:59.941697Z",
     "shell.execute_reply": "2024-11-05T13:35:59.941697Z",
     "shell.execute_reply.started": "2024-11-05T13:35:59.924699Z"
    }
   },
   "outputs": [
    {
     "name": "stdout",
     "output_type": "stream",
     "text": [
      "      converged: True\n",
      "           flag: converged\n",
      " function_calls: 27\n",
      "     iterations: 25\n",
      "           root: 1.7692923843860626\n",
      "         method: bisect\n"
     ]
    }
   ],
   "source": [
    "def FP(x):\n",
    "    return f(x), fprime(x)\n",
    "\n",
    "sol = optimize.root_scalar(FP, bracket=[-1., 2.], fprime=True, xtol=10**-7, method='bisect')\n",
    "print(sol)"
   ]
  },
  {
   "cell_type": "markdown",
   "id": "0a77720f-984f-4bcf-9dc8-ecfcf6c79070",
   "metadata": {},
   "source": [
    "The plot of the optimization steps showing the convergence of the root, along with the root being denoted by the vertical broken blue line and its corresponding function value denoted by horizontal broken green line has been shown below:"
   ]
  },
  {
   "cell_type": "code",
   "execution_count": 75,
   "id": "50e593cf-5859-45e9-972b-2bc2a294ebbd",
   "metadata": {
    "execution": {
     "iopub.execute_input": "2024-11-05T13:36:00.998230Z",
     "iopub.status.busy": "2024-11-05T13:36:00.998230Z",
     "iopub.status.idle": "2024-11-05T13:36:01.016230Z",
     "shell.execute_reply": "2024-11-05T13:36:01.015231Z",
     "shell.execute_reply.started": "2024-11-05T13:36:00.998230Z"
    }
   },
   "outputs": [
    {
     "data": {
      "text/html": [
       "<div>\n",
       "<style scoped>\n",
       "    .dataframe tbody tr th:only-of-type {\n",
       "        vertical-align: middle;\n",
       "    }\n",
       "\n",
       "    .dataframe tbody tr th {\n",
       "        vertical-align: top;\n",
       "    }\n",
       "\n",
       "    .dataframe thead th {\n",
       "        text-align: right;\n",
       "    }\n",
       "</style>\n",
       "<table border=\"1\" class=\"dataframe\">\n",
       "  <thead>\n",
       "    <tr style=\"text-align: right;\">\n",
       "      <th></th>\n",
       "      <th>x</th>\n",
       "      <th>f</th>\n",
       "    </tr>\n",
       "  </thead>\n",
       "  <tbody>\n",
       "    <tr>\n",
       "      <th>0</th>\n",
       "      <td>-1.00000</td>\n",
       "      <td>-1.000000</td>\n",
       "    </tr>\n",
       "    <tr>\n",
       "      <th>1</th>\n",
       "      <td>2.00000</td>\n",
       "      <td>2.000000</td>\n",
       "    </tr>\n",
       "    <tr>\n",
       "      <th>2</th>\n",
       "      <td>0.50000</td>\n",
       "      <td>-2.875000</td>\n",
       "    </tr>\n",
       "    <tr>\n",
       "      <th>3</th>\n",
       "      <td>1.25000</td>\n",
       "      <td>-2.546875</td>\n",
       "    </tr>\n",
       "    <tr>\n",
       "      <th>4</th>\n",
       "      <td>1.62500</td>\n",
       "      <td>-0.958984</td>\n",
       "    </tr>\n",
       "    <tr>\n",
       "      <th>5</th>\n",
       "      <td>1.81250</td>\n",
       "      <td>0.329346</td>\n",
       "    </tr>\n",
       "    <tr>\n",
       "      <th>6</th>\n",
       "      <td>1.71875</td>\n",
       "      <td>-0.360138</td>\n",
       "    </tr>\n",
       "    <tr>\n",
       "      <th>7</th>\n",
       "      <td>1.76562</td>\n",
       "      <td>-0.027072</td>\n",
       "    </tr>\n",
       "    <tr>\n",
       "      <th>8</th>\n",
       "      <td>1.78906</td>\n",
       "      <td>0.148188</td>\n",
       "    </tr>\n",
       "    <tr>\n",
       "      <th>9</th>\n",
       "      <td>1.77734</td>\n",
       "      <td>0.059826</td>\n",
       "    </tr>\n",
       "    <tr>\n",
       "      <th>10</th>\n",
       "      <td>1.77148</td>\n",
       "      <td>0.016195</td>\n",
       "    </tr>\n",
       "    <tr>\n",
       "      <th>11</th>\n",
       "      <td>1.76855</td>\n",
       "      <td>-0.005484</td>\n",
       "    </tr>\n",
       "    <tr>\n",
       "      <th>12</th>\n",
       "      <td>1.77002</td>\n",
       "      <td>0.005381</td>\n",
       "    </tr>\n",
       "    <tr>\n",
       "      <th>13</th>\n",
       "      <td>1.76929</td>\n",
       "      <td>-0.000017</td>\n",
       "    </tr>\n",
       "    <tr>\n",
       "      <th>14</th>\n",
       "      <td>1.76965</td>\n",
       "      <td>0.002644</td>\n",
       "    </tr>\n",
       "    <tr>\n",
       "      <th>15</th>\n",
       "      <td>1.76947</td>\n",
       "      <td>0.001313</td>\n",
       "    </tr>\n",
       "    <tr>\n",
       "      <th>16</th>\n",
       "      <td>1.76938</td>\n",
       "      <td>0.000648</td>\n",
       "    </tr>\n",
       "    <tr>\n",
       "      <th>17</th>\n",
       "      <td>1.76933</td>\n",
       "      <td>0.000278</td>\n",
       "    </tr>\n",
       "    <tr>\n",
       "      <th>18</th>\n",
       "      <td>1.76931</td>\n",
       "      <td>0.000130</td>\n",
       "    </tr>\n",
       "    <tr>\n",
       "      <th>19</th>\n",
       "      <td>1.76930</td>\n",
       "      <td>0.000057</td>\n",
       "    </tr>\n",
       "    <tr>\n",
       "      <th>20</th>\n",
       "      <td>1.76929</td>\n",
       "      <td>-0.000017</td>\n",
       "    </tr>\n",
       "    <tr>\n",
       "      <th>21</th>\n",
       "      <td>1.76929</td>\n",
       "      <td>-0.000017</td>\n",
       "    </tr>\n",
       "    <tr>\n",
       "      <th>22</th>\n",
       "      <td>1.76929</td>\n",
       "      <td>-0.000017</td>\n",
       "    </tr>\n",
       "    <tr>\n",
       "      <th>23</th>\n",
       "      <td>1.76929</td>\n",
       "      <td>-0.000017</td>\n",
       "    </tr>\n",
       "    <tr>\n",
       "      <th>24</th>\n",
       "      <td>1.76929</td>\n",
       "      <td>-0.000017</td>\n",
       "    </tr>\n",
       "    <tr>\n",
       "      <th>25</th>\n",
       "      <td>1.76929</td>\n",
       "      <td>-0.000017</td>\n",
       "    </tr>\n",
       "    <tr>\n",
       "      <th>26</th>\n",
       "      <td>1.76929</td>\n",
       "      <td>-0.000017</td>\n",
       "    </tr>\n",
       "  </tbody>\n",
       "</table>\n",
       "</div>"
      ],
      "text/plain": [
       "          x         f\n",
       "0  -1.00000 -1.000000\n",
       "1   2.00000  2.000000\n",
       "2   0.50000 -2.875000\n",
       "3   1.25000 -2.546875\n",
       "4   1.62500 -0.958984\n",
       "5   1.81250  0.329346\n",
       "6   1.71875 -0.360138\n",
       "7   1.76562 -0.027072\n",
       "8   1.78906  0.148188\n",
       "9   1.77734  0.059826\n",
       "10  1.77148  0.016195\n",
       "11  1.76855 -0.005484\n",
       "12  1.77002  0.005381\n",
       "13  1.76929 -0.000017\n",
       "14  1.76965  0.002644\n",
       "15  1.76947  0.001313\n",
       "16  1.76938  0.000648\n",
       "17  1.76933  0.000278\n",
       "18  1.76931  0.000130\n",
       "19  1.76930  0.000057\n",
       "20  1.76929 -0.000017\n",
       "21  1.76929 -0.000017\n",
       "22  1.76929 -0.000017\n",
       "23  1.76929 -0.000017\n",
       "24  1.76929 -0.000017\n",
       "25  1.76929 -0.000017\n",
       "26  1.76929 -0.000017"
      ]
     },
     "execution_count": 75,
     "metadata": {},
     "output_type": "execute_result"
    }
   ],
   "source": [
    "my_list = [-1,2,0.5,1.25,1.625,1.8125,1.71875,1.76562,1.78906,1.77734,1.77148,1.76855,1.77002,1.76929,1.76965,1.76947,1.76938,1.76933,1.76931,1.7693,1.76929,1.76929,1.76929,1.76929,1.76929,1.76929,1.76929]\n",
    "df = pd.DataFrame(my_list, columns=['x'])\n",
    "df['f'] = f(df['x'])\n",
    "df"
   ]
  },
  {
   "cell_type": "code",
   "execution_count": 76,
   "id": "6b563f2d-cf23-46e8-b53a-682376ae5616",
   "metadata": {
    "execution": {
     "iopub.execute_input": "2024-11-05T13:36:02.994230Z",
     "iopub.status.busy": "2024-11-05T13:36:02.994230Z",
     "iopub.status.idle": "2024-11-05T13:36:03.183229Z",
     "shell.execute_reply": "2024-11-05T13:36:03.183229Z",
     "shell.execute_reply.started": "2024-11-05T13:36:02.994230Z"
    }
   },
   "outputs": [
    {
     "data": {
      "text/plain": [
       "Text(0.5, 1.0, 'optimization of $f(x) = x^3 - 2x - 2$')"
      ]
     },
     "execution_count": 76,
     "metadata": {},
     "output_type": "execute_result"
    },
    {
     "data": {
      "image/png": "[encoded data removed]",
      "text/plain": [
       "<Figure size 640x480 with 1 Axes>"
      ]
     },
     "metadata": {},
     "output_type": "display_data"
    }
   ],
   "source": [
    "plt.plot(np.linspace(-2, 2, 100), f(np.linspace(-2, 2, 100)), 'r-')\n",
    "plt.plot(df['x'], df['f'], 'ko-')\n",
    "plt.axvline(x=sol.root, color='b', linestyle='--')\n",
    "plt.axhline(y=f(sol.root), color='g', linestyle='--')\n",
    "plt.xlabel('x ->')\n",
    "plt.ylabel('f(x) ->')\n",
    "plt.title(\"optimization of $f(x) = x^3 - 2x - 2$\")"
   ]
  },
  {
   "cell_type": "markdown",
   "id": "433451d9-657a-4fc5-8c78-573450c64b4e",
   "metadata": {},
   "source": [
    "### Brent’s Method\n",
    "\n",
    "Originally developed by van Wijngaarden, Dekker, and others, the root finding algorithm was later improved by Brent and is called Brent’s method or more originally, Van Wijngaarden-Dekker-Brent method. This algorithm takes into account the concepts from root bracketing, the bisection method and the inverse quadratic polynomial interpolation method. For the initial three points given by $a, b, c \\in \\mathbb{R}$, and the nonlinear objective function given by $f(x)$, we can write the interpolation formula [refer Press et al, numerical recipes] as,\n",
    "\n",
    "\\begin{align}\n",
    "    x &=& \\frac{(y - f(a))(y - f(b))c}{(f(c) - f(a))(f(c) - f(b))} + \\frac{(y - f(b))(y-f(c))a}{(f(a) - f(b))(f(a) - f(c))} \\nonumber \\\\\n",
    "    &+& \\frac{(y-f(c))(y-f(a))b}{(f(b) - f(c))(f(b) - f(a))} \\tag{3.76}\n",
    "\\end{align}\n",
    "\n",
    "If $y$ is set to $0$, the next root can be estimated. This can be written as,\n",
    "\\begin{equation}\n",
    "    x = b + p/q \\tag{3.77}\n",
    "\\end{equation}\n",
    "\n",
    "where,\n",
    "\\begin{equation}\n",
    "    p = s(t(r - t)(c - b) - (1-r)(b-a)) \\tag{3.78}\n",
    "\\end{equation}\n",
    " \n",
    "and\n",
    "\\begin{equation}\n",
    "    q=(t-1)(r-1)(s-1) \\tag{3.79}\n",
    "\\end{equation}\n",
    "\n",
    " \n",
    "We have,\n",
    "\\begin{equation}\n",
    "    r = \\frac{f(b)}{f(c)} \\tag{3.80}\n",
    "\\end{equation}\n",
    "\n",
    " \n",
    "\n",
    "\\begin{equation}\n",
    "    s = \\frac{f(b)}{f(a)} \\tag{3.81}\n",
    "\\end{equation}\n",
    "\n",
    " \n",
    "\\begin{equation}\n",
    "    t = \\frac{f(a)}{f(c)} \\tag{3.82}\n",
    "\\end{equation}\n",
    "\n",
    "In Eq.(3.77), $b$ is the present best estimate of the root and $\\frac{p}{q}$ is an infinitesimal correction. "
   ]
  },
  {
   "cell_type": "markdown",
   "id": "6fe7106d-90c0-47da-b330-bcb0e81fa43b",
   "metadata": {},
   "source": [
    "Example 3.8 Let an objective function be:\n",
    "\\begin{equation}\n",
    "    f(x) = (x+3)(x-1)^2 \\tag{3.83}\n",
    "\\end{equation}\n",
    " \n",
    "We use Brent’s method for root finding to find the root of the objective function, given that, the initial interval is$[−4, 43]$ and the tolerance is $\\epsilon = 10^{-7}$. At first we define the objective function in Python and then write the solver code where the parameter ```method='brentq'``` should be set for the ```root_scalar()``` function and then we print the result."
   ]
  },
  {
   "cell_type": "code",
   "execution_count": 85,
   "id": "f30bdc70-d885-456e-940e-54b2d77d09ab",
   "metadata": {
    "execution": {
     "iopub.execute_input": "2024-11-03T08:48:00.074812Z",
     "iopub.status.busy": "2024-11-03T08:48:00.074812Z",
     "iopub.status.idle": "2024-11-03T08:48:00.113897Z",
     "shell.execute_reply": "2024-11-03T08:48:00.108814Z",
     "shell.execute_reply.started": "2024-11-03T08:48:00.074812Z"
    }
   },
   "outputs": [
    {
     "name": "stdout",
     "output_type": "stream",
     "text": [
      "      converged: True\n",
      "           flag: converged\n",
      " function_calls: 12\n",
      "     iterations: 11\n",
      "           root: -3.000000000000003\n",
      "         method: brentq\n"
     ]
    }
   ],
   "source": [
    "def f(x):\n",
    "    return (x+3)*(x-1)**2\n",
    "\n",
    "fprime = grad(f)\n",
    "\n",
    "def FP(x):\n",
    "    return f(x), fprime(x)\n",
    "    \n",
    "sol = optimize.root_scalar(FP, bracket=[-4., 4/3], fprime=True, xtol=10**-7, method='brentq')\n",
    "print(sol)"
   ]
  },
  {
   "cell_type": "code",
   "execution_count": 86,
   "id": "6ce561a9-3bce-4067-a7c6-24eee5bf8097",
   "metadata": {
    "execution": {
     "iopub.execute_input": "2024-11-03T08:49:08.383464Z",
     "iopub.status.busy": "2024-11-03T08:49:08.383464Z",
     "iopub.status.idle": "2024-11-03T08:49:08.405462Z",
     "shell.execute_reply": "2024-11-03T08:49:08.404462Z",
     "shell.execute_reply.started": "2024-11-03T08:49:08.383464Z"
    }
   },
   "outputs": [
    {
     "data": {
      "text/html": [
       "<div>\n",
       "<style scoped>\n",
       "    .dataframe tbody tr th:only-of-type {\n",
       "        vertical-align: middle;\n",
       "    }\n",
       "\n",
       "    .dataframe tbody tr th {\n",
       "        vertical-align: top;\n",
       "    }\n",
       "\n",
       "    .dataframe thead th {\n",
       "        text-align: right;\n",
       "    }\n",
       "</style>\n",
       "<table border=\"1\" class=\"dataframe\">\n",
       "  <thead>\n",
       "    <tr style=\"text-align: right;\">\n",
       "      <th></th>\n",
       "      <th>x</th>\n",
       "      <th>f</th>\n",
       "    </tr>\n",
       "  </thead>\n",
       "  <tbody>\n",
       "    <tr>\n",
       "      <th>0</th>\n",
       "      <td>-4.00000</td>\n",
       "      <td>-25.000000</td>\n",
       "    </tr>\n",
       "    <tr>\n",
       "      <th>1</th>\n",
       "      <td>1.33333</td>\n",
       "      <td>0.481471</td>\n",
       "    </tr>\n",
       "    <tr>\n",
       "      <th>2</th>\n",
       "      <td>1.23256</td>\n",
       "      <td>0.228914</td>\n",
       "    </tr>\n",
       "    <tr>\n",
       "      <th>3</th>\n",
       "      <td>1.14205</td>\n",
       "      <td>0.083579</td>\n",
       "    </tr>\n",
       "    <tr>\n",
       "      <th>4</th>\n",
       "      <td>-1.42897</td>\n",
       "      <td>9.268912</td>\n",
       "    </tr>\n",
       "    <tr>\n",
       "      <th>5</th>\n",
       "      <td>-2.71449</td>\n",
       "      <td>3.939306</td>\n",
       "    </tr>\n",
       "    <tr>\n",
       "      <th>6</th>\n",
       "      <td>-3.35724</td>\n",
       "      <td>-6.782394</td>\n",
       "    </tr>\n",
       "    <tr>\n",
       "      <th>7</th>\n",
       "      <td>-2.95064</td>\n",
       "      <td>0.770389</td>\n",
       "    </tr>\n",
       "    <tr>\n",
       "      <th>8</th>\n",
       "      <td>-3.00219</td>\n",
       "      <td>-0.035078</td>\n",
       "    </tr>\n",
       "    <tr>\n",
       "      <th>9</th>\n",
       "      <td>-2.99994</td>\n",
       "      <td>0.000960</td>\n",
       "    </tr>\n",
       "    <tr>\n",
       "      <th>10</th>\n",
       "      <td>-3.00000</td>\n",
       "      <td>0.000000</td>\n",
       "    </tr>\n",
       "    <tr>\n",
       "      <th>11</th>\n",
       "      <td>-3.00000</td>\n",
       "      <td>0.000000</td>\n",
       "    </tr>\n",
       "  </tbody>\n",
       "</table>\n",
       "</div>"
      ],
      "text/plain": [
       "          x          f\n",
       "0  -4.00000 -25.000000\n",
       "1   1.33333   0.481471\n",
       "2   1.23256   0.228914\n",
       "3   1.14205   0.083579\n",
       "4  -1.42897   9.268912\n",
       "5  -2.71449   3.939306\n",
       "6  -3.35724  -6.782394\n",
       "7  -2.95064   0.770389\n",
       "8  -3.00219  -0.035078\n",
       "9  -2.99994   0.000960\n",
       "10 -3.00000   0.000000\n",
       "11 -3.00000   0.000000"
      ]
     },
     "execution_count": 86,
     "metadata": {},
     "output_type": "execute_result"
    }
   ],
   "source": [
    "my_list8 =[-4,1.33333,1.23256,1.14205,-1.42897,-2.71449,-3.35724,-2.95064,-3.00219,-2.99994,-3,-3]\n",
    "#my_list6 = [-1.5,1,-0.0134601,-0.000165079,-7.41E-07,-4.97E-13]\n",
    "#my_list5 =[3.7,3.11936,3.00207,3]\n",
    "df = pd.DataFrame(my_list8, columns=['x'])\n",
    "df['f'] = f(df['x'])\n",
    "df"
   ]
  },
  {
   "cell_type": "markdown",
   "id": "0cc95d67-9308-4817-ab10-f5b491bb8287",
   "metadata": {},
   "source": [
    "The plot of the optimization steps showing the convergence of the root, along with the root being denoted by the vertical broken blue line and its corresponding function value denoted by horizontal broken green line has been shown below:"
   ]
  },
  {
   "cell_type": "code",
   "execution_count": 87,
   "id": "a96eba91-2631-48b0-ad0e-9cd64b48e942",
   "metadata": {
    "execution": {
     "iopub.execute_input": "2024-11-03T08:50:19.836857Z",
     "iopub.status.busy": "2024-11-03T08:50:19.835856Z",
     "iopub.status.idle": "2024-11-03T08:50:20.023855Z",
     "shell.execute_reply": "2024-11-03T08:50:20.022855Z",
     "shell.execute_reply.started": "2024-11-03T08:50:19.836857Z"
    }
   },
   "outputs": [
    {
     "data": {
      "text/plain": [
       "Text(0.5, 1.0, 'optimization of $f(x) = x^3 - 2x - 2$')"
      ]
     },
     "execution_count": 87,
     "metadata": {},
     "output_type": "execute_result"
    },
    {
     "data": {
      "image/png": "[encoded data removed]",
      "text/plain": [
       "<Figure size 640x480 with 1 Axes>"
      ]
     },
     "metadata": {},
     "output_type": "display_data"
    }
   ],
   "source": [
    "plt.plot(np.linspace(-5, 2, 100), f(np.linspace(-5, 2, 100)), 'r-')\n",
    "plt.plot(df['x'], df['f'], 'ko-')\n",
    "plt.axvline(x=sol.root, color='b', linestyle='--')\n",
    "plt.axhline(y=f(sol.root), color='g', linestyle='--')\n",
    "plt.xlabel('x ->')\n",
    "plt.ylabel('f(x) ->')\n",
    "plt.title(\"optimization of $f(x) = x^3 - 2x - 2$\")"
   ]
  },
  {
   "cell_type": "code",
   "execution_count": null,
   "id": "daebc089-11c9-4874-9a2b-c8268d321dad",
   "metadata": {},
   "outputs": [],
   "source": []
  }
 ],
 "metadata": {
  "kernelspec": {
   "display_name": "Python 3 (ipykernel)",
   "language": "python",
   "name": "python3"
  },
  "language_info": {
   "codemirror_mode": {
    "name": "ipython",
    "version": 3
   },
   "file_extension": ".py",
   "mimetype": "text/x-python",
   "name": "python",
   "nbconvert_exporter": "python",
   "pygments_lexer": "ipython3",
   "version": "3.10.12"
  }
 },
 "nbformat": 4,
 "nbformat_minor": 5
}
